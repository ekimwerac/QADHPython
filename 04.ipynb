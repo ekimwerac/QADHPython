{
 "cells": [
  {
   "cell_type": "markdown",
   "id": "619e47d3-2ab1-49e4-8503-d6a9b36dd61c",
   "metadata": {},
   "source": []
  },
  {
   "cell_type": "markdown",
   "id": "ad72eefe-6ac8-4893-8aec-fcd76a37058f",
   "metadata": {},
   "source": [
    "\n",
    "NumPy was introduced in 2006 to address the inefficiencies of Python in dealing with large amounts of data.\n",
    "- Written in C and FORTRAN.\n",
    "- Internal data structure uses C arrays.\n",
    "- Python API for seamless integration with Python.\n",
    "- Provides its own array types (ND-arrays).\n",
    "- Arrays retain most Python collection behaviours, so that it looks and feels ‘native’ to Python language.\n",
    "- Incorporates fast maths libraries, such as OpenBLAS (default, open source), for efficient linear algebraic operations (dot products, matrix multiply, etc.).\n",
    "\n",
    "Note: To use NumPy it is necessary to import it.\n",
    "```python\n",
    "import numpy as np\n",
    "```\n"
   ]
  },
  {
   "cell_type": "code",
   "execution_count": 5,
   "id": "c1b388da-89e3-4709-855c-79a2d577d447",
   "metadata": {
    "tags": []
   },
   "outputs": [],
   "source": [
    "import numpy as np"
   ]
  },
  {
   "cell_type": "markdown",
   "id": "ef41201e-5ae4-4402-b1f7-8fff2ac6e678",
   "metadata": {},
   "source": [
    "### ND-arrays\n",
    "## ND-arrays stands for N-dimensional arrays.\n",
    "- The basic data type in NumPy, intended to replace Python’s list.\n",
    "- Can be created from Python’s list using numpy.array().\n",
    "- nd-arrays are mutable.\n",
    "- numpy.arange() produces a sequence of numbers contained in an array."
   ]
  },
  {
   "cell_type": "code",
   "execution_count": 6,
   "id": "4e9c90c6-2636-4224-8b6d-69bf05c9e7b2",
   "metadata": {
    "tags": []
   },
   "outputs": [],
   "source": [
    "payment= np.array([6.99,12.4,75.00,1.55])"
   ]
  },
  {
   "cell_type": "markdown",
   "id": "800341ec-d54b-417f-bbb4-4cb004cf67b7",
   "metadata": {
    "tags": []
   },
   "source": [
    "## Creating a 1-dimentional array:\n",
    "```\n",
    "import numpy as np\n",
    "arr=np.array([1,3,5,7,9])\n",
    "print(arr)\n",
    "```"
   ]
  },
  {
   "cell_type": "code",
   "execution_count": 7,
   "id": "78c999fa-c04c-45c1-a617-45b3baa16985",
   "metadata": {
    "tags": []
   },
   "outputs": [
    {
     "name": "stdout",
     "output_type": "stream",
     "text": [
      "[1 3 5 7 9]\n"
     ]
    }
   ],
   "source": [
    "import numpy as np\n",
    "arr=np.array([1,3,5,7,9])\n",
    "print(arr)"
   ]
  },
  {
   "cell_type": "markdown",
   "id": "06a09b76-fdcb-495a-b9d3-6d3ddf18d805",
   "metadata": {
    "tags": []
   },
   "source": [
    "## Creating a 2-dimentional array:\n",
    "```\n",
    "import numpy as np\n",
    "arr=np.array([[1,3,5,7,9], [2,4,6,8]])\n",
    "print(arr2)\n",
    "```"
   ]
  },
  {
   "cell_type": "code",
   "execution_count": 1,
   "id": "d3516e50-27f4-4968-9d0e-dbd368ba4e66",
   "metadata": {
    "tags": []
   },
   "outputs": [
    {
     "name": "stdout",
     "output_type": "stream",
     "text": [
      "[[1 3 5 7]\n",
      " [2 4 6 8]]\n"
     ]
    }
   ],
   "source": [
    "import numpy as np\n",
    "arr2=np.array([[1,3,5,7], [2,4,6,8]])\n",
    "print(arr2)"
   ]
  },
  {
   "cell_type": "markdown",
   "id": "72b4db19-8189-4813-9819-e3442bb8a327",
   "metadata": {},
   "source": [
    "The ndim attribute returns the number of dimensions of the array:"
   ]
  },
  {
   "cell_type": "code",
   "execution_count": 20,
   "id": "cbc3fc7c-2ee9-4341-b8ba-558be8443560",
   "metadata": {
    "tags": []
   },
   "outputs": [
    {
     "data": {
      "text/plain": [
       "2"
      ]
     },
     "execution_count": 20,
     "metadata": {},
     "output_type": "execute_result"
    }
   ],
   "source": [
    "arr2.ndim"
   ]
  },
  {
   "cell_type": "markdown",
   "id": "c6de6c40-de31-40d7-b529-681f474480cc",
   "metadata": {},
   "source": [
    "### arange() creates an array with evenly spaced values.\n",
    "- start: The first value in the array.\n",
    "- stop: The number that defines the end of the array. It is not included in the array.\n",
    "- step: The spacing (difference) between each two consecutive values in the array. The default step is 1. Step cannot be zero.\n",
    "- dtype: The type of the elements of the output array. Defaults to None. If dtype is omitted, arange() will try to deduce the type of the array elements from the types of start, stop, and step."
   ]
  },
  {
   "cell_type": "code",
   "execution_count": 9,
   "id": "aab6f25d-d613-4f7d-9c41-26fedf20ae5d",
   "metadata": {
    "tags": []
   },
   "outputs": [
    {
     "name": "stdout",
     "output_type": "stream",
     "text": [
      "[1 3 5 7 9]\n"
     ]
    }
   ],
   "source": [
    "MyArray = np.arange(start=1, stop=10, step=2)\n",
    "print(MyArray)"
   ]
  },
  {
   "cell_type": "code",
   "execution_count": 27,
   "id": "2028365f-bd18-43e1-8af8-0539739b63ee",
   "metadata": {
    "tags": []
   },
   "outputs": [
    {
     "name": "stdout",
     "output_type": "stream",
     "text": [
      "[1 4 7]\n"
     ]
    }
   ],
   "source": [
    "MyArray = np.arange(start=1, stop=10, step=3)\n",
    "print(MyArray)"
   ]
  },
  {
   "cell_type": "markdown",
   "id": "8c65cdd1-db46-4633-8389-35c50f371de9",
   "metadata": {},
   "source": [
    "## All arrays can only contain elements of the same data type.\n",
    "- This is valid for ND-arrays too.\n",
    "- The type of the element in an array is recorded as a dtype object:\n",
    "- Standard Python data types can be used as dtypes: e.g., int, float, str.\n",
    "- dtype of an array can be obtained using array.dtype property.\n",
    "- We can perform type conversion using array.astype(new_type).\n",
    "- The new_type must be compatible with the original type of the elements.\n",
    "- If in doubt, NumPy automatically converts an array to an array of strings."
   ]
  },
  {
   "cell_type": "code",
   "execution_count": 29,
   "id": "edac0c40-a0f6-4f6b-9320-99bee649380a",
   "metadata": {
    "tags": []
   },
   "outputs": [
    {
     "name": "stdout",
     "output_type": "stream",
     "text": [
      "Original array: [1 2 3 4 5]\n",
      "New array with new type: [1. 2. 3. 4. 5.]\n"
     ]
    }
   ],
   "source": [
    "import numpy as np\n",
    "\n",
    "# Create a numpy array\n",
    "original_array = np.array([1, 2, 3, 4, 5])\n",
    "\n",
    "# Define the new type\n",
    "new_type = np.float64\n",
    "\n",
    "# Create a new array with the new type\n",
    "new_array = original_array.astype(new_type)\n",
    "\n",
    "# Print the original and new arrays\n",
    "print(\"Original array:\", original_array)\n",
    "print(\"New array with new type:\", new_array)\n"
   ]
  },
  {
   "cell_type": "markdown",
   "id": "42b4c715-3b53-466b-9925-d9b7d3061af3",
   "metadata": {},
   "source": [
    "## The built-in function len() does not work with nd-arrays.\n",
    "- To find out the size of a nd-array, use array.size property.\n",
    "- To find out the shape (size of each dimension) of an array, use array.shape property.\n",
    "- To change the shape of an array, use array.reshape().\n",
    "### Note: It is the programmer’s responsibility to make sure the new shape is compatible with the total number of elements."
   ]
  },
  {
   "cell_type": "markdown",
   "id": "f04b3547-1966-4ecb-9b9c-3e7525491665",
   "metadata": {},
   "source": [
    "The shape attribute returns a tuple with the number of elements in each dimension."
   ]
  },
  {
   "cell_type": "code",
   "execution_count": 11,
   "id": "b40e1305-5fe0-4055-be15-9d4339ddabc8",
   "metadata": {
    "tags": []
   },
   "outputs": [
    {
     "name": "stdout",
     "output_type": "stream",
     "text": [
      "Original array shape: (2, 6)\n",
      "[[ 1  3  5  7  9 11]\n",
      " [ 2  4  6  8 10 12]]\n",
      "New array shape: (3, 4)\n",
      "[[ 1  3  5  7]\n",
      " [ 9 11  2  4]\n",
      " [ 6  8 10 12]]\n"
     ]
    }
   ],
   "source": [
    "import numpy as np\n",
    "\n",
    "# Define the original numpy array\n",
    "arr2 = np.array([[1, 3, 5, 7, 9, 11], [2, 4, 6, 8, 10, 12]])\n",
    "\n",
    "# Print the shape of the original array\n",
    "print(\"Original array shape:\", arr2.shape)\n",
    "print(arr2)\n",
    "# Reshape the array to a 3x4 array\n",
    "arr3x4 = arr2.reshape(3, 4)\n",
    "\n",
    "# Print the shape of the new array\n",
    "print(\"New array shape:\", arr3x4.shape)\n",
    "print(arr3x4)\n"
   ]
  },
  {
   "cell_type": "markdown",
   "id": "2ddcaa00-6561-4613-af57-13b21fbdf1c2",
   "metadata": {},
   "source": [
    "# Broadcasting operations\n",
    "Broadcasting in NumPy allows operations to be performed on arrays of different shapes, such as scalar values or arrays with different dimensions. \n"
   ]
  },
  {
   "cell_type": "markdown",
   "id": "e2e64fe9-c668-40f2-8706-bef246b215ae",
   "metadata": {},
   "source": [
    "## Here's an example demonstrating broadcasting operations on the given arrays:"
   ]
  },
  {
   "cell_type": "code",
   "execution_count": 13,
   "id": "8e5ed88f-ef70-40b5-a534-4fc85e38996b",
   "metadata": {
    "tags": []
   },
   "outputs": [
    {
     "name": "stdout",
     "output_type": "stream",
     "text": [
      "Payments after subtracting transaction fee: [ 5.99 11.4  74.    0.55]\n",
      "Payments with VAT applied: [ 8.388 14.88  90.     1.86 ]\n"
     ]
    }
   ],
   "source": [
    "import numpy as np\n",
    "\n",
    "# Define the payments array\n",
    "payments = np.array([6.99, 12.40, 75.00, 1.55])\n",
    "\n",
    "# Define the transaction fee\n",
    "transaction_fee = 1.00\n",
    "\n",
    "# Subtract transaction_fee from payments using broadcasting\n",
    "payments_after_fee = payments - transaction_fee\n",
    "\n",
    "# Define the VAT (Value Added Tax) rate\n",
    "vat = 1.20\n",
    "\n",
    "# Multiply payments by VAT using broadcasting\n",
    "payments_with_vat = payments * vat\n",
    "\n",
    "# Print the results\n",
    "print(\"Payments after subtracting transaction fee:\", payments_after_fee)\n",
    "print(\"Payments with VAT applied:\", payments_with_vat)\n"
   ]
  },
  {
   "cell_type": "markdown",
   "id": "10bbd379-c2fa-4ac8-a9bc-2828d0b25e06",
   "metadata": {
    "tags": []
   },
   "source": [
    "## Broadcasting: Elementwise operators: ~ (NOT) & (AND) | (OR) ^ (XOR)"
   ]
  },
  {
   "cell_type": "markdown",
   "id": "91038e6f-3dcf-415c-b337-ebed232d7edf",
   "metadata": {},
   "source": [
    "### Example: <, > &\n",
    "You can use comparison operators (>, <) and the logical AND operator (&) to filter values in the payments array that are greater than 5.00 and less than 50.00:"
   ]
  },
  {
   "cell_type": "code",
   "execution_count": 60,
   "id": "9cb4e28e-0109-46a5-b483-9249a700edd7",
   "metadata": {
    "tags": []
   },
   "outputs": [
    {
     "name": "stdout",
     "output_type": "stream",
     "text": [
      "[ True  True  True False]\n",
      "[ True  True  True False]\n",
      "[ True  True False  True]\n"
     ]
    }
   ],
   "source": [
    "import numpy as np\n",
    "\n",
    "# Define the payments array\n",
    "payments = np.array([6.99, 12.40, 75.00, 1.55])\n",
    "x=payments>5.0\n",
    "print(x)\n",
    "print(payments > 5.00)\n",
    "print(payments < 50.00)"
   ]
  },
  {
   "cell_type": "markdown",
   "id": "33c501e0-2e56-4bdb-abb4-ba833e259b86",
   "metadata": {},
   "source": [
    "# Slicing and Dicing\n",
    "## Standard Python list slices:\n",
    "- array[i] obtains the i-th element.\n",
    "- array[n:m] obtains the elements array[n], array[n+1], …, array[m-1] in a new array.\n",
    "- array[I,j] obtains the element on row I and column j of a 2-dimensional array.\n",
    "## New to ND-arrays:\n",
    "### Cherry-picking\n",
    "- array[[2, 4, 5, 1]] obtains the elements array[2], array[4], array[5], array[1] in a new array.\n",
    "- Cherry picking list can be any Python iterator with integer elements.\n",
    "### Filtering\n",
    "```array[[True, True, False, … False, True]]``` obtains the elements from positions marked as True in a new array and omits those marked by False.\n",
    "- Filter list can be any Python iterator with Boolean elements, and its length must be the same as the array.\n",
    "- The filter list is usually computed rather than written by hand."
   ]
  },
  {
   "cell_type": "code",
   "execution_count": 3,
   "id": "60255fc1-480c-45fe-a8a1-82c241fc3beb",
   "metadata": {
    "tags": []
   },
   "outputs": [
    {
     "name": "stdout",
     "output_type": "stream",
     "text": [
      "1.  [ 6.99 12.4 ]\n",
      "2.  [75.    1.55]\n",
      "3.  [ 6.99 75.  ]\n",
      "4.  [ 6.99 12.4  75.  ]\n",
      "5.  [ 6.99 12.4   1.55]\n",
      "6. Filtered payments between 5.00 and 50.00: [ 6.99 12.4 ]\n",
      "7.  [ 6.99 12.4   1.55]\n"
     ]
    }
   ],
   "source": [
    "import numpy as np\n",
    "\n",
    "# Define the payments array\n",
    "payments = np.array([6.99, 12.40, 75.00, 1.55])\n",
    "\n",
    "print(\"1. \", payments[0:2])\n",
    "\n",
    "print(\"2. \", payments[2:])\n",
    "\n",
    "print(\"3. \", payments[[0,2]])\n",
    "\n",
    "gt5=payments[(payments > 5.0)]\n",
    "print(\"4. \", gt5)\n",
    "lt50=payments[(payments < 50.0)]\n",
    "print(\"5. \", lt50)\n",
    "# Filter payments greater than 5.00 and less than 50.00 using logical AND operator\n",
    "filtered_payments = payments[(payments > 5.00) & (payments < 50.00)]\n",
    "\n",
    "# Print the filtered payments\n",
    "print(\"6. Filtered payments between 5.00 and 50.00:\", filtered_payments)\n",
    "print(\"7. \", payments[(payments < 50.00)])\n"
   ]
  },
  {
   "cell_type": "markdown",
   "id": "ab76240c-3a48-4c8a-98ef-20df6a2a607f",
   "metadata": {},
   "source": [
    "# Mathematical & Statistical Methods\n",
    "## Functions acting on an entire array\n",
    "- numpy.all\n",
    "- numpy.any"
   ]
  },
  {
   "cell_type": "code",
   "execution_count": 98,
   "id": "41a03229-4aa3-46a0-b4e1-944a8efa443c",
   "metadata": {
    "tags": []
   },
   "outputs": [
    {
     "name": "stdout",
     "output_type": "stream",
     "text": [
      "1.  True\n",
      "2.  True\n"
     ]
    }
   ],
   "source": [
    "import numpy as np\n",
    "\n",
    "# Define the payments array\n",
    "payments = np.array([6.99, 12.40, 75.00, 1.55])\n",
    "np.all(payments > 1)\n",
    "print(\"1. \", np.all(payments > 1))\n",
    "np.any(payments<2)\n",
    "print(\"2. \", np.any(payments<2))"
   ]
  },
  {
   "cell_type": "code",
   "execution_count": 100,
   "id": "2956a9a5-bfab-46b6-a826-bcc5aa12b358",
   "metadata": {
    "tags": []
   },
   "outputs": [
    {
     "name": "stdout",
     "output_type": "stream",
     "text": [
      "Array:\n",
      "[ 6.99 12.4  75.    1.55]\n",
      "\n",
      "Sum: 95.94\n",
      "Minimum: 1.55\n",
      "Maximum: 75.0\n",
      "Mean: 23.985\n",
      "Median: 9.695\n",
      "Variance: 882.225425\n",
      "Standard Deviation: 29.702279794655492\n",
      "Correlation Coefficients:\n",
      "1.0\n"
     ]
    }
   ],
   "source": [
    "import numpy as np\n",
    "\n",
    "# Example numpy array\n",
    "payments = np.array([6.99, 12.40, 75.00, 1.55])\n",
    "\n",
    "# Statistical functions\n",
    "sum_result = np.sum(payments)\n",
    "min_result = np.min(payments)\n",
    "max_result = np.max(payments)\n",
    "mean_result = np.mean(payments)\n",
    "median_result = np.median(payments)\n",
    "var_result = np.var(payments)\n",
    "std_result = np.std(payments)\n",
    "corrcoef_result = np.corrcoef(payments)\n",
    "\n",
    "# Printing the results\n",
    "print(\"Array:\")\n",
    "print(payments)\n",
    "print(\"\\nSum:\", sum_result)\n",
    "print(\"Minimum:\", min_result)\n",
    "print(\"Maximum:\", max_result)\n",
    "print(\"Mean:\", mean_result)\n",
    "print(\"Median:\", median_result)\n",
    "print(\"Variance:\", var_result)\n",
    "print(\"Standard Deviation:\", std_result)\n",
    "print(\"Correlation Coefficients:\")\n",
    "print(corrcoef_result)\n",
    "\n"
   ]
  },
  {
   "cell_type": "markdown",
   "id": "a124c18d-c582-42e7-b3c4-3c83cd3e1e67",
   "metadata": {},
   "source": [
    "# Ufuncs\n",
    "### Universal functions\n",
    "- A universal function, or ufunc, is a function that performs element-wise operations on data in ndarrays.\n",
    "- they are fast!\n"
   ]
  },
  {
   "cell_type": "code",
   "execution_count": 103,
   "id": "4dbee559-8acc-47e6-be71-25004dc06c9c",
   "metadata": {
    "tags": []
   },
   "outputs": [
    {
     "name": "stdout",
     "output_type": "stream",
     "text": [
      "Array:\n",
      "[ 6.99 12.4  75.    1.55]\n",
      "\n",
      "numpy.sqrt(): [2.64386081 3.52136337 8.66025404 1.24498996]\n",
      "numpy.square(): [4.88601e+01 1.53760e+02 5.62500e+03 2.40250e+00]\n",
      "numpy.exp(): [1.08572148e+03 2.42801617e+05 3.73324200e+32 4.71147018e+00]\n",
      "numpy.log(): [1.94448056 2.51769647 4.31748811 0.43825493]\n",
      "numpy.sign(): [1. 1. 1. 1.]\n",
      "numpy.isnan(): [False False False False]\n",
      "numpy.sin(): [ 0.64941485 -0.16560418 -0.38778164  0.99978376]\n",
      "numpy.add(): [ 13.98  24.8  150.     3.1 ]\n"
     ]
    }
   ],
   "source": [
    "import numpy as np\n",
    "\n",
    "# Example numpy array\n",
    "payments = np.array([6.99, 12.40, 75.00, 1.55])\n",
    "\n",
    "# numpy.sqrt(): Compute the square root of each element in the array\n",
    "sqrt_result = np.sqrt(payments)\n",
    "\n",
    "# numpy.square(): Compute the square of each element in the array\n",
    "square_result = np.square(payments)\n",
    "\n",
    "# numpy.exp(): Compute the exponential of each element in the array (e^x)\n",
    "exp_result = np.exp(payments)\n",
    "\n",
    "# numpy.log(): Compute the natural logarithm (base e) of each element in the array\n",
    "log_result = np.log(payments)\n",
    "\n",
    "# numpy.sign(): Compute the sign of each element in the array (-1 if negative, 0 if zero, 1 if positive)\n",
    "sign_result = np.sign(payments)\n",
    "\n",
    "# numpy.isnan(): Check if each element in the array is NaN (Not a Number)\n",
    "isnan_result = np.isnan(payments)\n",
    "\n",
    "# numpy.sin(): Compute the sine of each element in the array\n",
    "sin_result = np.sin(payments)\n",
    "\n",
    "# numpy.add(): Add two arrays element-wise\n",
    "add_result = np.add(payments, payments)  # Just demonstrating numpy.add() with itself for simplicity\n",
    "\n",
    "# Printing the results\n",
    "print(\"Array:\")\n",
    "print(payments)\n",
    "print(\"\\nnumpy.sqrt():\", sqrt_result)\n",
    "print(\"numpy.square():\", square_result)\n",
    "print(\"numpy.exp():\", exp_result)\n",
    "print(\"numpy.log():\", log_result)\n",
    "print(\"numpy.sign():\", sign_result)\n",
    "print(\"numpy.isnan():\", isnan_result)\n",
    "print(\"numpy.sin():\", sin_result)\n",
    "print(\"numpy.add():\", add_result)\n"
   ]
  },
  {
   "cell_type": "markdown",
   "id": "030059f5-ca14-46d3-be58-dd302369e09d",
   "metadata": {},
   "source": [
    "### These universal functions perform element-wise operations on arrays:\n",
    "\n",
    "- numpy.sqrt(): Computes the square root of each element in the array.\n",
    "- numpy.square(): Computes the square of each element in the array.\n",
    "- numpy.exp(): Computes the exponential of each element in the array.\n",
    "- numpy.log(): Computes the natural logarithm (base e) of each element in the array.\n",
    "- numpy.sign(): Computes the sign of each element in the array (-1 if negative, 0 if zero, 1 if positive).\n",
    "- numpy.isnan(): Checks if each element in the array is NaN (Not a Number).\n",
    "- numpy.sin(): Computes the sine of each element in the array.\n",
    "- numpy.add(): Adds two arrays element-wise."
   ]
  },
  {
   "cell_type": "code",
   "execution_count": null,
   "id": "018dc335-be29-4c8d-9312-ee261764cba3",
   "metadata": {},
   "outputs": [],
   "source": []
  }
 ],
 "metadata": {
  "kernelspec": {
   "display_name": "Python 3 (ipykernel)",
   "language": "python",
   "name": "python3"
  },
  "language_info": {
   "codemirror_mode": {
    "name": "ipython",
    "version": 3
   },
   "file_extension": ".py",
   "mimetype": "text/x-python",
   "name": "python",
   "nbconvert_exporter": "python",
   "pygments_lexer": "ipython3",
   "version": "3.11.7"
  }
 },
 "nbformat": 4,
 "nbformat_minor": 5
}
