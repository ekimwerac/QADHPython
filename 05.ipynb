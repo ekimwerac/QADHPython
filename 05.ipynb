{
 "cells": [
  {
   "cell_type": "markdown",
   "id": "e868b9d1-3ca5-4a35-aeee-f65cfdc0a3a8",
   "metadata": {},
   "source": [
    "# Pandas\n",
    "1. Pandas is Python’s ETL package for structured data.\n",
    "1. Built on top of NumPy, designed to mimic the functionality of R DataFrames.\n",
    "1. Provides a convenient way to handle tabular data.\n",
    "1. Can perform all SQL functionalities, including group-by and join.\n",
    "1. Compatible with many other data science packages, including visualisation packages such as Matplotlib and Seaborn.\n",
    "1. Defines two main data types:\n",
    "- pandas.Series\n",
    "- pandas.DataFrame"
   ]
  },
  {
   "cell_type": "markdown",
   "id": "a8119229-776b-427b-af5d-71e45486dad7",
   "metadata": {},
   "source": [
    "# Series\n",
    "### A Series is a one-dimensional, single type array.\n",
    " - Represents a column in a table.\n",
    "### It consists of two NumPy arrays:\n",
    " - Index array\n",
    " - Values array\n",
    "### Each element has a unique index (ID).\n",
    " - Indices do not have to be sequential.\n",
    " - Like primary keys."
   ]
  },
  {
   "cell_type": "markdown",
   "id": "9087a199-1f99-4561-bd63-e879f7d90b99",
   "metadata": {},
   "source": [
    "## A Pandas Series can be created from a Python list or a NumPy array:\n",
    "```python\n",
    "import pandas as pd\n",
    "x = [1,3,5,7]\n",
    "mySeries = pd.Series(x)\n",
    "print(mySeries)\n",
    "```\n",
    "The index starts from 0 and increases by 1 for each subsequent element in the Series.\n",
    "The index is used to access the corresponding value.\n",
    "```python\n",
    "print(mySeries[1])\n",
    "```\n",
    "Output:\n",
    "```\n",
    "3\n",
    "```\n"
   ]
  },
  {
   "cell_type": "code",
   "execution_count": 5,
   "id": "1b3b6a01-ecc7-4093-8027-92ff94728ffd",
   "metadata": {
    "tags": []
   },
   "outputs": [
    {
     "name": "stdout",
     "output_type": "stream",
     "text": [
      "0    1\n",
      "1    3\n",
      "2    5\n",
      "3    7\n",
      "dtype: int64\n",
      "RangeIndex(start=0, stop=4, step=1)\n",
      "[1 3 5 7]\n"
     ]
    }
   ],
   "source": [
    "import pandas as pd\n",
    "x = [1,3,5,7]\n",
    "mySeries = pd.Series(x)\n",
    "print(mySeries)\n",
    "print(mySeries.index)\n",
    "print(mySeries.values)\n"
   ]
  },
  {
   "cell_type": "code",
   "execution_count": 13,
   "id": "1c6aa62b-4194-4524-93eb-79d46aefadd6",
   "metadata": {
    "tags": []
   },
   "outputs": [
    {
     "name": "stdout",
     "output_type": "stream",
     "text": [
      "3\n"
     ]
    }
   ],
   "source": [
    "import pandas as pd\n",
    "x = [1,3,5,7]\n",
    "mySeries = pd.Series(x)\n",
    "print(mySeries[1])"
   ]
  },
  {
   "cell_type": "markdown",
   "id": "3e8d2152-b22f-459b-9a13-76ac475a272c",
   "metadata": {},
   "source": [
    "# Querying Series\n",
    "Series can be used like an array, except the indices must\n",
    "correspond to the elements in the index array.\n",
    "- **series.index** returns the index array.\n",
    "- **series.values** returns the values array.\n",
    "- **series[ind]** is equivalent to series.loc[ind], returns the\n",
    "element in the series with ID equal to ind.\n",
    "- **series.iloc[i]** returns the i-th element in the series."
   ]
  },
  {
   "cell_type": "markdown",
   "id": "e1e66350-950e-4660-b59b-29ff581ab79c",
   "metadata": {},
   "source": [
    "# pandas **loc** and **iloc** compared\n",
    "\n",
    "Note: `iloc` and `loc` are both indexing methods in pandas, but they have different purposes and syntax.\n",
    "\n",
    "**`iloc`**:\n",
    "\n",
    "- `iloc` is primarily used for integer-location based indexing, meaning you use integer positions to select data.\n",
    "- It allows you to select rows and columns by their integer index positions.\n",
    "- You can pass single integers, slices, lists, or boolean arrays.\n",
    "- The syntax is `dataframe.iloc[row_index, column_index]` or `series.iloc[index]` for a pandas Series.\n",
    "- For example:\n",
    "```python\n",
    "  import pandas as pd\n",
    "  \n",
    "  # Create a Series\n",
    "  s = pd.Series([1, 2, 3, 4, 5])\n",
    "  \n",
    "  # Select the value at position 2\n",
    "  print(s.iloc[2])  # Output: 3\n",
    "```\n",
    "\n",
    "**`loc`**:\n",
    "\n",
    "- `loc` is primarily label-based indexing, meaning you use the labels of rows and columns to select data.\n",
    "- It allows you to select rows and columns by their labels (index and column names).\n",
    "- You can pass single labels, lists of labels, slices, or boolean arrays.\n",
    "- The syntax is `dataframe.loc[row_label, column_label]` or `series.loc[label]` for a pandas Series.\n",
    "- For example:\n",
    "```python\n",
    "  import pandas as pd\n",
    "  \n",
    "  # Create a Series with custom index\n",
    "  s = pd.Series([1, 2, 3, 4, 5], index=['a', 'b', 'c', 'd', 'e'])\n",
    "  \n",
    "  # Select the value with index label 'c'\n",
    "  print(s.loc['c'])  # Output: 3\n",
    "```\n",
    "\n",
    "In summary:\n",
    "\n",
    "- Use `iloc` when you want to select data by integer position.\n",
    "- Use `loc` when you want to select data by label."
   ]
  },
  {
   "cell_type": "markdown",
   "id": "e6648b60-c9ea-4028-bac7-0147b3bf7222",
   "metadata": {},
   "source": [
    "# Querying Series\n",
    "```python\n",
    "import pandas as pd\n",
    "X=[1, 3, 5, 7]\n",
    "mySeries=pd.Series(X,index=[9,8,7,6])\n",
    "print(mySeries)\n",
    "```"
   ]
  },
  {
   "cell_type": "code",
   "execution_count": 33,
   "id": "962a2b83-0275-43ea-ab2c-8ebc090467d6",
   "metadata": {
    "tags": []
   },
   "outputs": [
    {
     "name": "stdout",
     "output_type": "stream",
     "text": [
      "9    1\n",
      "8    3\n",
      "7    5\n",
      "6    7\n",
      "dtype: int64\n"
     ]
    }
   ],
   "source": [
    "import pandas as pd\n",
    "X=[1, 3, 5, 7]\n",
    "mySeries=pd.Series(X,index=[9,8,7,6])\n",
    "print(mySeries)\n",
    "\n"
   ]
  },
  {
   "cell_type": "code",
   "execution_count": 35,
   "id": "c47fb4e1-90be-4f6a-acd9-64b045459349",
   "metadata": {
    "tags": []
   },
   "outputs": [
    {
     "data": {
      "text/plain": [
       "Index([9, 8, 7, 6], dtype='int64')"
      ]
     },
     "execution_count": 35,
     "metadata": {},
     "output_type": "execute_result"
    }
   ],
   "source": [
    "mySeries.index"
   ]
  },
  {
   "cell_type": "code",
   "execution_count": 37,
   "id": "5b7c10c8-c82a-4128-b0e6-72effe9553b9",
   "metadata": {
    "tags": []
   },
   "outputs": [
    {
     "data": {
      "text/plain": [
       "array([1, 3, 5, 7], dtype=int64)"
      ]
     },
     "execution_count": 37,
     "metadata": {},
     "output_type": "execute_result"
    }
   ],
   "source": [
    "mySeries.values"
   ]
  },
  {
   "cell_type": "code",
   "execution_count": 39,
   "id": "8fd7dbfc-8586-46bf-adfb-7fbc4b7f038e",
   "metadata": {
    "tags": []
   },
   "outputs": [
    {
     "data": {
      "text/plain": [
       "5"
      ]
     },
     "execution_count": 39,
     "metadata": {},
     "output_type": "execute_result"
    }
   ],
   "source": [
    "mySeries.loc[7]"
   ]
  },
  {
   "cell_type": "code",
   "execution_count": 41,
   "id": "8d4123f5-206d-4b9a-956f-6f1aef403a32",
   "metadata": {
    "tags": []
   },
   "outputs": [
    {
     "data": {
      "text/plain": [
       "1"
      ]
     },
     "execution_count": 41,
     "metadata": {},
     "output_type": "execute_result"
    }
   ],
   "source": [
    "mySeries.iloc[0]"
   ]
  },
  {
   "cell_type": "markdown",
   "id": "a1129b8e-ef08-4adf-b6a6-f3dfa8821cc3",
   "metadata": {},
   "source": [
    "# DataFrame\n",
    "### A Pandas DataFrame represents a table, and it contains:\n",
    "  - data in the form of rows and columns\n",
    "  - RowIDs (the index array, i.e. primary key)\n",
    "  - Column names (ID of the columns).\n",
    "Equivalent to collection of Series\n",
    "  - The row indices start from 0 (default) and increase by 1\n",
    "DataFrames are the data structures most suitable for analytics.\n",
    "  - Rows represent observations\n",
    "  - columns represent attributes of different data types."
   ]
  },
  {
   "cell_type": "markdown",
   "id": "c27aceb1-4617-42e3-9cf5-08a9a8e60421",
   "metadata": {
    "tags": []
   },
   "source": [
    "# Creating dataFrames\n",
    "- from Python lists or NumPy arrays:"
   ]
  },
  {
   "cell_type": "code",
   "execution_count": 50,
   "id": "d5e1fe3a-ace5-4a92-9cd3-2e3a84d78e88",
   "metadata": {
    "tags": []
   },
   "outputs": [
    {
     "name": "stdout",
     "output_type": "stream",
     "text": [
      "   age  height  weight\n",
      "0   34    1.78      75\n",
      "1   42    1.82      80\n",
      "2   27    1.75      70\n"
     ]
    }
   ],
   "source": [
    "data = {\n",
    "    \"age\": [34, 42, 27],\n",
    "    \"height\": [1.78,1.82, 1.75],\n",
    "    \"weight\": [75,80,70]\n",
    "}\n",
    "df= pd.DataFrame(data)\n",
    "print(df)"
   ]
  },
  {
   "cell_type": "markdown",
   "id": "06808a0d-3656-49f9-9bb3-798f1d9485cf",
   "metadata": {},
   "source": [
    "- Use a dictionary with Column Names as keys and a list of the row values\n",
    "- Creating from CSV file:\n",
    "```python\n",
    "pandas.read_csv(csv_file_name)\n",
    "```\n",
    "  - the first row is used for column names"
   ]
  },
  {
   "cell_type": "markdown",
   "id": "8b28c637-2542-49d5-8f49-f7de4c53bf02",
   "metadata": {},
   "source": [
    "# Reading CSV files\n",
    "read_csv reads a comma delimited file into a DataFrame.\n",
    " - Can pass a path or URL to be read from.\n",
    " - Parameters control how to read.\n",
    "   - e.g., whether to parse dates or not.\n"
   ]
  },
  {
   "cell_type": "code",
   "execution_count": 1,
   "id": "34ab4038-f94d-4890-9948-06d940638958",
   "metadata": {
    "tags": []
   },
   "outputs": [
    {
     "data": {
      "text/html": [
       "<div>\n",
       "<style scoped>\n",
       "    .dataframe tbody tr th:only-of-type {\n",
       "        vertical-align: middle;\n",
       "    }\n",
       "\n",
       "    .dataframe tbody tr th {\n",
       "        vertical-align: top;\n",
       "    }\n",
       "\n",
       "    .dataframe thead th {\n",
       "        text-align: right;\n",
       "    }\n",
       "</style>\n",
       "<table border=\"1\" class=\"dataframe\">\n",
       "  <thead>\n",
       "    <tr style=\"text-align: right;\">\n",
       "      <th></th>\n",
       "      <th>ID</th>\n",
       "      <th>Income</th>\n",
       "      <th>Term</th>\n",
       "      <th>Balance</th>\n",
       "      <th>Debt</th>\n",
       "      <th>Score</th>\n",
       "      <th>Default</th>\n",
       "    </tr>\n",
       "  </thead>\n",
       "  <tbody>\n",
       "    <tr>\n",
       "      <th>0</th>\n",
       "      <td>567</td>\n",
       "      <td>17500</td>\n",
       "      <td>Short Term</td>\n",
       "      <td>1460</td>\n",
       "      <td>272</td>\n",
       "      <td>225.0</td>\n",
       "      <td>False</td>\n",
       "    </tr>\n",
       "    <tr>\n",
       "      <th>1</th>\n",
       "      <td>523</td>\n",
       "      <td>18500</td>\n",
       "      <td>Long Term</td>\n",
       "      <td>890</td>\n",
       "      <td>970</td>\n",
       "      <td>187.0</td>\n",
       "      <td>False</td>\n",
       "    </tr>\n",
       "  </tbody>\n",
       "</table>\n",
       "</div>"
      ],
      "text/plain": [
       "    ID  Income        Term  Balance  Debt  Score  Default\n",
       "0  567   17500  Short Term     1460   272  225.0    False\n",
       "1  523   18500   Long Term      890   970  187.0    False"
      ]
     },
     "execution_count": 1,
     "metadata": {},
     "output_type": "execute_result"
    }
   ],
   "source": [
    "import pandas as pd\n",
    "df = pd.read_csv(\"data/loan_data.csv\")\n",
    "df[:2]\n"
   ]
  },
  {
   "cell_type": "markdown",
   "id": "32d6cbd3-8b29-40ef-b58f-2afb43f0c32c",
   "metadata": {},
   "source": [
    "# Reading XML & JSON\n",
    " - read_json reads a JSON file into a DataFrame.\n",
    " - read_xml reads a XML file into a DataFrame.\n",
    " - Can pass a path or URL to be read from.\n",
    " - Parameters control how to read."
   ]
  },
  {
   "cell_type": "code",
   "execution_count": null,
   "id": "b6707e17-8249-489e-bd19-adcb3d0f7fdb",
   "metadata": {},
   "outputs": [],
   "source": [
    "# JSON file for this example: \"data/weather_data.json\"\n",
    "{\n",
    "  \"day\": {\n",
    "    \"0\": \"2023-07-15\", \"1\": \"2023-07-16\",\n",
    "    \"2\": \"2023-07-17\", \"3\": \"2023-07-18\",\n",
    "    \"4\": \"2023-07-19\", \"5\": \"2023-07-20\",\n",
    "    \"6\": \"2023-07-21\", \"7\": \"2023-07-22\",\n",
    "    \"8\": \"2023-07-23\", \"9\": \"2023-07-24\"\n",
    "  },\n",
    "  \"temp\": {\n",
    "    \"0\": 15.68, \"1\": 25.16,\n",
    "    \"2\": 13.26, \"3\": 24.63,\n",
    "    \"4\": 12.78, \"5\": 23.52,\n",
    "    \"6\": 17.8, \"7\": 24.98,\n",
    "    \"8\": 23.48, \"9\": 23.3\n",
    "  },\n",
    "  \"humidity\": {\n",
    "    \"0\": 73.18, \"1\": 83.88,\n",
    "    \"2\": 80.05, \"3\": 82.37,\n",
    "    \"4\": 83.1, \"5\": 85.35,\n",
    "    \"6\": 85.64, \"7\": 76.81,\n",
    "    \"8\": 80.86, \"9\": 79.96\n",
    "  },\n",
    "  \"sun_hrs\": {\n",
    "    \"0\": 6.4, \"1\": 8.06,\n",
    "    \"2\": 4.89, \"3\": 9.13,\n",
    "    \"4\": 17.1, \"5\": 0.72,\n",
    "    \"6\": 5.79, \"7\": 10.95,\n",
    "    \"8\": 3.77, \"9\": 14.62\n",
    "  }\n",
    "}"
   ]
  },
  {
   "cell_type": "code",
   "execution_count": 79,
   "id": "81665e85-b2e9-4cee-afef-685622d307ef",
   "metadata": {
    "tags": []
   },
   "outputs": [
    {
     "data": {
      "text/html": [
       "<div>\n",
       "<style scoped>\n",
       "    .dataframe tbody tr th:only-of-type {\n",
       "        vertical-align: middle;\n",
       "    }\n",
       "\n",
       "    .dataframe tbody tr th {\n",
       "        vertical-align: top;\n",
       "    }\n",
       "\n",
       "    .dataframe thead th {\n",
       "        text-align: right;\n",
       "    }\n",
       "</style>\n",
       "<table border=\"1\" class=\"dataframe\">\n",
       "  <thead>\n",
       "    <tr style=\"text-align: right;\">\n",
       "      <th></th>\n",
       "      <th>day</th>\n",
       "      <th>temp</th>\n",
       "      <th>humidity</th>\n",
       "      <th>sun_hrs</th>\n",
       "    </tr>\n",
       "  </thead>\n",
       "  <tbody>\n",
       "    <tr>\n",
       "      <th>0</th>\n",
       "      <td>2023-07-15</td>\n",
       "      <td>15.68</td>\n",
       "      <td>73.18</td>\n",
       "      <td>6.40</td>\n",
       "    </tr>\n",
       "    <tr>\n",
       "      <th>1</th>\n",
       "      <td>2023-07-16</td>\n",
       "      <td>25.16</td>\n",
       "      <td>83.88</td>\n",
       "      <td>8.06</td>\n",
       "    </tr>\n",
       "    <tr>\n",
       "      <th>2</th>\n",
       "      <td>2023-07-17</td>\n",
       "      <td>13.26</td>\n",
       "      <td>80.05</td>\n",
       "      <td>4.89</td>\n",
       "    </tr>\n",
       "    <tr>\n",
       "      <th>3</th>\n",
       "      <td>2023-07-18</td>\n",
       "      <td>24.63</td>\n",
       "      <td>82.37</td>\n",
       "      <td>9.13</td>\n",
       "    </tr>\n",
       "    <tr>\n",
       "      <th>4</th>\n",
       "      <td>2023-07-19</td>\n",
       "      <td>12.78</td>\n",
       "      <td>83.10</td>\n",
       "      <td>17.10</td>\n",
       "    </tr>\n",
       "    <tr>\n",
       "      <th>5</th>\n",
       "      <td>2023-07-20</td>\n",
       "      <td>23.52</td>\n",
       "      <td>85.35</td>\n",
       "      <td>0.72</td>\n",
       "    </tr>\n",
       "    <tr>\n",
       "      <th>6</th>\n",
       "      <td>2023-07-21</td>\n",
       "      <td>17.80</td>\n",
       "      <td>85.64</td>\n",
       "      <td>5.79</td>\n",
       "    </tr>\n",
       "    <tr>\n",
       "      <th>7</th>\n",
       "      <td>2023-07-22</td>\n",
       "      <td>24.98</td>\n",
       "      <td>76.81</td>\n",
       "      <td>10.95</td>\n",
       "    </tr>\n",
       "    <tr>\n",
       "      <th>8</th>\n",
       "      <td>2023-07-23</td>\n",
       "      <td>23.48</td>\n",
       "      <td>80.86</td>\n",
       "      <td>3.77</td>\n",
       "    </tr>\n",
       "    <tr>\n",
       "      <th>9</th>\n",
       "      <td>2023-07-24</td>\n",
       "      <td>23.30</td>\n",
       "      <td>79.96</td>\n",
       "      <td>14.62</td>\n",
       "    </tr>\n",
       "  </tbody>\n",
       "</table>\n",
       "</div>"
      ],
      "text/plain": [
       "          day   temp  humidity  sun_hrs\n",
       "0  2023-07-15  15.68     73.18     6.40\n",
       "1  2023-07-16  25.16     83.88     8.06\n",
       "2  2023-07-17  13.26     80.05     4.89\n",
       "3  2023-07-18  24.63     82.37     9.13\n",
       "4  2023-07-19  12.78     83.10    17.10\n",
       "5  2023-07-20  23.52     85.35     0.72\n",
       "6  2023-07-21  17.80     85.64     5.79\n",
       "7  2023-07-22  24.98     76.81    10.95\n",
       "8  2023-07-23  23.48     80.86     3.77\n",
       "9  2023-07-24  23.30     79.96    14.62"
      ]
     },
     "execution_count": 79,
     "metadata": {},
     "output_type": "execute_result"
    }
   ],
   "source": [
    "import pandas as pd\n",
    "df = pd.read_json(\"data/weather_data.json\")\n",
    "df"
   ]
  },
  {
   "cell_type": "markdown",
   "id": "fd69045f-2816-4399-99a4-8a61aed4f4e9",
   "metadata": {},
   "source": [
    "# Querying SQL Tables\n",
    "```read_sql``` reads the result of a SQL query into a DataFrame.\n",
    " - Requires appropriate connection to be set up.\n",
    "  - Including correct credentials.\n"
   ]
  },
  {
   "cell_type": "code",
   "execution_count": null,
   "id": "2d9f7541-4a25-4035-abd5-9ceaa10b8d78",
   "metadata": {},
   "outputs": [],
   "source": [
    "db_conn = sqlite3.connect(r\"movies_db.sqlite\")\n",
    "df = pd.read_sql(r\"SELECT * FROM movies\", db_conn)\n",
    "df\n"
   ]
  },
  {
   "cell_type": "markdown",
   "id": "492620de-fcca-4f56-971a-9b237039ae04",
   "metadata": {},
   "source": [
    "# Changing Types\n",
    "## Changing Column Types\n",
    "- Ensuring data is of the correct type is important, both technically and statistically.\n",
    "- The astype method can be used to do this to Series and DataFrames.\n"
   ]
  },
  {
   "cell_type": "code",
   "execution_count": 19,
   "id": "262349e3-c543-4171-b1f1-c0488f92429a",
   "metadata": {
    "tags": []
   },
   "outputs": [
    {
     "data": {
      "text/plain": [
       "0    567\n",
       "1    523\n",
       "2    544\n",
       "3    370\n",
       "4    756\n",
       "Name: ID, dtype: int64"
      ]
     },
     "execution_count": 19,
     "metadata": {},
     "output_type": "execute_result"
    }
   ],
   "source": [
    "import pandas as pd\n",
    "df=pd.read_csv(\"data/loan_data.csv\")\n",
    "df['ID'].head()\n"
   ]
  },
  {
   "cell_type": "code",
   "execution_count": 85,
   "id": "4dca88a8-8740-4703-ac2f-cc4ee8e30dcc",
   "metadata": {
    "tags": []
   },
   "outputs": [
    {
     "data": {
      "text/plain": [
       "0    567\n",
       "1    523\n",
       "2    544\n",
       "3    370\n",
       "4    756\n",
       "Name: ID, dtype: object"
      ]
     },
     "execution_count": 85,
     "metadata": {},
     "output_type": "execute_result"
    }
   ],
   "source": [
    "df['ID'].astype(\"U\").head()"
   ]
  },
  {
   "cell_type": "markdown",
   "id": "2ca18806-7b73-4c5c-9b9b-d078e14b9bdf",
   "metadata": {},
   "source": [
    "# Note\n",
    "In Python, both single quotes (`'`) and double quotes (`\"`) can be used interchangeably to define string literals. So, when specifying the target dtype using the `astype()` method, you can use either single quotes or double quotes for string representations of the dtype.\n",
    "\n",
    "For example, the following two lines are equivalent:\n",
    "\n",
    "```python\n",
    "df['A'] = df['A'].astype('U')\n",
    "df['A'] = df['A'].astype(\"U\")\n",
    "```\n",
    "\n",
    "Both lines will achieve the same result: converting the data type of column 'A' to Unicode strings."
   ]
  },
  {
   "cell_type": "markdown",
   "id": "831c7bc1-34b5-479a-bd76-6b254d2f58ec",
   "metadata": {},
   "source": [
    "The `head()` method in pandas is used to display the first few rows of a DataFrame. By default, it displays the first 5 rows, but you can specify the number of rows you want to display by passing an integer argument to the method.\n",
    "\n",
    "Here's the syntax:\n",
    "```python\n",
    "DataFrame.head(n=5)\n",
    "```\n",
    "\n",
    "- `n`: This argument specifies the number of rows to display from the beginning of the DataFrame. By default, it is set to `5`.\n",
    "\n",
    "For example:\n",
    "```python\n",
    "import pandas as pd\n",
    "\n",
    "# Sample DataFrame\n",
    "df = pd.DataFrame({'A': [1, 2, 3, 4, 5],\n",
    "                   'B': ['a', 'b', 'c', 'd', 'e'],\n",
    "                   'C': [True, False, True, False, True]})\n",
    "\n",
    "# Display the first 3 rows\n",
    "print(df.head(3))\n",
    "```\n",
    "\n",
    "Output:\n",
    "```\n",
    "   A  B      C\n",
    "0  1  a   True\n",
    "1  2  b  False\n",
    "2  3  c   True\n",
    "```\n",
    "\n",
    "In this example, `df.head(3)` displays the first 3 rows of the DataFrame `df`. If you omit the argument (`n`), it defaults to `5`, and `df.head()` would display the first 5 rows. This is particularly useful for quickly inspecting the structure and contents of a DataFrame without printing the entire DataFrame, especially when dealing with large datasets."
   ]
  },
  {
   "cell_type": "code",
   "execution_count": 3,
   "id": "1a795df5-2403-4158-a91f-f10e02c73679",
   "metadata": {},
   "outputs": [
    {
     "data": {
      "text/plain": [
       "0    2023-07-15\n",
       "1    2023-07-16\n",
       "2    2023-07-17\n",
       "3    2023-07-18\n",
       "4    2023-07-19\n",
       "5    2023-07-20\n",
       "6    2023-07-21\n",
       "7    2023-07-22\n",
       "8    2023-07-23\n",
       "9    2023-07-24\n",
       "Name: day, dtype: object"
      ]
     },
     "execution_count": 3,
     "metadata": {},
     "output_type": "execute_result"
    }
   ],
   "source": [
    "import pandas as pd\n",
    "df = pd.read_json(\"data/weather_data.json\")\n",
    "df['day']\n"
   ]
  },
  {
   "cell_type": "code",
   "execution_count": 5,
   "id": "939a46c2-003d-4c65-84e3-c1ff6a4f5d97",
   "metadata": {},
   "outputs": [
    {
     "data": {
      "text/plain": [
       "0   2023-07-15\n",
       "1   2023-07-16\n",
       "2   2023-07-17\n",
       "3   2023-07-18\n",
       "4   2023-07-19\n",
       "5   2023-07-20\n",
       "6   2023-07-21\n",
       "7   2023-07-22\n",
       "8   2023-07-23\n",
       "9   2023-07-24\n",
       "Name: day, dtype: datetime64[ns]"
      ]
     },
     "execution_count": 5,
     "metadata": {},
     "output_type": "execute_result"
    }
   ],
   "source": [
    "import pandas as pd\n",
    "df = pd.read_json(\"data/weather_data.json\")\n",
    "pd.to_datetime(df['day'], format=\"%Y-%m-%d\")\n"
   ]
  },
  {
   "cell_type": "markdown",
   "id": "5c73bc6c-5cd0-4270-a5d0-15e67bf14149",
   "metadata": {},
   "source": [
    "## Aside: Date Formatter Strings\n",
    "The `pd.to_datetime()` function in Pandas allows you to convert a column of strings representing dates into actual datetime objects. The `format` parameter specifies the format of the input strings. Here are several common and valid date format strings that can be used with `pd.to_datetime()`:\n",
    "\n",
    "### Common Date Format Strings\n",
    "\n",
    "1. **Year-Month-Day (`\"%Y-%m-%d\"`)**:\n",
    "    ```python\n",
    "    pd.to_datetime(df['day'], format=\"%Y-%m-%d\")\n",
    "    ```\n",
    "    - Example: \"2024-06-18\"\n",
    "\n",
    "2. **Day-Month-Year (`\"%d-%m-%Y\"`)**:\n",
    "    ```python\n",
    "    pd.to_datetime(df['day'], format=\"%d-%m-%Y\")\n",
    "    ```\n",
    "    - Example: \"18-06-2024\"\n",
    "\n",
    "3. **Month-Day-Year (`\"%m-%d-%Y\"`)**:\n",
    "    ```python\n",
    "    pd.to_datetime(df['day'], format=\"%m-%d-%Y\")\n",
    "    ```\n",
    "    - Example: \"06-18-2024\"\n",
    "\n",
    "4. **Year/Month/Day (`\"%Y/%m/%d\"`)**:\n",
    "    ```python\n",
    "    pd.to_datetime(df['day'], format=\"%Y/%m/%d\")\n",
    "    ```\n",
    "    - Example: \"2024/06/18\"\n",
    "\n",
    "5. **Day/Month/Year (`\"%d/%m/%Y\"`)**:\n",
    "    ```python\n",
    "    pd.to_datetime(df['day'], format=\"%d/%m/%Y\")\n",
    "    ```\n",
    "    - Example: \"18/06/2024\"\n",
    "\n",
    "6. **Month/Day/Year (`\"%m/%d/%Y\"`)**:\n",
    "    ```python\n",
    "    pd.to_datetime(df['day'], format=\"%m/%d/%Y\")\n",
    "    ```\n",
    "    - Example: \"06/18/2024\"\n",
    "\n",
    "7. **Year-Month-Day Hour:Minute:Second (`\"%Y-%m-%d %H:%M:%S\"`)**:\n",
    "    ```python\n",
    "    pd.to_datetime(df['day'], format=\"%Y-%m-%d %H:%M:%S\")\n",
    "    ```\n",
    "    - Example: \"2024-06-18 15:30:45\"\n",
    "\n",
    "8. **Day-Month-Year Hour:Minute:Second (`\"%d-%m-%Y %H:%M:%S\"`)**:\n",
    "    ```python\n",
    "    pd.to_datetime(df['day'], format=\"%d-%m-%Y %H:%M:%S\")\n",
    "    ```\n",
    "    - Example: \"18-06-2024 15:30:45\"\n",
    "\n",
    "9. **Month-Day-Year Hour:Minute:Second (`\"%m-%d-%Y %H:%M:%S\"`)**:\n",
    "    ```python\n",
    "    pd.to_datetime(df['day'], format=\"%m-%d-%Y %H:%M:%S\")\n",
    "    ```\n",
    "    - Example: \"06-18-2024 15:30:45\"\n",
    "\n",
    "10. **Full Date and Time with Day Name (`\"%A, %d %B %Y %H:%M:%S\"`)**:\n",
    "    ```python\n",
    "    pd.to_datetime(df['day'], format=\"%A, %d %B %Y %H:%M:%S\")\n",
    "    ```\n",
    "    - Example: \"Tuesday, 18 June 2024 15:30:45\"\n",
    "\n",
    "11. **Year-Month-Day with T Separator (`\"%Y-%m-%dT%H:%M:%S\"`)**:\n",
    "    ```python\n",
    "    pd.to_datetime(df['day'], format=\"%Y-%m-%dT%H:%M:%S\")\n",
    "    ```\n",
    "    - Example: \"2024-06-18T15:30:45\"\n",
    "\n",
    "12. **Custom Format with Milliseconds (`\"%Y-%m-%d %H:%M:%S.%f\"`)**:\n",
    "    ```python\n",
    "    pd.to_datetime(df['day'], format=\"%Y-%m-%d %H:%M:%S.%f\")\n",
    "    ```\n",
    "    - Example: \"2024-06-18 15:30:45.123456\"\n",
    "\n",
    "### Format Specifiers\n",
    "\n",
    "Here are some common format specifiers you can use to construct these strings:\n",
    "\n",
    "- `%Y`: Four-digit year\n",
    "- `%y`: Two-digit year\n",
    "- `%m`: Two-digit month (01 to 12)\n",
    "- `%d`: Two-digit day of the month (01 to 31)\n",
    "- `%H`: Two-digit hour (00 to 23)\n",
    "- `%M`: Two-digit minute (00 to 59)\n",
    "- `%S`: Two-digit second (00 to 59)\n",
    "- `%f`: Microseconds (000000 to 999999)\n",
    "- `%A`: Full weekday name\n",
    "- `%a`: Abbreviated weekday name\n",
    "- `%B`: Full month name\n",
    "- `%b`: Abbreviated month name\n",
    "- `%p`: AM or PM\n",
    "\n",
    "### Example Usage\n",
    "\n",
    "```python\n",
    "import pandas as pd\n",
    "\n",
    "# Example DataFrame\n",
    "df = pd.DataFrame({\n",
    "    'day': ['2024-06-18', '2024/06/18', '18-06-2024', '06-18-2024']\n",
    "})\n",
    "\n",
    "# Convert using different formats\n",
    "df['datetime_ymd'] = pd.to_datetime(df['day'], format=\"%Y-%m-%d\", errors='coerce')\n",
    "df['datetime_dmy'] = pd.to_datetime(df['day'], format=\"%d-%m-%Y\", errors='coerce')\n",
    "df['datetime_mdy'] = pd.to_datetime(df['day'], format=\"%m-%d-%Y\", errors='coerce')\n",
    "\n",
    "print(df)\n",
    "```\n",
    "\n",
    "### Handling Errors\n",
    "\n",
    "- **`errors='coerce'`**: This parameter ensures that if a date does not match the format, it will be converted to `NaT` (Not a Time) instead of raising an error. This is useful when dealing with mixed or inconsistent date formats.\n",
    "\n",
    "By using the appropriate format strings and handling parameters, you can effectively convert and manipulate date data in Pandas."
   ]
  },
  {
   "cell_type": "markdown",
   "id": "c3fb6abb-f35a-4942-9873-ba743f086086",
   "metadata": {},
   "source": [
    "# Indexing DataFrames\n",
    "Getting entire columns:\n",
    "```python\n",
    "my_dataframe[column_name]\n",
    "```"
   ]
  },
  {
   "cell_type": "code",
   "execution_count": 96,
   "id": "b0469b38-4524-484e-9303-a98f719968a9",
   "metadata": {
    "tags": []
   },
   "outputs": [
    {
     "data": {
      "text/html": [
       "<div>\n",
       "<style scoped>\n",
       "    .dataframe tbody tr th:only-of-type {\n",
       "        vertical-align: middle;\n",
       "    }\n",
       "\n",
       "    .dataframe tbody tr th {\n",
       "        vertical-align: top;\n",
       "    }\n",
       "\n",
       "    .dataframe thead th {\n",
       "        text-align: right;\n",
       "    }\n",
       "</style>\n",
       "<table border=\"1\" class=\"dataframe\">\n",
       "  <thead>\n",
       "    <tr style=\"text-align: right;\">\n",
       "      <th></th>\n",
       "      <th>temp</th>\n",
       "      <th>humidity</th>\n",
       "    </tr>\n",
       "  </thead>\n",
       "  <tbody>\n",
       "    <tr>\n",
       "      <th>0</th>\n",
       "      <td>15.68</td>\n",
       "      <td>73.18</td>\n",
       "    </tr>\n",
       "    <tr>\n",
       "      <th>1</th>\n",
       "      <td>25.16</td>\n",
       "      <td>83.88</td>\n",
       "    </tr>\n",
       "    <tr>\n",
       "      <th>2</th>\n",
       "      <td>13.26</td>\n",
       "      <td>80.05</td>\n",
       "    </tr>\n",
       "    <tr>\n",
       "      <th>3</th>\n",
       "      <td>24.63</td>\n",
       "      <td>82.37</td>\n",
       "    </tr>\n",
       "    <tr>\n",
       "      <th>4</th>\n",
       "      <td>12.78</td>\n",
       "      <td>83.10</td>\n",
       "    </tr>\n",
       "    <tr>\n",
       "      <th>5</th>\n",
       "      <td>23.52</td>\n",
       "      <td>85.35</td>\n",
       "    </tr>\n",
       "    <tr>\n",
       "      <th>6</th>\n",
       "      <td>17.80</td>\n",
       "      <td>85.64</td>\n",
       "    </tr>\n",
       "    <tr>\n",
       "      <th>7</th>\n",
       "      <td>24.98</td>\n",
       "      <td>76.81</td>\n",
       "    </tr>\n",
       "    <tr>\n",
       "      <th>8</th>\n",
       "      <td>23.48</td>\n",
       "      <td>80.86</td>\n",
       "    </tr>\n",
       "    <tr>\n",
       "      <th>9</th>\n",
       "      <td>23.30</td>\n",
       "      <td>79.96</td>\n",
       "    </tr>\n",
       "  </tbody>\n",
       "</table>\n",
       "</div>"
      ],
      "text/plain": [
       "    temp  humidity\n",
       "0  15.68     73.18\n",
       "1  25.16     83.88\n",
       "2  13.26     80.05\n",
       "3  24.63     82.37\n",
       "4  12.78     83.10\n",
       "5  23.52     85.35\n",
       "6  17.80     85.64\n",
       "7  24.98     76.81\n",
       "8  23.48     80.86\n",
       "9  23.30     79.96"
      ]
     },
     "execution_count": 96,
     "metadata": {},
     "output_type": "execute_result"
    }
   ],
   "source": [
    "import pandas as pd\n",
    "df = pd.read_json(\"data/weather_data.json\")\n",
    "df['temp']\n",
    "df[['temp','humidity']]"
   ]
  },
  {
   "cell_type": "code",
   "execution_count": 100,
   "id": "f1a5ca2c-8a6c-4217-ba07-fa7a1d8b09e7",
   "metadata": {
    "tags": []
   },
   "outputs": [
    {
     "data": {
      "text/plain": [
       "0    15.68\n",
       "1    25.16\n",
       "2    13.26\n",
       "3    24.63\n",
       "4    12.78\n",
       "5    23.52\n",
       "6    17.80\n",
       "7    24.98\n",
       "8    23.48\n",
       "9    23.30\n",
       "Name: temp, dtype: float64"
      ]
     },
     "execution_count": 100,
     "metadata": {},
     "output_type": "execute_result"
    }
   ],
   "source": [
    "df['temp']"
   ]
  },
  {
   "cell_type": "markdown",
   "id": "59e3256c-1222-4db4-aeaf-8e7337c0acf9",
   "metadata": {},
   "source": [
    "# Row Retrieval\n",
    "## Getting Entire Rows\n",
    "```python\n",
    "my_dataframe.loc[row_id]\n",
    "```"
   ]
  },
  {
   "cell_type": "code",
   "execution_count": 7,
   "id": "8a786694-baa7-4771-a9c2-81b943fe771f",
   "metadata": {
    "tags": []
   },
   "outputs": [
    {
     "data": {
      "text/plain": [
       "day         2023-07-15\n",
       "temp             15.68\n",
       "humidity         73.18\n",
       "sun_hrs            6.4\n",
       "Name: 0, dtype: object"
      ]
     },
     "execution_count": 7,
     "metadata": {},
     "output_type": "execute_result"
    }
   ],
   "source": [
    "df.loc[0] # Row with Index 0"
   ]
  },
  {
   "cell_type": "code",
   "execution_count": 113,
   "id": "0d2cf2ba-ef6a-4859-bcc7-acafe72190a1",
   "metadata": {
    "tags": []
   },
   "outputs": [
    {
     "data": {
      "text/html": [
       "<div>\n",
       "<style scoped>\n",
       "    .dataframe tbody tr th:only-of-type {\n",
       "        vertical-align: middle;\n",
       "    }\n",
       "\n",
       "    .dataframe tbody tr th {\n",
       "        vertical-align: top;\n",
       "    }\n",
       "\n",
       "    .dataframe thead th {\n",
       "        text-align: right;\n",
       "    }\n",
       "</style>\n",
       "<table border=\"1\" class=\"dataframe\">\n",
       "  <thead>\n",
       "    <tr style=\"text-align: right;\">\n",
       "      <th></th>\n",
       "      <th>day</th>\n",
       "      <th>temp</th>\n",
       "      <th>humidity</th>\n",
       "      <th>sun_hrs</th>\n",
       "    </tr>\n",
       "  </thead>\n",
       "  <tbody>\n",
       "    <tr>\n",
       "      <th>0</th>\n",
       "      <td>2023-07-15</td>\n",
       "      <td>15.68</td>\n",
       "      <td>73.18</td>\n",
       "      <td>6.40</td>\n",
       "    </tr>\n",
       "    <tr>\n",
       "      <th>1</th>\n",
       "      <td>2023-07-16</td>\n",
       "      <td>25.16</td>\n",
       "      <td>83.88</td>\n",
       "      <td>8.06</td>\n",
       "    </tr>\n",
       "  </tbody>\n",
       "</table>\n",
       "</div>"
      ],
      "text/plain": [
       "          day   temp  humidity  sun_hrs\n",
       "0  2023-07-15  15.68     73.18     6.40\n",
       "1  2023-07-16  25.16     83.88     8.06"
      ]
     },
     "execution_count": 113,
     "metadata": {},
     "output_type": "execute_result"
    }
   ],
   "source": [
    "df.loc[[0,1]] # Rows with indices 0 & 1"
   ]
  },
  {
   "cell_type": "markdown",
   "id": "b2303ca2-caea-4c76-8b32-94a583916e1e",
   "metadata": {},
   "source": [
    "## Named row retrieval\n",
    "### Indices can be named"
   ]
  },
  {
   "cell_type": "code",
   "execution_count": 142,
   "id": "1a06b85c-5170-4ad5-86cf-037349212141",
   "metadata": {
    "tags": []
   },
   "outputs": [
    {
     "name": "stdout",
     "output_type": "stream",
     "text": [
      "      age  weight  height\n",
      "ind1   25      70     170\n",
      "ind2   30      75     175\n",
      "ind3   35      80     180\n"
     ]
    }
   ],
   "source": [
    "import pandas as pd\n",
    "import numpy as np\n",
    "\n",
    "# Sample data\n",
    "sample_data = {\n",
    "    'age': [25, 30, 35],\n",
    "    'weight': [70, 75, 80],\n",
    "    'height': [170, 175, 180]\n",
    "}\n",
    "\n",
    "# Index list\n",
    "index_list = [\"ind1\", \"ind2\", \"ind3\"]\n",
    "\n",
    "# Create DataFrame with sample data and specified indices\n",
    "df = pd.DataFrame(sample_data, index=index_list)\n",
    "\n",
    "# Print the DataFrame\n",
    "print(df)\n"
   ]
  },
  {
   "cell_type": "code",
   "execution_count": 137,
   "id": "ad8555ee-3c78-4e8d-aeaa-01aa6c6c845f",
   "metadata": {
    "tags": []
   },
   "outputs": [
    {
     "data": {
      "text/plain": [
       "age        30\n",
       "weight     75\n",
       "height    175\n",
       "Name: ind2, dtype: int64"
      ]
     },
     "execution_count": 137,
     "metadata": {},
     "output_type": "execute_result"
    }
   ],
   "source": [
    "df.loc[\"ind2\"]  # row with index \"ind2\""
   ]
  },
  {
   "cell_type": "code",
   "execution_count": 133,
   "id": "0be89ace-1951-4fd3-9b71-34ef08df66e0",
   "metadata": {
    "tags": []
   },
   "outputs": [
    {
     "data": {
      "text/plain": [
       "age        35\n",
       "weight     80\n",
       "height    180\n",
       "Name: ind3, dtype: int64"
      ]
     },
     "execution_count": 133,
     "metadata": {},
     "output_type": "execute_result"
    }
   ],
   "source": [
    "df.iloc[2] # row with position 2"
   ]
  },
  {
   "cell_type": "markdown",
   "id": "834df31f-29cd-4847-8323-b0a709352284",
   "metadata": {},
   "source": [
    "# Slicing DataFrames\n",
    "## getting entire columns:\n",
    "```python\n",
    "my_dataframe.loc[:, col_name]\n",
    "my_dataframe.iloc[y:, col_position]\n",
    "```"
   ]
  },
  {
   "cell_type": "code",
   "execution_count": 144,
   "id": "821f2e4a-432d-419f-be8b-8e7aacfd525d",
   "metadata": {
    "tags": []
   },
   "outputs": [
    {
     "data": {
      "text/plain": [
       "ind1    25\n",
       "ind2    30\n",
       "ind3    35\n",
       "Name: age, dtype: int64"
      ]
     },
     "execution_count": 144,
     "metadata": {},
     "output_type": "execute_result"
    }
   ],
   "source": [
    "df.loc[:, \"age\"]"
   ]
  },
  {
   "cell_type": "code",
   "execution_count": 146,
   "id": "c417d453-e9a8-4527-8edd-4dcbde790d03",
   "metadata": {
    "tags": []
   },
   "outputs": [
    {
     "data": {
      "text/plain": [
       "ind1    25\n",
       "ind2    30\n",
       "ind3    35\n",
       "Name: age, dtype: int64"
      ]
     },
     "execution_count": 146,
     "metadata": {},
     "output_type": "execute_result"
    }
   ],
   "source": [
    "df.iloc[:,0]"
   ]
  },
  {
   "cell_type": "markdown",
   "id": "78ab555c-caa3-4205-8ee8-59db62615620",
   "metadata": {},
   "source": [
    "# Getting individual elements from row and column IDs:\n",
    "```python\n",
    "my_datafram.loc[row_id, col_name]\n",
    "my_dataframe.iloc[i,j]\n",
    "```"
   ]
  },
  {
   "cell_type": "code",
   "execution_count": 148,
   "id": "1dea3928-f0a7-467f-b018-eca44a1e553f",
   "metadata": {
    "tags": []
   },
   "outputs": [
    {
     "data": {
      "text/plain": [
       "170"
      ]
     },
     "execution_count": 148,
     "metadata": {},
     "output_type": "execute_result"
    }
   ],
   "source": [
    "df.loc[\"ind1\", \"height\"]"
   ]
  },
  {
   "cell_type": "code",
   "execution_count": 150,
   "id": "a602f38b-63c5-493d-8022-6e8371e1f831",
   "metadata": {
    "tags": []
   },
   "outputs": [
    {
     "data": {
      "text/plain": [
       "70"
      ]
     },
     "execution_count": 150,
     "metadata": {},
     "output_type": "execute_result"
    }
   ],
   "source": [
    "df.iloc[0,1]"
   ]
  },
  {
   "cell_type": "markdown",
   "id": "34fbac61-7783-4748-b6da-7c0b1ec0e3fd",
   "metadata": {},
   "source": [
    "# DF Slicing Summary\n",
    "```python\n",
    "my_dataframe.loc[[id1, id2, id3], :]\n",
    "```\n",
    "returns rows id1, id2 and id3, all columns\n",
    "```python\n",
    "my_dataframe.loc[:, [col1, col2, col3]]\n",
    "```\n",
    "returns columns col1, col2 and col3, all rows\n",
    "```python\n",
    "my_dataframe.loc[[id1, id2, id3], [col1, col2, col3]]\n",
    "```\n",
    "returns 3 by 3 table of rows id1, id2 and id3, columns col1, col2, and col3\n"
   ]
  },
  {
   "cell_type": "markdown",
   "id": "a7774075-b483-4002-ad30-3eb44d0210de",
   "metadata": {},
   "source": [
    "# Pandas DF Broadcasting Operations\n",
    "- Like NumPy, Pandas broadcasts operations.\n",
    "  - i.e., we can perform calculations with columns like we do with single values."
   ]
  },
  {
   "cell_type": "code",
   "execution_count": 171,
   "id": "7ba195b1-3de5-4d34-a66a-8ee526a923cc",
   "metadata": {
    "tags": []
   },
   "outputs": [
    {
     "data": {
      "text/plain": [
       "0    17626\n",
       "1    18959\n",
       "2    20560\n",
       "3    21894\n",
       "4    24430\n",
       "Name: Income, dtype: int64"
      ]
     },
     "execution_count": 171,
     "metadata": {},
     "output_type": "execute_result"
    }
   ],
   "source": [
    "import pandas as pd\n",
    "df = pd.read_csv(\"Data\\mortgage_applicants.csv\")\n",
    "df['Income'].head()"
   ]
  },
  {
   "cell_type": "code",
   "execution_count": 173,
   "id": "6e9407b1-882f-4fc3-88ae-ce00c2cd9f84",
   "metadata": {
    "tags": []
   },
   "outputs": [
    {
     "data": {
      "text/plain": [
       "0    1468.833333\n",
       "1    1579.916667\n",
       "2    1713.333333\n",
       "3    1824.500000\n",
       "4    2035.833333\n",
       "Name: Income, dtype: float64"
      ]
     },
     "execution_count": 173,
     "metadata": {},
     "output_type": "execute_result"
    }
   ],
   "source": [
    "(df['Income']/12).head()"
   ]
  },
  {
   "cell_type": "markdown",
   "id": "b22b0d62-67f4-4b67-8c0c-db0397b8987d",
   "metadata": {},
   "source": [
    "# Boolean Operators\n",
    "Symbolic Boolean operators can be used to combine conditions."
   ]
  },
  {
   "cell_type": "code",
   "execution_count": 179,
   "id": "1625e02f-62bd-41c0-bec8-d788b1d0e894",
   "metadata": {
    "tags": []
   },
   "outputs": [
    {
     "data": {
      "text/plain": [
       "0      False\n",
       "1      False\n",
       "2       True\n",
       "3       True\n",
       "4       True\n",
       "       ...  \n",
       "851    False\n",
       "852     True\n",
       "853    False\n",
       "854    False\n",
       "855    False\n",
       "Length: 856, dtype: bool"
      ]
     },
     "execution_count": 179,
     "metadata": {},
     "output_type": "execute_result"
    }
   ],
   "source": [
    "(df[\"Income\"] > 20000) & (df[\"Debt\"] < 2000)"
   ]
  },
  {
   "cell_type": "markdown",
   "id": "920bc07e-8a94-4bdf-bb9b-91b2f1c3ffb4",
   "metadata": {},
   "source": [
    "# DF Filtering\n",
    "- DataFrames can be filtered row-wise using a sequence of Trues & Falses.\n",
    "- These can be generated by queries."
   ]
  },
  {
   "cell_type": "code",
   "execution_count": 193,
   "id": "dba5876d-f6e1-4a7e-b075-e2e3184be0d2",
   "metadata": {
    "tags": []
   },
   "outputs": [
    {
     "data": {
      "text/html": [
       "<div>\n",
       "<style scoped>\n",
       "    .dataframe tbody tr th:only-of-type {\n",
       "        vertical-align: middle;\n",
       "    }\n",
       "\n",
       "    .dataframe tbody tr th {\n",
       "        vertical-align: top;\n",
       "    }\n",
       "\n",
       "    .dataframe thead th {\n",
       "        text-align: right;\n",
       "    }\n",
       "</style>\n",
       "<table border=\"1\" class=\"dataframe\">\n",
       "  <thead>\n",
       "    <tr style=\"text-align: right;\">\n",
       "      <th></th>\n",
       "      <th>Unnamed: 0</th>\n",
       "      <th>ID</th>\n",
       "      <th>Income</th>\n",
       "      <th>Term</th>\n",
       "      <th>Balance</th>\n",
       "      <th>Debt</th>\n",
       "      <th>Score</th>\n",
       "      <th>Default</th>\n",
       "    </tr>\n",
       "  </thead>\n",
       "  <tbody>\n",
       "    <tr>\n",
       "      <th>787</th>\n",
       "      <td>787</td>\n",
       "      <td>9</td>\n",
       "      <td>76228</td>\n",
       "      <td>10 Years</td>\n",
       "      <td>4952</td>\n",
       "      <td>26</td>\n",
       "      <td>1009.0</td>\n",
       "      <td>False</td>\n",
       "    </tr>\n",
       "    <tr>\n",
       "      <th>791</th>\n",
       "      <td>791</td>\n",
       "      <td>738</td>\n",
       "      <td>81842</td>\n",
       "      <td>20 Years</td>\n",
       "      <td>3677</td>\n",
       "      <td>27</td>\n",
       "      <td>1001.0</td>\n",
       "      <td>False</td>\n",
       "    </tr>\n",
       "    <tr>\n",
       "      <th>795</th>\n",
       "      <td>795</td>\n",
       "      <td>235</td>\n",
       "      <td>77844</td>\n",
       "      <td>10 Years</td>\n",
       "      <td>4160</td>\n",
       "      <td>65</td>\n",
       "      <td>1000.0</td>\n",
       "      <td>False</td>\n",
       "    </tr>\n",
       "    <tr>\n",
       "      <th>798</th>\n",
       "      <td>798</td>\n",
       "      <td>753</td>\n",
       "      <td>81175</td>\n",
       "      <td>10 Years</td>\n",
       "      <td>5684</td>\n",
       "      <td>2</td>\n",
       "      <td>1006.0</td>\n",
       "      <td>False</td>\n",
       "    </tr>\n",
       "  </tbody>\n",
       "</table>\n",
       "</div>"
      ],
      "text/plain": [
       "     Unnamed: 0   ID  Income      Term  Balance  Debt   Score  Default\n",
       "787         787    9   76228  10 Years     4952    26  1009.0    False\n",
       "791         791  738   81842  20 Years     3677    27  1001.0    False\n",
       "795         795  235   77844  10 Years     4160    65  1000.0    False\n",
       "798         798  753   81175  10 Years     5684     2  1006.0    False"
      ]
     },
     "execution_count": 193,
     "metadata": {},
     "output_type": "execute_result"
    }
   ],
   "source": [
    "df[(df[\"Income\"] > 75000) & (df[\"Debt\"] < 500)]"
   ]
  },
  {
   "cell_type": "markdown",
   "id": "fcaa7e73-8b4d-4bbb-94b8-480bac44c6f0",
   "metadata": {},
   "source": [
    "# Aggregation - Group By\n",
    "- Group table rows into sub-groups according to a specified criteria.\n",
    "GROUP BY and:\n",
    "• Counting the number of rows in each group:\n",
    "```python\n",
    "df.groupby(criteria).size()\n",
    "```\n",
    "• Sum of every numerical column in each group:\n",
    "```python\n",
    "df.groupby(criteria).sum()\n",
    "```\n",
    "• Mean of every numerical column in each group:\n",
    "```python\n",
    "df.groupby(criteria).mean()\n",
    "```"
   ]
  },
  {
   "cell_type": "code",
   "execution_count": 44,
   "id": "2161fc93-a3ac-4120-b6c4-0849af55e280",
   "metadata": {
    "tags": []
   },
   "outputs": [
    {
     "name": "stdout",
     "output_type": "stream",
     "text": [
      "Mean Income by Mortgage Term:\n",
      "Term\n",
      "10 Years    27800.559932\n",
      "20 Years    34461.341912\n",
      "Name: Income, dtype: float64\n",
      "\n",
      "Median Balance by Mortgage Term:\n",
      "Term\n",
      "10 Years    1094.5\n",
      "20 Years    1236.0\n",
      "Name: Balance, dtype: float64\n"
     ]
    }
   ],
   "source": [
    "import pandas as pd\n",
    "df=pd.read_csv(\"data/mortgage_applicants.csv\")\n",
    "\n",
    "\n",
    "# Create DataFrame\n",
    "#df = pd.DataFrame(data)\n",
    "\n",
    "\n",
    "# Group by 'Term' column\n",
    "grouped = df.groupby('Term')\n",
    "\n",
    "# Calculate mean of 'Income' for each group\n",
    "mean_income = grouped['Income'].mean()\n",
    "\n",
    "# Calculate median of 'Balance' for each group\n",
    "median_balance = grouped['Balance'].median()\n",
    "\n",
    "# Print the results\n",
    "print(\"Mean Income by Mortgage Term:\")\n",
    "print(mean_income)\n",
    "print(\"\\nMedian Balance by Mortgage Term:\")\n",
    "print(median_balance)\n"
   ]
  },
  {
   "cell_type": "code",
   "execution_count": null,
   "id": "5abbd4a3-3820-4639-ad43-5061ea0e2ffe",
   "metadata": {},
   "outputs": [],
   "source": []
  },
  {
   "cell_type": "code",
   "execution_count": 208,
   "id": "a97452bb-9f89-44b7-b8af-e9932e5ed94a",
   "metadata": {
    "tags": []
   },
   "outputs": [
    {
     "name": "stdout",
     "output_type": "stream",
     "text": [
      "Mean Income by Mortgage Term:\n",
      "Term\n",
      "10 Years    20728.321429\n",
      "20 Years    21389.428571\n",
      "Name: Income, dtype: float64\n",
      "\n",
      "Median Balance by Mortgage Term:\n",
      "Term\n",
      "10 Years    952.5\n",
      "20 Years    991.0\n",
      "Name: Balance, dtype: float64\n",
      "size:\n",
      "Term\n",
      "10 Years    28\n",
      "20 Years     7\n",
      "dtype: int64\n"
     ]
    }
   ],
   "source": [
    "import pandas as pd\n",
    "\n",
    "# Sample data\n",
    "data = {\n",
    "    'ID': [567, 523, 544, 370, 756, 929, 373, 818, 284, 621,\n",
    "           404, 763, 327, 664, 590, 24, 931, 400, 905, 556,\n",
    "           673, 537, 616, 422, 73, 466, 363, 291, 326, 483,\n",
    "           563, 838, 740, 216, 302],\n",
    "    'Income': [17626, 18959, 20560, 21894, 24430, 22995, 21124, 24644, 27138, 24521,\n",
    "               19166, 20838, 18630, 24182, 17887, 23596, 18223, 18271, 17887, 19330,\n",
    "               24185, 20232, 22869, 20543, 16915, 21437, 17905, 22585, 18015, 24055,\n",
    "               16876, 21984, 22259, 16937, 21421],\n",
    "    'Term': ['10 Years', '20 Years', '10 Years', '10 Years', '10 Years', '20 Years', '10 Years', '10 Years', '20 Years', '10 Years',\n",
    "             '10 Years', '10 Years', '20 Years', '10 Years', '10 Years', '10 Years', '10 Years', '10 Years', '10 Years', '10 Years',\n",
    "             '10 Years', '10 Years', '20 Years', '10 Years', '10 Years', '10 Years', '10 Years', '10 Years', '10 Years', '10 Years',\n",
    "             '20 Years', '10 Years', '20 Years', '10 Years', '10 Years'],\n",
    "    'Balance': [1381, 883, 684, 748, 1224, 1678, 1135, 1634, 840, 1271,\n",
    "                854, 946, 1316, 1160, 901, 701, 889, 991, 1214, 973,\n",
    "                771, 996, 1150, 731, 925, 1298, 928, 1185, 602, 740,\n",
    "                991, 959, 985, 587, 1167],\n",
    "    'Debt': [293, 1012, 898, 85, 59, 1329, 115, 105, 1877, 110,\n",
    "             48, 1259, 37, 882, 1586, 34, 2162, 979, 960, 29,\n",
    "             77, 804, 803, 1054, 1082, 51, 13, 532, 14, 20,\n",
    "             34, 633, 1906, 1, 1347],\n",
    "    'Score': [228.0, 187.0, 86.0, None, 504.0, 384.0, 560.0, 309.0, 251.0, 736.0,\n",
    "               186.0, 136.0, 430.0, 247.0, 68.0, 333.0, 40.0, 197.0, 130.0, 400.0,\n",
    "               None, 296.0, 431.0, 89.0, 147.0, 451.0, 168.0, 487.0, 346.0, 388.0,\n",
    "               340.0, 244.0, 152.0, 259.0, 198.0],\n",
    "    'Default': [False, False, False, False, False, False, False, False, False, True,\n",
    "                 False, False, False, False, True, False, True, True, False, False,\n",
    "                 False, False, True, False, False, False, False, False, False, False,\n",
    "                 False, False, True, False, False]\n",
    "}\n",
    "\n",
    "# Create DataFrame\n",
    "df = pd.DataFrame(data)\n",
    "\n",
    "# Group by 'Term' column\n",
    "grouped = df.groupby('Term')\n",
    "\n",
    "# Calculate mean of 'Income' for each group\n",
    "mean_income = grouped['Income'].mean()\n",
    "\n",
    "# Calculate median of 'Balance' for each group\n",
    "median_balance = grouped['Balance'].median()\n",
    "\n",
    "# Print the results\n",
    "print(\"Mean Income by Mortgage Term:\")\n",
    "print(mean_income)\n",
    "print(\"\\nMedian Balance by Mortgage Term:\")\n",
    "print(median_balance)\n",
    "print(\"size:\")\n",
    "print(grouped.size())\n"
   ]
  },
  {
   "cell_type": "markdown",
   "id": "f1ddde96-6921-4437-916b-43338cd24931",
   "metadata": {},
   "source": [
    "To group the 'Income' data by ranges instead of specific values, you can use the `pd.cut()` function to discretize the 'Income' column into bins (ranges) and then group by these bins. Here's how you can do it:\n",
    "\n",
    "```python\n",
    "import pandas as pd\n",
    "\n",
    "df=pd.read_csv(\"data/mortgage_applicants.csv\")\n",
    "\n",
    "# Create DataFrame\n",
    "df = pd.DataFrame(data)\n",
    "\n",
    "# Define income bins\n",
    "income_bins = [0, 20000, 25000, 30000, 35000]\n",
    "\n",
    "# Define labels for income bins\n",
    "income_labels = ['< 20k', '20k - 25k', '25k - 30k', '30k - 35k']\n",
    "\n",
    "# Create a new column 'Income Range' with income bins\n",
    "df['Income Range'] = pd.cut(df['Income'], bins=income_bins, labels=income_labels, right=False)\n",
    "\n",
    "# Group by 'Income Range' column\n",
    "grouped = df.groupby('Income Range')\n",
    "\n",
    "# Calculate mean of 'Income' for each group\n",
    "mean_income = grouped['Income'].mean()\n",
    "\n",
    "# Print the results\n",
    "print(\"Mean Income by Income Range:\")\n",
    "print(mean_income)\n",
    "```\n",
    "\n",
    "In this code, the 'Income' column is discretized into bins using `pd.cut()`, specifying the bins and labels. Then, the DataFrame is grouped by the 'Income Range' column, and the mean income for each income range is calculated using the `groupby()` method. The results show the mean income for applicants grouped by income range. Adjust the `income_bins` and `income_labels` as needed to define the desired income ranges."
   ]
  },
  {
   "cell_type": "code",
   "execution_count": 245,
   "id": "6fa54ccf-cd63-4a37-ac3d-5301f210e11c",
   "metadata": {
    "tags": []
   },
   "outputs": [
    {
     "name": "stdout",
     "output_type": "stream",
     "text": [
      "Mean Income by Income Range:\n",
      "Income Range\n",
      "< 20k        18032.487069\n",
      "20k - 25k    21914.092308\n",
      "25k - 30k    27321.710526\n",
      "30K - 35K    33377.480000\n",
      "35K - 40K    37421.500000\n",
      "40K - 45K    42492.876404\n",
      "45K - 50K    46883.609756\n",
      "50K - 55K    52598.923077\n",
      "55K - 60K    57352.294118\n",
      "60K - 65K    62290.210526\n",
      "65K - 70K    67013.111111\n",
      "70K - 75K    73730.000000\n",
      "Name: Income, dtype: float64\n"
     ]
    }
   ],
   "source": [
    "import pandas as pd\n",
    "\n",
    "df=pd.read_csv(\"data/mortgage_applicants.csv\")\n",
    "\n",
    "# Create DataFrame\n",
    "#df = pd.DataFrame(data)\n",
    "\n",
    "# Define income bins\n",
    "income_bins = [0, 20000, 25000, 30000, 35000, 40000, 45000, 50000, 55000, 60000, 65000, 70000, 75000]\n",
    "\n",
    "# Define labels for income bins\n",
    "income_labels = ['< 20k', '20k - 25k', '25k - 30k', '30K - 35K', '35K - 40K', '40K - 45K', '45K - 50K', '50K - 55K', '55K - 60K', '60K - 65K', '65K - 70K', '70K - 75K']\n",
    "\n",
    "# Create a new column 'Income Range' with income bins\n",
    "df['Income Range'] = pd.cut(df['Income'], bins=income_bins, labels=income_labels, right=False)\n",
    "\n",
    "# Group by 'Income Range' column\n",
    "grouped = df.groupby('Income Range', observed=False)\n",
    "\n",
    "# Calculate mean of 'Income' for each group\n",
    "mean_income = grouped['Income'].mean()\n",
    "\n",
    "# Print the results\n",
    "print(\"Mean Income by Income Range:\")\n",
    "print(mean_income)"
   ]
  },
  {
   "cell_type": "markdown",
   "id": "b537bc0e-e45e-4860-9049-2a09402eaa9f",
   "metadata": {},
   "source": [
    "# Pandas cut()\n",
    "The `pd.cut()` function in pandas is used to segment and sort data values into bins (categories or intervals). It is particularly useful for discretizing continuous data into categorical data. The function returns a new categorical Series or array, where each element represents the bin (category) to which the corresponding element of the input belongs.\n",
    "\n",
    "Here's the syntax of the `pd.cut()` function:\n",
    "\n",
    "```python\n",
    "pd.cut(x, bins, right=True, labels=None, retbins=False, precision=3, include_lowest=False, duplicates='raise')\n",
    "```\n",
    "\n",
    "- `x`: This argument represents the array or Series to be segmented into bins.\n",
    "- `bins`: This argument specifies the intervals (bins) into which the data should be sorted. It can be an integer, specifying the number of equal-width bins to create, or a list/array of bin edges, defining the intervals explicitly.\n",
    "- `right`: This boolean argument indicates whether the intervals should be closed on the right (`True`, default) or left (`False`) side.\n",
    "- `labels`: This argument specifies the labels to assign to the resulting bins. If `None` (default), integer labels are used.\n",
    "- `retbins`: This boolean argument indicates whether to return the computed bins as well as the resulting categorical Series. If `True`, it returns a tuple of the Series and the bins.\n",
    "- `precision`: This argument specifies the number of decimal places to round the bins' edges.\n",
    "- `include_lowest`: This boolean argument specifies whether the first interval should be left-inclusive (closed) or not.\n",
    "- `duplicates`: This argument specifies how to handle duplicate bin edges if they exist.\n",
    "\n",
    "Here's a general example of how to use `pd.cut()`:\n",
    "\n",
    "```python\n",
    "import pandas as pd\n",
    "\n",
    "# Sample data\n",
    "data = [10, 20, 30, 40, 50, 60, 70, 80, 90, 100]\n",
    "\n",
    "# Define bins\n",
    "bins = [0, 30, 60, 100]\n",
    "\n",
    "# Cut the data into bins\n",
    "categories = pd.cut(data, bins)\n",
    "\n",
    "# Display the result\n",
    "print(categories)\n",
    "```\n",
    "\n",
    "Output:\n",
    "```\n",
    "[(0, 30], (0, 30], (0, 30], (30, 60], (30, 60], (30, 60], (60, 100], (60, 100], (60, 100], (60, 100]]\n",
    "Categories (3, interval[int64]): [(0, 30] < (30, 60] < (60, 100]]\n",
    "```\n",
    "\n",
    "In this example, the data `[10, 20, 30, 40, 50, 60, 70, 80, 90, 100]` is segmented into three bins: `[0, 30)`, `[30, 60)`, and `[60, 100]`. The resulting `categories` Series shows the bin intervals to which each element belongs."
   ]
  },
  {
   "cell_type": "markdown",
   "id": "8df553a0-c1f1-4936-a912-c6ec601f6609",
   "metadata": {},
   "source": [
    "# Transform\n",
    "Transform is used to calculate quantities over a group but return as many rows as input.\n",
    "• Can be used to add, e.g., a grouped average column"
   ]
  },
  {
   "cell_type": "code",
   "execution_count": 222,
   "id": "324a69dd-a3f8-4c6c-9773-062111aea280",
   "metadata": {
    "tags": []
   },
   "outputs": [
    {
     "data": {
      "text/html": [
       "<div>\n",
       "<style scoped>\n",
       "    .dataframe tbody tr th:only-of-type {\n",
       "        vertical-align: middle;\n",
       "    }\n",
       "\n",
       "    .dataframe tbody tr th {\n",
       "        vertical-align: top;\n",
       "    }\n",
       "\n",
       "    .dataframe thead th {\n",
       "        text-align: right;\n",
       "    }\n",
       "</style>\n",
       "<table border=\"1\" class=\"dataframe\">\n",
       "  <thead>\n",
       "    <tr style=\"text-align: right;\">\n",
       "      <th></th>\n",
       "      <th>ID</th>\n",
       "      <th>Income</th>\n",
       "      <th>Term</th>\n",
       "      <th>Balance</th>\n",
       "      <th>Debt</th>\n",
       "      <th>Score</th>\n",
       "      <th>Default</th>\n",
       "      <th>Income Range</th>\n",
       "      <th>MeanTermDebt</th>\n",
       "    </tr>\n",
       "  </thead>\n",
       "  <tbody>\n",
       "    <tr>\n",
       "      <th>0</th>\n",
       "      <td>567</td>\n",
       "      <td>17626</td>\n",
       "      <td>10 Years</td>\n",
       "      <td>1381</td>\n",
       "      <td>293</td>\n",
       "      <td>228.0</td>\n",
       "      <td>False</td>\n",
       "      <td>&lt; 20k</td>\n",
       "      <td>544.000000</td>\n",
       "    </tr>\n",
       "    <tr>\n",
       "      <th>1</th>\n",
       "      <td>523</td>\n",
       "      <td>18959</td>\n",
       "      <td>20 Years</td>\n",
       "      <td>883</td>\n",
       "      <td>1012</td>\n",
       "      <td>187.0</td>\n",
       "      <td>False</td>\n",
       "      <td>&lt; 20k</td>\n",
       "      <td>999.714286</td>\n",
       "    </tr>\n",
       "    <tr>\n",
       "      <th>2</th>\n",
       "      <td>544</td>\n",
       "      <td>20560</td>\n",
       "      <td>10 Years</td>\n",
       "      <td>684</td>\n",
       "      <td>898</td>\n",
       "      <td>86.0</td>\n",
       "      <td>False</td>\n",
       "      <td>20k - 25k</td>\n",
       "      <td>544.000000</td>\n",
       "    </tr>\n",
       "    <tr>\n",
       "      <th>3</th>\n",
       "      <td>370</td>\n",
       "      <td>21894</td>\n",
       "      <td>10 Years</td>\n",
       "      <td>748</td>\n",
       "      <td>85</td>\n",
       "      <td>NaN</td>\n",
       "      <td>False</td>\n",
       "      <td>20k - 25k</td>\n",
       "      <td>544.000000</td>\n",
       "    </tr>\n",
       "    <tr>\n",
       "      <th>4</th>\n",
       "      <td>756</td>\n",
       "      <td>24430</td>\n",
       "      <td>10 Years</td>\n",
       "      <td>1224</td>\n",
       "      <td>59</td>\n",
       "      <td>504.0</td>\n",
       "      <td>False</td>\n",
       "      <td>20k - 25k</td>\n",
       "      <td>544.000000</td>\n",
       "    </tr>\n",
       "  </tbody>\n",
       "</table>\n",
       "</div>"
      ],
      "text/plain": [
       "    ID  Income      Term  Balance  Debt  Score  Default Income Range  \\\n",
       "0  567   17626  10 Years     1381   293  228.0    False        < 20k   \n",
       "1  523   18959  20 Years      883  1012  187.0    False        < 20k   \n",
       "2  544   20560  10 Years      684   898   86.0    False    20k - 25k   \n",
       "3  370   21894  10 Years      748    85    NaN    False    20k - 25k   \n",
       "4  756   24430  10 Years     1224    59  504.0    False    20k - 25k   \n",
       "\n",
       "   MeanTermDebt  \n",
       "0    544.000000  \n",
       "1    999.714286  \n",
       "2    544.000000  \n",
       "3    544.000000  \n",
       "4    544.000000  "
      ]
     },
     "execution_count": 222,
     "metadata": {},
     "output_type": "execute_result"
    }
   ],
   "source": [
    "df['MeanTermDebt']=df.groupby(\"Term\")['Debt'].transform('mean')\n",
    "df.head()"
   ]
  },
  {
   "cell_type": "code",
   "execution_count": 238,
   "id": "6515634e-d6d2-40c7-a3b9-49957269ecb8",
   "metadata": {
    "tags": []
   },
   "outputs": [
    {
     "data": {
      "text/html": [
       "<div>\n",
       "<style scoped>\n",
       "    .dataframe tbody tr th:only-of-type {\n",
       "        vertical-align: middle;\n",
       "    }\n",
       "\n",
       "    .dataframe tbody tr th {\n",
       "        vertical-align: top;\n",
       "    }\n",
       "\n",
       "    .dataframe thead th {\n",
       "        text-align: right;\n",
       "    }\n",
       "</style>\n",
       "<table border=\"1\" class=\"dataframe\">\n",
       "  <thead>\n",
       "    <tr style=\"text-align: right;\">\n",
       "      <th></th>\n",
       "      <th>Unnamed: 0</th>\n",
       "      <th>ID</th>\n",
       "      <th>Income</th>\n",
       "      <th>Term</th>\n",
       "      <th>Balance</th>\n",
       "      <th>Debt</th>\n",
       "      <th>Score</th>\n",
       "      <th>Default</th>\n",
       "      <th>MeanTermDebt</th>\n",
       "    </tr>\n",
       "  </thead>\n",
       "  <tbody>\n",
       "    <tr>\n",
       "      <th>0</th>\n",
       "      <td>0</td>\n",
       "      <td>567</td>\n",
       "      <td>17626</td>\n",
       "      <td>10 Years</td>\n",
       "      <td>1381</td>\n",
       "      <td>293</td>\n",
       "      <td>228.0</td>\n",
       "      <td>False</td>\n",
       "      <td>669.409247</td>\n",
       "    </tr>\n",
       "    <tr>\n",
       "      <th>1</th>\n",
       "      <td>1</td>\n",
       "      <td>523</td>\n",
       "      <td>18959</td>\n",
       "      <td>20 Years</td>\n",
       "      <td>883</td>\n",
       "      <td>1012</td>\n",
       "      <td>187.0</td>\n",
       "      <td>False</td>\n",
       "      <td>776.393382</td>\n",
       "    </tr>\n",
       "    <tr>\n",
       "      <th>2</th>\n",
       "      <td>2</td>\n",
       "      <td>544</td>\n",
       "      <td>20560</td>\n",
       "      <td>10 Years</td>\n",
       "      <td>684</td>\n",
       "      <td>898</td>\n",
       "      <td>86.0</td>\n",
       "      <td>False</td>\n",
       "      <td>669.409247</td>\n",
       "    </tr>\n",
       "    <tr>\n",
       "      <th>3</th>\n",
       "      <td>3</td>\n",
       "      <td>370</td>\n",
       "      <td>21894</td>\n",
       "      <td>10 Years</td>\n",
       "      <td>748</td>\n",
       "      <td>85</td>\n",
       "      <td>NaN</td>\n",
       "      <td>False</td>\n",
       "      <td>669.409247</td>\n",
       "    </tr>\n",
       "    <tr>\n",
       "      <th>4</th>\n",
       "      <td>4</td>\n",
       "      <td>756</td>\n",
       "      <td>24430</td>\n",
       "      <td>10 Years</td>\n",
       "      <td>1224</td>\n",
       "      <td>59</td>\n",
       "      <td>504.0</td>\n",
       "      <td>False</td>\n",
       "      <td>669.409247</td>\n",
       "    </tr>\n",
       "  </tbody>\n",
       "</table>\n",
       "</div>"
      ],
      "text/plain": [
       "   Unnamed: 0   ID  Income      Term  Balance  Debt  Score  Default  \\\n",
       "0           0  567   17626  10 Years     1381   293  228.0    False   \n",
       "1           1  523   18959  20 Years      883  1012  187.0    False   \n",
       "2           2  544   20560  10 Years      684   898   86.0    False   \n",
       "3           3  370   21894  10 Years      748    85    NaN    False   \n",
       "4           4  756   24430  10 Years     1224    59  504.0    False   \n",
       "\n",
       "   MeanTermDebt  \n",
       "0    669.409247  \n",
       "1    776.393382  \n",
       "2    669.409247  \n",
       "3    669.409247  \n",
       "4    669.409247  "
      ]
     },
     "execution_count": 238,
     "metadata": {},
     "output_type": "execute_result"
    }
   ],
   "source": [
    "import pandas as pd\n",
    "import numpy as np\n",
    "\n",
    "\n",
    "df=pd.read_csv(\"data/mortgage_applicants.csv\")\n",
    "\n",
    "# Apply the transformation logic\n",
    "#df['MeanTermDebt'] = df.groupby(\"Term\")['Debt'].transform(np.mean)\n",
    "df['MeanTermDebt'] = df.groupby(\"Term\")['Debt'].transform(\"mean\")\n",
    "\n",
    "# Display the DataFrame with the new column\n",
    "df.head()\n"
   ]
  },
  {
   "cell_type": "markdown",
   "id": "d3f950aa-71b9-42eb-a7c6-26b087399981",
   "metadata": {},
   "source": [
    "# Transform in Detail\n",
    "Let's break down the logic of the provided code and then apply it to the mortgage applicants data.\n",
    "\n",
    "The code `df['MeanTermDebt'] = df.groupby(\"Term\")['Debt'].transform(np.mean)` can be explained as follows:\n",
    "\n",
    "1. `df.groupby(\"Term\")`: This part of the code groups the DataFrame `df` by the 'Term' column. It creates groups where each group corresponds to a unique value in the 'Term' column.\n",
    "\n",
    "2. `['Debt']`: After grouping by 'Term', this part selects the 'Debt' column from each group.\n",
    "\n",
    "3. `np.mean`: This part specifies the aggregation function to be applied to each group. In this case, it calculates the mean of the 'Debt' values within each group.\n",
    "\n",
    "4. `transform`: This method applies the specified aggregation function (`np.mean` in this case) to each group and returns a Series with the same length as the original DataFrame, where each element corresponds to the result of the aggregation function applied to the respective group.\n",
    "\n",
    "5. `df['MeanTermDebt']`: Finally, this part assigns the result of the transformation (i.e., the mean debt values for each group) to a new column named 'MeanTermDebt' in the original DataFrame `df`.\n",
    "\n",
    "Now, let's apply this logic to the mortgage applicants data:\n",
    "\n",
    "```python\n",
    "import pandas as pd\n",
    "import numpy as np\n",
    "\n",
    "df=pd.read_csv(\"data/mortgage_applicants.csv\")\n",
    "\n",
    "# Apply the transformation logic\n",
    "df['MeanTermDebt'] = df.groupby(\"Term\")['Debt'].transform(np.mean)\n",
    "\n",
    "# Display the DataFrame with the new column\n",
    "print(df)\n",
    "```\n",
    "\n",
    "In this example, we group the DataFrame `df` by the 'Term' column and calculate the mean debt (`'Debt'`) for each group using the `np.mean` function. Then, we assign the resulting mean debt values to a new column named 'MeanTermDebt' in the original DataFrame. This provides us with the mean debt for each term category while preserving the original DataFrame's structure."
   ]
  }
 ],
 "metadata": {
  "kernelspec": {
   "display_name": "Python 3 (ipykernel)",
   "language": "python",
   "name": "python3"
  },
  "language_info": {
   "codemirror_mode": {
    "name": "ipython",
    "version": 3
   },
   "file_extension": ".py",
   "mimetype": "text/x-python",
   "name": "python",
   "nbconvert_exporter": "python",
   "pygments_lexer": "ipython3",
   "version": "3.11.7"
  }
 },
 "nbformat": 4,
 "nbformat_minor": 5
}
