{
 "cells": [
  {
   "cell_type": "markdown",
   "id": "a56e884c-3a58-4fe2-ad36-8667ee96fec8",
   "metadata": {},
   "source": [
    "# Exercise 3 - Data structures,  Flow Control, Functions & Basic Types"
   ]
  },
  {
   "cell_type": "markdown",
   "id": "974450f8-12ca-4a01-ae35-4aaca6fccdd6",
   "metadata": {},
   "source": [
    "## Objective\n",
    "\n",
    "In this guided task you`will:\n",
    "* Perform various operations on lists and strings.\n",
    "* Perform operations related to tuples, dictionaries and sets.\n",
    "* Use conditional if…elif control flow statements in Python.\n",
    "* Work with iteration to control flow, using while statements in Python.\n",
    "* Work with iteration to control flow, using for loops in Python.\n",
    "* Define and call functions.\n",
    "* Perform operations related to reading, processing and writing files."
   ]
  },
  {
   "cell_type": "markdown",
   "id": "7e8648fa-eb8d-4354-8758-788e5a474125",
   "metadata": {},
   "source": [
    "## Data Structures"
   ]
  },
  {
   "cell_type": "markdown",
   "id": "d405bdd0-dc99-4c7c-884c-e26630b845b2",
   "metadata": {},
   "source": [
    "### Part 1: Lists"
   ]
  },
  {
   "cell_type": "code",
   "execution_count": 2,
   "id": "6c2eb53e-230d-4489-b6b3-d7409b1d4e87",
   "metadata": {},
   "outputs": [],
   "source": [
    "ages = [12,18,33,84,45,67,12,82,95,16,10,23,43,29,40,34,30,16,44,69,70,74,38,65,36,83,50,11,79,64,78,37,3,8,68,22,4,60,33,82,45,23,5,18,28,99,17,81,14,88,50,19,59,7,44,93,35,72,25,63,11,69,11,76,10,60,30,14,21,82,47,6,21,88,46,78,92,48,36,28,51]"
   ]
  },
  {
   "cell_type": "markdown",
   "id": "97fa5810-e477-4d4f-bd78-ff08cb9433ee",
   "metadata": {},
   "source": [
    "Record the length of the ages list in a variable.\n",
    "<br>\n",
    "Display the length."
   ]
  },
  {
   "cell_type": "code",
   "execution_count": 4,
   "id": "f14c986c-66b3-4f6f-a68d-9ad2d191ddc4",
   "metadata": {},
   "outputs": [
    {
     "name": "stdout",
     "output_type": "stream",
     "text": [
      "81\n"
     ]
    }
   ],
   "source": [
    "age_length = len(ages)\n",
    "print(age_length)"
   ]
  },
  {
   "cell_type": "markdown",
   "id": "a995d452-03f2-4056-9281-63e49ef28fa6",
   "metadata": {},
   "source": [
    "Display the first and the last element of the ages list."
   ]
  },
  {
   "cell_type": "code",
   "execution_count": 5,
   "id": "115323c4-3683-49dd-a808-4bd24b077b79",
   "metadata": {},
   "outputs": [
    {
     "name": "stdout",
     "output_type": "stream",
     "text": [
      "12\n",
      "51\n"
     ]
    }
   ],
   "source": [
    "print(ages[0])\n",
    "print(ages[-1])"
   ]
  },
  {
   "cell_type": "markdown",
   "id": "a1e44aee-5d50-4778-a8d5-ca5459c8489c",
   "metadata": {},
   "source": [
    "Find the ages from the third to the last."
   ]
  },
  {
   "cell_type": "code",
   "execution_count": 6,
   "id": "00f598a0-7230-4260-9628-4a36c8be4597",
   "metadata": {},
   "outputs": [
    {
     "name": "stdout",
     "output_type": "stream",
     "text": [
      "[84, 45, 67, 12, 82, 95, 16, 10, 23, 43, 29, 40, 34, 30, 16, 44, 69, 70, 74, 38, 65, 36, 83, 50, 11, 79, 64, 78, 37, 3, 8, 68, 22, 4, 60, 33, 82, 45, 23, 5, 18, 28, 99, 17, 81, 14, 88, 50, 19, 59, 7, 44, 93, 35, 72, 25, 63, 11, 69, 11, 76, 10, 60, 30, 14, 21, 82, 47, 6, 21, 88, 46, 78, 92, 48, 36, 28, 51]\n"
     ]
    }
   ],
   "source": [
    "print(ages[3:])"
   ]
  },
  {
   "cell_type": "markdown",
   "id": "91c9a9da-c355-42e6-818f-c0b23bf4586b",
   "metadata": {},
   "source": [
    "Show the first 10 ages backwards."
   ]
  },
  {
   "cell_type": "code",
   "execution_count": 8,
   "id": "76eca548-e2c5-44b7-a5a8-f00ef97ad4dd",
   "metadata": {},
   "outputs": [
    {
     "name": "stdout",
     "output_type": "stream",
     "text": [
      "[10, 16, 95, 82, 12, 67, 45, 84, 33, 18, 12]\n"
     ]
    }
   ],
   "source": [
    "print(ages[10::-1])"
   ]
  },
  {
   "cell_type": "markdown",
   "id": "cf7454c9-64cd-4555-b0f5-3b7983f388af",
   "metadata": {},
   "source": [
    "Display the first 10 ages one on each line:\n",
    "__Tip:__ Use a __for__ loop to read each number. "
   ]
  },
  {
   "cell_type": "code",
   "execution_count": 10,
   "id": "f099d45d-fe61-405f-9820-3d720761521f",
   "metadata": {},
   "outputs": [
    {
     "name": "stdout",
     "output_type": "stream",
     "text": [
      "12\n",
      "18\n",
      "33\n",
      "84\n",
      "45\n",
      "67\n",
      "12\n",
      "82\n",
      "95\n",
      "16\n"
     ]
    }
   ],
   "source": [
    "for age in ages[:10]:\n",
    "    print(age)"
   ]
  },
  {
   "cell_type": "code",
   "execution_count": 13,
   "id": "b208bd88-f4e0-4d18-9c54-c03d0948e584",
   "metadata": {},
   "outputs": [],
   "source": [
    "# a list of odd numbers\n",
    "odd = [1,3,5,7,9,11,15,17,19,21]"
   ]
  },
  {
   "cell_type": "markdown",
   "id": "4226b0e2-7f39-4a62-a285-c496d442ca6a",
   "metadata": {},
   "source": [
    "Spot the missing value in the list of odd numbers and insert it."
   ]
  },
  {
   "cell_type": "code",
   "execution_count": 14,
   "id": "1a655c65-52f8-4262-a77c-104fce2ab47e",
   "metadata": {},
   "outputs": [
    {
     "data": {
      "text/plain": [
       "[1, 3, 5, 7, 9, 11, 13, 15, 17, 19, 21]"
      ]
     },
     "execution_count": 14,
     "metadata": {},
     "output_type": "execute_result"
    }
   ],
   "source": [
    "odd.insert(6, 13)\n",
    "odd"
   ]
  },
  {
   "cell_type": "markdown",
   "id": "76d8de5d-8a43-47be-95a8-f52157a88e75",
   "metadata": {},
   "source": [
    "### Part 2: Strings"
   ]
  },
  {
   "cell_type": "code",
   "execution_count": 15,
   "id": "67ebf97d-af3e-4177-9eed-a0578d82dcf8",
   "metadata": {},
   "outputs": [],
   "source": [
    "# a greeting\n",
    "greeting = 'Hello'"
   ]
  },
  {
   "cell_type": "markdown",
   "id": "9e6cb266-363c-4364-99a3-e9d9f0496299",
   "metadata": {},
   "source": [
    "Spell the greeting backwards"
   ]
  },
  {
   "cell_type": "code",
   "execution_count": 16,
   "id": "7a20773d-862b-49b6-b53b-65841050848b",
   "metadata": {},
   "outputs": [
    {
     "data": {
      "text/plain": [
       "'olleH'"
      ]
     },
     "execution_count": 16,
     "metadata": {},
     "output_type": "execute_result"
    }
   ],
   "source": [
    "greeting[::-1]"
   ]
  },
  {
   "cell_type": "code",
   "execution_count": 17,
   "id": "35f33321-1d38-482d-8fd8-8e4673f4eda6",
   "metadata": {},
   "outputs": [],
   "source": [
    "UK = 'UNITED KINGDOM OF GREAT BRITAIN AND NORTHERN IRELAND'"
   ]
  },
  {
   "cell_type": "markdown",
   "id": "ceaaae04-a8c6-43c6-ab80-8d76670fd3b2",
   "metadata": {},
   "source": [
    "Spell the name of the UK observing which letters should be capital and which lowercase."
   ]
  },
  {
   "cell_type": "code",
   "execution_count": 18,
   "id": "1b480286-8d8a-445b-a104-164deb74909d",
   "metadata": {},
   "outputs": [
    {
     "data": {
      "text/plain": [
       "'United Kingdom Of Great Britain And Northern Ireland'"
      ]
     },
     "execution_count": 18,
     "metadata": {},
     "output_type": "execute_result"
    }
   ],
   "source": [
    "UK.title()"
   ]
  },
  {
   "cell_type": "code",
   "execution_count": 19,
   "id": "78584fcb-2f97-4376-960a-93bc4acf3dea",
   "metadata": {},
   "outputs": [],
   "source": [
    "# from \"Fare thee well\", George Gordon Byron\n",
    "byron = 'Fare thee well and if forever still forever fare thee well'"
   ]
  },
  {
   "cell_type": "markdown",
   "id": "82d15f0e-f876-4ec5-becc-50d36784f5ed",
   "metadata": {},
   "source": [
    "Find the position of the first occurence of the word 'forever'"
   ]
  },
  {
   "cell_type": "code",
   "execution_count": 20,
   "id": "5f540ecc-a18d-40bc-96aa-53877a90c36c",
   "metadata": {},
   "outputs": [
    {
     "data": {
      "text/plain": [
       "22"
      ]
     },
     "execution_count": 20,
     "metadata": {},
     "output_type": "execute_result"
    }
   ],
   "source": [
    "byron.find('forever')"
   ]
  },
  {
   "cell_type": "markdown",
   "id": "f4ec70a3-adb3-4974-a3ee-ef29d3614dfa",
   "metadata": {},
   "source": [
    "### Part 3: Tuples"
   ]
  },
  {
   "cell_type": "markdown",
   "id": "1390601a-3bec-4f01-9d59-dcdd15e376f5",
   "metadata": {},
   "source": [
    "Create a tuple with your favourite desserts (at least 3 of them!). "
   ]
  },
  {
   "cell_type": "code",
   "execution_count": 21,
   "id": "9ef1e4db-011a-4fc5-baa7-6a29cc143bae",
   "metadata": {},
   "outputs": [],
   "source": [
    "desserts = 'sticky toffee pudding', 'affogato', 'syrup sponge'"
   ]
  },
  {
   "cell_type": "markdown",
   "id": "4229318a-90e8-4999-87f3-5f602b5d3590",
   "metadata": {},
   "source": [
    "Print the number of your favourite desserts."
   ]
  },
  {
   "cell_type": "code",
   "execution_count": 22,
   "id": "791fa861-ec6b-4687-9250-6da62d165542",
   "metadata": {},
   "outputs": [
    {
     "name": "stdout",
     "output_type": "stream",
     "text": [
      "3\n"
     ]
    }
   ],
   "source": [
    "print(len(desserts))"
   ]
  },
  {
   "cell_type": "markdown",
   "id": "a9bcdd08-6c95-4ecf-8f4a-1bd9b8b9385b",
   "metadata": {},
   "source": [
    "Print the second of the desserts."
   ]
  },
  {
   "cell_type": "code",
   "execution_count": 23,
   "id": "8c7fd6d4-947b-4455-ba6b-0f2dce328138",
   "metadata": {},
   "outputs": [
    {
     "data": {
      "text/plain": [
       "'affogato'"
      ]
     },
     "execution_count": 23,
     "metadata": {},
     "output_type": "execute_result"
    }
   ],
   "source": [
    "desserts[1]"
   ]
  },
  {
   "cell_type": "markdown",
   "id": "757a1672-4d8c-4dd4-94e3-35f72abccf38",
   "metadata": {},
   "source": [
    "Print the last of the desserts."
   ]
  },
  {
   "cell_type": "code",
   "execution_count": 25,
   "id": "89a12868-1370-4981-9fd7-0c243af05bbc",
   "metadata": {},
   "outputs": [
    {
     "name": "stdout",
     "output_type": "stream",
     "text": [
      "syrup sponge\n"
     ]
    }
   ],
   "source": [
    "# And no, this will not work. Why? Try to mend it and also try another way\n",
    "#print(desserts[len(desserts)])\n",
    "print(desserts[len(desserts) - 1])"
   ]
  },
  {
   "cell_type": "code",
   "execution_count": 27,
   "id": "42573831-1a32-4bd1-923d-d3c486646134",
   "metadata": {},
   "outputs": [
    {
     "data": {
      "text/plain": [
       "'syrup sponge'"
      ]
     },
     "execution_count": 27,
     "metadata": {},
     "output_type": "execute_result"
    }
   ],
   "source": [
    "# much simpler\n",
    "desserts[-1]"
   ]
  },
  {
   "cell_type": "markdown",
   "id": "a8abe490-b92c-4bb3-8138-8d6716fe0e60",
   "metadata": {},
   "source": [
    "Print the first two desserts."
   ]
  },
  {
   "cell_type": "code",
   "execution_count": 28,
   "id": "8c8e777c-52e3-4729-baf4-353a5eeff07b",
   "metadata": {},
   "outputs": [
    {
     "data": {
      "text/plain": [
       "('sticky toffee pudding', 'affogato')"
      ]
     },
     "execution_count": 28,
     "metadata": {},
     "output_type": "execute_result"
    }
   ],
   "source": [
    "desserts[:2]"
   ]
  },
  {
   "cell_type": "markdown",
   "id": "05cda418-8f25-4f2c-9952-2183d83b9089",
   "metadata": {},
   "source": [
    "Check if pancakes are included in the desserts and print response in each case."
   ]
  },
  {
   "cell_type": "code",
   "execution_count": 29,
   "id": "777727d7-11fe-42c9-91a1-71a52509e1a7",
   "metadata": {},
   "outputs": [
    {
     "data": {
      "text/plain": [
       "False"
      ]
     },
     "execution_count": 29,
     "metadata": {},
     "output_type": "execute_result"
    }
   ],
   "source": [
    "'pancakes' in desserts"
   ]
  },
  {
   "cell_type": "markdown",
   "id": "0c317344-1c71-4289-8f77-3c7ae4e986db",
   "metadata": {},
   "source": [
    "Let's get more sophisticated. Write code to ask a customer for their dessert preference and respond depending on its availability."
   ]
  },
  {
   "cell_type": "code",
   "execution_count": 30,
   "id": "742bfd9c-ce58-4476-9a3c-7910095e645a",
   "metadata": {},
   "outputs": [
    {
     "name": "stdin",
     "output_type": "stream",
     "text": [
      "What dessert do you want?  cheese\n"
     ]
    },
    {
     "data": {
      "text/plain": [
       "False"
      ]
     },
     "execution_count": 30,
     "metadata": {},
     "output_type": "execute_result"
    }
   ],
   "source": [
    "user_dessert = input('What dessert do you want? ')\n",
    "\n",
    "user_dessert in desserts"
   ]
  },
  {
   "cell_type": "markdown",
   "id": "0cb15b45-003a-45a8-ac4c-6ff234016cbd",
   "metadata": {},
   "source": [
    "Once a tuple is created, you cannot change its values. Tuples are immutable (unchangeable).\n",
    "But there is a workaround! You can convert the tuple into a list, change the list, and convert the list back into a tuple."
   ]
  },
  {
   "cell_type": "markdown",
   "id": "59ce286b-2eb1-42b8-8c6e-6dd68b45b7d8",
   "metadata": {},
   "source": [
    "Change the second dessert to something else."
   ]
  },
  {
   "cell_type": "code",
   "execution_count": 31,
   "id": "5ecb4bd8-f48c-4cb8-841c-ce8d1da97131",
   "metadata": {},
   "outputs": [],
   "source": [
    "desserts = list(desserts)\n",
    "desserts[1] = 'creme brulee'\n",
    "desserts = tuple(desserts)"
   ]
  },
  {
   "cell_type": "markdown",
   "id": "beab3fa8-2e4c-4bbc-b74e-244fc73c19ff",
   "metadata": {},
   "source": [
    "How about appending to a tuple? This too cannot be done directly, since tuples are immutable. Going through a list conversion works here too."
   ]
  },
  {
   "cell_type": "markdown",
   "id": "9e3f5ebd-9a61-440c-aac8-13de8277ad48",
   "metadata": {},
   "source": [
    "Add another dessert to the list."
   ]
  },
  {
   "cell_type": "code",
   "execution_count": 32,
   "id": "833c1cf4-f924-4310-9505-c2fa357c3d05",
   "metadata": {},
   "outputs": [],
   "source": [
    "desserts = list(desserts)\n",
    "desserts.append('cheesecake')\n",
    "desserts = tuple(desserts)"
   ]
  },
  {
   "cell_type": "markdown",
   "id": "a98de52b-5e07-4205-b39d-9636097dce2d",
   "metadata": {},
   "source": [
    "Display all desserts, using for and while loops. You have to produce three different solutions."
   ]
  },
  {
   "cell_type": "code",
   "execution_count": 33,
   "id": "8639d49f-ed20-4f15-a23e-483fe04ee516",
   "metadata": {},
   "outputs": [
    {
     "name": "stdout",
     "output_type": "stream",
     "text": [
      "('sticky toffee pudding', 'creme brulee', 'syrup sponge', 'cheesecake')\n"
     ]
    }
   ],
   "source": [
    "print(desserts)"
   ]
  },
  {
   "cell_type": "code",
   "execution_count": 34,
   "id": "aeba2430-1e81-4e99-9f1e-268fb46cb1b8",
   "metadata": {},
   "outputs": [
    {
     "name": "stdout",
     "output_type": "stream",
     "text": [
      "sticky toffee pudding\n",
      "creme brulee\n",
      "syrup sponge\n",
      "cheesecake\n"
     ]
    }
   ],
   "source": [
    "for dessert in desserts:\n",
    "    print(dessert)"
   ]
  },
  {
   "cell_type": "code",
   "execution_count": 36,
   "id": "fcfad230-0fbd-4da7-bb7d-1b28f380c45e",
   "metadata": {},
   "outputs": [
    {
     "name": "stdout",
     "output_type": "stream",
     "text": [
      "sticky toffee pudding\n",
      "creme brulee\n",
      "syrup sponge\n",
      "cheesecake\n"
     ]
    }
   ],
   "source": [
    "i = 0\n",
    "\n",
    "while i < len(desserts):\n",
    "    print(desserts[i])\n",
    "    i+=1"
   ]
  },
  {
   "cell_type": "markdown",
   "id": "5339291b-eac9-44b8-bf39-34aa3352ceed",
   "metadata": {},
   "source": [
    "### Part 4: Dictionaries"
   ]
  },
  {
   "cell_type": "markdown",
   "id": "fcab8729-eea3-4d25-9495-78c2ae6c24e6",
   "metadata": {},
   "source": [
    "Consider the following dictionary:"
   ]
  },
  {
   "cell_type": "code",
   "execution_count": 37,
   "id": "4f510378-18ba-45fb-8f67-e25a1b2cfccf",
   "metadata": {},
   "outputs": [],
   "source": [
    "books = {\n",
    "  \"title\": \"Hamlet\",\n",
    "  \"author\": \"William Shakespeare\",\n",
    "  \"language\": \"English\"\n",
    "}"
   ]
  },
  {
   "cell_type": "markdown",
   "id": "a80d0ae9-a7f7-47a0-9170-42de346ace16",
   "metadata": {},
   "source": [
    "Print the title value."
   ]
  },
  {
   "cell_type": "code",
   "execution_count": 38,
   "id": "4ffe0916-d89d-461d-a2f1-f08a4310cfcf",
   "metadata": {},
   "outputs": [
    {
     "data": {
      "text/plain": [
       "'Hamlet'"
      ]
     },
     "execution_count": 38,
     "metadata": {},
     "output_type": "execute_result"
    }
   ],
   "source": [
    "books['title']"
   ]
  },
  {
   "cell_type": "markdown",
   "id": "af80c2a4-1c06-45e4-bbe6-eadf462dce5e",
   "metadata": {},
   "source": [
    "Get a list of the keys of the dictionary."
   ]
  },
  {
   "cell_type": "code",
   "execution_count": 39,
   "id": "c0dd52a0-5a16-4f66-8250-36dc6a5498e4",
   "metadata": {},
   "outputs": [
    {
     "data": {
      "text/plain": [
       "dict_keys(['title', 'author', 'language'])"
      ]
     },
     "execution_count": 39,
     "metadata": {},
     "output_type": "execute_result"
    }
   ],
   "source": [
    "books.keys()"
   ]
  },
  {
   "cell_type": "markdown",
   "id": "22c7746e-59b7-4dba-88b8-b870fec8ce4f",
   "metadata": {},
   "source": [
    "Get a list of the values of the dictionary."
   ]
  },
  {
   "cell_type": "code",
   "execution_count": 40,
   "id": "dcae1313-d866-4da7-b106-ade29fa6f47c",
   "metadata": {},
   "outputs": [
    {
     "data": {
      "text/plain": [
       "dict_values(['Hamlet', 'William Shakespeare', 'English'])"
      ]
     },
     "execution_count": 40,
     "metadata": {},
     "output_type": "execute_result"
    }
   ],
   "source": [
    "books.values()"
   ]
  },
  {
   "cell_type": "markdown",
   "id": "95b4c427-2c55-42c4-83d6-a1fbd42e6ddb",
   "metadata": {},
   "source": [
    "Get a list of the key-value items."
   ]
  },
  {
   "cell_type": "code",
   "execution_count": 41,
   "id": "6d45654d-63fa-4500-9144-1f5d8ac8838e",
   "metadata": {},
   "outputs": [
    {
     "data": {
      "text/plain": [
       "dict_items([('title', 'Hamlet'), ('author', 'William Shakespeare'), ('language', 'English')])"
      ]
     },
     "execution_count": 41,
     "metadata": {},
     "output_type": "execute_result"
    }
   ],
   "source": [
    "books.items()"
   ]
  },
  {
   "cell_type": "markdown",
   "id": "7c218be3-a33f-44c2-8a89-dc1e17579fa2",
   "metadata": {},
   "source": [
    "Change the title to 'King Lear' and check that the dictionary is updated."
   ]
  },
  {
   "cell_type": "code",
   "execution_count": 42,
   "id": "e3b495e7-f5e3-4972-b7c2-6d9c14cc4578",
   "metadata": {},
   "outputs": [],
   "source": [
    "books['title'] = 'King Lear'"
   ]
  },
  {
   "cell_type": "code",
   "execution_count": 43,
   "id": "4ef986c3-ba0a-4925-ad89-60fe5d9d369c",
   "metadata": {},
   "outputs": [
    {
     "data": {
      "text/plain": [
       "{'title': 'King Lear', 'author': 'William Shakespeare', 'language': 'English'}"
      ]
     },
     "execution_count": 43,
     "metadata": {},
     "output_type": "execute_result"
    }
   ],
   "source": [
    "books"
   ]
  },
  {
   "cell_type": "markdown",
   "id": "d2f94232-c87e-4cf4-ac6e-60c7825ee385",
   "metadata": {},
   "source": [
    "### Part 5: Sets"
   ]
  },
  {
   "cell_type": "markdown",
   "id": "c2f24af8-8375-4c76-bcbd-2fec9a4fdf7f",
   "metadata": {},
   "source": [
    "Create a set containing fruit."
   ]
  },
  {
   "cell_type": "code",
   "execution_count": 49,
   "id": "a4b4bc9c-c3e5-4bb5-a8bc-3206615a9f21",
   "metadata": {},
   "outputs": [],
   "source": [
    "fruits = {'banana', 'kiwi', 'orange'}"
   ]
  },
  {
   "cell_type": "markdown",
   "id": "9c3f2a6b-d783-4034-962f-03348d3b779d",
   "metadata": {},
   "source": [
    "Add another fruit to the set and print it."
   ]
  },
  {
   "cell_type": "code",
   "execution_count": 50,
   "id": "3d5cc81b-8b7f-49de-b587-791afef4de2e",
   "metadata": {},
   "outputs": [
    {
     "name": "stdout",
     "output_type": "stream",
     "text": [
      "{'kiwi', 'banana', 'orange', 'grapefruit'}\n"
     ]
    }
   ],
   "source": [
    "fruits.add('grapefruit')\n",
    "print(fruits)"
   ]
  },
  {
   "cell_type": "markdown",
   "id": "8087ffc1-9094-48a6-bafc-01d5ed17fb51",
   "metadata": {},
   "source": [
    "Loop through the set of fruit and print each element."
   ]
  },
  {
   "cell_type": "code",
   "execution_count": 52,
   "id": "c8db3b4e-c26e-4e31-badc-f9010216d9fe",
   "metadata": {},
   "outputs": [
    {
     "name": "stdout",
     "output_type": "stream",
     "text": [
      "kiwi\n",
      "banana\n",
      "orange\n",
      "grapefruit\n"
     ]
    }
   ],
   "source": [
    "for fruit in fruits:\n",
    "    print(fruit)"
   ]
  },
  {
   "cell_type": "markdown",
   "id": "2fbb8b59-690a-4eed-babb-49e1bc4eb642",
   "metadata": {},
   "source": [
    "Consider the following sets."
   ]
  },
  {
   "cell_type": "code",
   "execution_count": 53,
   "id": "ebb8841a-9aa2-4379-bb9c-c39351a75bca",
   "metadata": {},
   "outputs": [],
   "source": [
    "s1 = {'A', 'B', 'C', 'D', 'E'}\n",
    "s2 = {'D', 'E', 'F', 'G'}"
   ]
  },
  {
   "cell_type": "markdown",
   "id": "d23abef0-950d-4cb5-9f55-cdc24451037e",
   "metadata": {},
   "source": [
    "Find and print set S3 which contains all elements belonging to either S1 and S2."
   ]
  },
  {
   "cell_type": "code",
   "execution_count": 54,
   "id": "a2e678fa-91b1-4746-87ec-6e1fcc838d69",
   "metadata": {},
   "outputs": [
    {
     "data": {
      "text/plain": [
       "{'A', 'B', 'C', 'D', 'E', 'F', 'G'}"
      ]
     },
     "execution_count": 54,
     "metadata": {},
     "output_type": "execute_result"
    }
   ],
   "source": [
    "s3 = s1 | s2\n",
    "s3"
   ]
  },
  {
   "cell_type": "markdown",
   "id": "8c563327-e696-464e-be9e-bc7b531bbd87",
   "metadata": {},
   "source": [
    "Find and print set S3 which contains the elements belonging to both S1 and S2."
   ]
  },
  {
   "cell_type": "code",
   "execution_count": null,
   "id": "e801d8e6-e95b-4124-8c26-39c94275e0b4",
   "metadata": {},
   "outputs": [],
   "source": []
  },
  {
   "cell_type": "code",
   "execution_count": 55,
   "id": "e77f3924-0ee6-4301-b6a2-c8c958fd8063",
   "metadata": {},
   "outputs": [
    {
     "data": {
      "text/plain": [
       "{'D', 'E'}"
      ]
     },
     "execution_count": 55,
     "metadata": {},
     "output_type": "execute_result"
    }
   ],
   "source": [
    "s3 = s1 & s2\n",
    "s3"
   ]
  },
  {
   "cell_type": "markdown",
   "id": "fd9fb989-500e-4166-8d93-3b84d81e0039",
   "metadata": {},
   "source": [
    "Find and print set S3 which contains the elements that are in S1 but not S2."
   ]
  },
  {
   "cell_type": "code",
   "execution_count": null,
   "id": "71696020-ecbd-4086-a839-cd2ab6dda404",
   "metadata": {},
   "outputs": [],
   "source": []
  },
  {
   "cell_type": "code",
   "execution_count": 56,
   "id": "b43caa0b-1875-43e8-941c-c2107dd0cea1",
   "metadata": {},
   "outputs": [
    {
     "data": {
      "text/plain": [
       "{'A', 'B', 'C'}"
      ]
     },
     "execution_count": 56,
     "metadata": {},
     "output_type": "execute_result"
    }
   ],
   "source": [
    "s3 = s1 - s2\n",
    "s3"
   ]
  },
  {
   "cell_type": "markdown",
   "id": "9d15dfff-cb09-42be-95d0-d8fff21ed7a3",
   "metadata": {},
   "source": [
    "Find and print set S3 which contains the elements that are in only one of S1 and S2 but not the other."
   ]
  },
  {
   "cell_type": "code",
   "execution_count": null,
   "id": "741ceb90-6a17-464d-99df-60aa75285e66",
   "metadata": {},
   "outputs": [],
   "source": []
  },
  {
   "cell_type": "code",
   "execution_count": null,
   "id": "71a0e119-76bb-443c-bf52-8eb0239f45a5",
   "metadata": {},
   "outputs": [],
   "source": []
  },
  {
   "cell_type": "code",
   "execution_count": 57,
   "id": "d1996f4f-ad06-42e0-a506-2451218f8231",
   "metadata": {},
   "outputs": [
    {
     "data": {
      "text/plain": [
       "{'A', 'B', 'C', 'F', 'G'}"
      ]
     },
     "execution_count": 57,
     "metadata": {},
     "output_type": "execute_result"
    }
   ],
   "source": [
    "s3 = s1 ^ s2\n",
    "s3"
   ]
  },
  {
   "cell_type": "markdown",
   "id": "a87cb634-d3ee-4b18-a95b-adb1ac2b27fc",
   "metadata": {},
   "source": [
    "### Part 6: Selection"
   ]
  },
  {
   "cell_type": "markdown",
   "id": "8bec8fbc-3495-47c2-87aa-9ffb9236e569",
   "metadata": {},
   "source": [
    "The general Python syntax for a simple if statement is:\n",
    "\n",
    "if condition :\n",
    "<br>\n",
    "&emsp;indentedStatementBlock\n",
    "\n",
    "Create an __IF statement__ to see if the person’s age is equal to 18 or over. \n",
    "<br>\n",
    "Display 'You are in category A' "
   ]
  },
  {
   "cell_type": "code",
   "execution_count": 58,
   "id": "6e374878-601c-479b-bfca-9598c224c124",
   "metadata": {},
   "outputs": [
    {
     "name": "stdout",
     "output_type": "stream",
     "text": [
      "You are in category A\n"
     ]
    }
   ],
   "source": [
    "age = 40\n",
    "\n",
    "if age > 18:\n",
    "    print('You are in category A')"
   ]
  },
  {
   "cell_type": "markdown",
   "id": "0485c44e-4f39-4053-84f5-afb641e98643",
   "metadata": {},
   "source": [
    "Create an __IF statement__ to see if the person’s age is equal to 16 or over. \n",
    "<br>\n",
    "Display 'You are in category B' "
   ]
  },
  {
   "cell_type": "code",
   "execution_count": 59,
   "id": "d180bf93-8340-486f-999b-99c40bb8b53c",
   "metadata": {},
   "outputs": [
    {
     "name": "stdout",
     "output_type": "stream",
     "text": [
      "You are in category B\n"
     ]
    }
   ],
   "source": [
    "age = 40\n",
    "\n",
    "if age > 16:\n",
    "    print('You are in category B')"
   ]
  },
  {
   "cell_type": "markdown",
   "id": "cd11e4b4-694f-43f9-b657-34a18c6c49da",
   "metadata": {},
   "source": [
    "Create an __IF statement__ to see if the person is under 16 years of age. \n",
    "<br>\n",
    "Display 'You are in category C' "
   ]
  },
  {
   "cell_type": "code",
   "execution_count": 61,
   "id": "e68fa072-ad10-4bed-bb34-22b84a0481ad",
   "metadata": {},
   "outputs": [],
   "source": [
    "age = 40\n",
    "\n",
    "if age < 16:\n",
    "    print('You are in category C')"
   ]
  },
  {
   "cell_type": "markdown",
   "id": "fac6dd52-1078-40e9-8fea-5cc2b1c077d4",
   "metadata": {},
   "source": [
    "Go back and run the first bit of the code and enter 19 for age\n",
    "\n",
    "As you see, there are too many confusing messages!\n",
    "<br>\n",
    "Simple IF statements work fine, but not in a chain of IF statements such asthese. For chain, we need to use an __if…elif__ statement. \n",
    "\n",
    "Create an __if…elif__ statement to examine the age in one statement. Follow this\n",
    "pattern:\n",
    "\n",
    "if person is 18 and over:\n",
    "<br>\n",
    "&emsp;display message\n",
    "<br>\n",
    "elif person is 16 and over:\n",
    "<br>\n",
    "&emsp;display message\n",
    "<br>\n",
    "else:\n",
    "<br>\n",
    "&emsp;display message\n",
    "\n",
    "__Note:__ You must start with the highest age value first."
   ]
  },
  {
   "cell_type": "markdown",
   "id": "8cc6ce78-55b9-497b-a990-b6440e64a613",
   "metadata": {},
   "source": [
    "Save and rerun your code using different values for age."
   ]
  },
  {
   "cell_type": "code",
   "execution_count": 62,
   "id": "923a5b77-4952-44bd-80d6-c0fb3a254ab6",
   "metadata": {},
   "outputs": [
    {
     "name": "stdout",
     "output_type": "stream",
     "text": [
      "You are in category A\n"
     ]
    }
   ],
   "source": [
    "age = 19\n",
    "\n",
    "if age > 18:\n",
    "    print('You are in category A')\n",
    "elif age > 16:\n",
    "    print('You are in category B')\n",
    "else:\n",
    "    print('You are in category C')"
   ]
  },
  {
   "cell_type": "markdown",
   "id": "11c81712-3378-4364-9e14-d9dadb058e71",
   "metadata": {},
   "source": [
    "### Part 7 - While Loops"
   ]
  },
  {
   "cell_type": "markdown",
   "id": "6bb7c4ee-b0a4-45ae-ad0b-69ab5a5e344d",
   "metadata": {},
   "source": [
    "The syntax of a while loop in Python programming language is −\n",
    "\n",
    "while expression:\n",
    "<br>\n",
    "&emsp;statement(s)\n",
    "\n",
    "Create a variable with the value 1."
   ]
  },
  {
   "cell_type": "code",
   "execution_count": 63,
   "id": "22b383c6-ac30-474d-9d49-8f584faf9640",
   "metadata": {},
   "outputs": [],
   "source": [
    "value = 1"
   ]
  },
  {
   "cell_type": "markdown",
   "id": "1bb4a96c-7b92-499f-adb7-61112d634f7b",
   "metadata": {},
   "source": [
    "Write a while loop that starts at 1 and ends at 100. Within the while loop calculate and display each number and its square. End the loop if that square is bigger than 2000. "
   ]
  },
  {
   "cell_type": "code",
   "execution_count": 67,
   "id": "23b8f626-8363-4705-a2ab-a4b1158ab7f4",
   "metadata": {},
   "outputs": [
    {
     "name": "stdout",
     "output_type": "stream",
     "text": [
      "1\n",
      "4\n",
      "9\n",
      "16\n",
      "25\n",
      "36\n",
      "49\n",
      "64\n",
      "81\n",
      "100\n",
      "121\n",
      "144\n",
      "169\n",
      "196\n",
      "225\n",
      "256\n",
      "289\n",
      "324\n",
      "361\n",
      "400\n",
      "441\n",
      "484\n",
      "529\n",
      "576\n",
      "625\n",
      "676\n",
      "729\n",
      "784\n",
      "841\n",
      "900\n",
      "961\n",
      "1024\n",
      "1089\n",
      "1156\n",
      "1225\n",
      "1296\n",
      "1369\n",
      "1444\n",
      "1521\n",
      "1600\n",
      "1681\n",
      "1764\n",
      "1849\n",
      "1936\n"
     ]
    }
   ],
   "source": [
    "i = 1\n",
    "while i < 100:\n",
    "    square = i ** 2\n",
    "    if square > 2000:\n",
    "        break\n",
    "    print(square)\n",
    "    i+=1"
   ]
  },
  {
   "cell_type": "markdown",
   "id": "bf7e6000-b6a2-4980-9218-9dfacd9c036b",
   "metadata": {},
   "source": [
    "#### Factorial\n",
    "\n",
    "Ask the user to input an integer"
   ]
  },
  {
   "cell_type": "markdown",
   "id": "678177dd-cc7f-493c-bbcb-d6ae45b98f4d",
   "metadata": {},
   "source": [
    "Display the number's factorial using a while loop.\n",
    "\n",
    "__Note:__ the factorial of a number is that number multiplied by all the preceding numbers.\n",
    "\n",
    "The factorial of 5 is = 5 x 4 x 3 x 2 x 1 = 120\n",
    "<br>\n",
    "Or, if you like = 1 x 2 x 3 x 4 x 5"
   ]
  },
  {
   "cell_type": "code",
   "execution_count": 69,
   "id": "b5b16a1c-165b-46e0-973d-6ca4982831fd",
   "metadata": {},
   "outputs": [
    {
     "name": "stdin",
     "output_type": "stream",
     "text": [
      "Which number do you want the factorial of?  5\n"
     ]
    },
    {
     "name": "stdout",
     "output_type": "stream",
     "text": [
      "120\n"
     ]
    }
   ],
   "source": [
    "number = int(input('Which number do you want the factorial of? '))\n",
    "current = 1\n",
    "result = 1\n",
    "\n",
    "while current <= number:\n",
    "    result *= current\n",
    "    current += 1\n",
    "print(result)"
   ]
  },
  {
   "cell_type": "markdown",
   "id": "93aaa7f5-5a6e-410c-a753-56e43850645e",
   "metadata": {},
   "source": [
    "#### Investment\n",
    "\n",
    "Calculates how many years it will take an initial investment of £100 to grow to a target value of £1000 if the interest rate is 10%.\n",
    "\n",
    "__Tip:__ Don’t start writing code until you've got a plan of action!\n",
    "\n",
    "To make your calculation more usable by inputting the following values:\n",
    "- Initial investment\n",
    "- Target value\n",
    "- Interest rate "
   ]
  },
  {
   "cell_type": "code",
   "execution_count": null,
   "id": "94db24e5-e8ee-47ef-9eb3-a382e3777f32",
   "metadata": {},
   "outputs": [],
   "source": [
    "start = float(input(\"Initial investment: \"))\n",
    "target = float(input(\"Target value: \"))\n",
    "interest = int(input(\"Interest rate [%]: \"))/100"
   ]
  },
  {
   "cell_type": "code",
   "execution_count": null,
   "id": "744aa074-5929-4e72-ac21-eeb8555b5bae",
   "metadata": {},
   "outputs": [],
   "source": [
    "year = 0\n",
    "current = start\n",
    "while current < target:\n",
    "    year += 1\n",
    "    current *= (1+interest)\n",
    "    print(\"year\",year,\"value\",round(current,2))"
   ]
  },
  {
   "cell_type": "markdown",
   "id": "d55c86d0-e78b-4501-913e-10ea38e5fe76",
   "metadata": {},
   "source": [
    "### Part 8: For Loops"
   ]
  },
  {
   "cell_type": "markdown",
   "id": "c5edefde-1089-405f-8b4c-ffb7d9afc2a6",
   "metadata": {},
   "source": [
    "#### Average"
   ]
  },
  {
   "cell_type": "markdown",
   "id": "7e0302a7-6499-492c-8962-190ef866ad5f",
   "metadata": {},
   "source": [
    "Create a list of numbers and compute their average. "
   ]
  },
  {
   "cell_type": "code",
   "execution_count": null,
   "id": "003dce28-2f3e-4943-b3f9-602d6667f0c5",
   "metadata": {},
   "outputs": [],
   "source": [
    "L = [1,5,3,8,4,7,9,2]\n",
    "\n",
    "sum = 0\n",
    "for n in L:\n",
    "    sum += n\n",
    "average = sum / len(L)\n",
    "average"
   ]
  },
  {
   "cell_type": "markdown",
   "id": "84d9f39b-e8bc-40c9-9192-b538885c0c14",
   "metadata": {},
   "source": [
    "#### Factorial\n",
    "\n",
    "Ask the user to unput an integer"
   ]
  },
  {
   "cell_type": "code",
   "execution_count": null,
   "id": "4ee3e359-f4f2-4b7d-8acb-6925d4137564",
   "metadata": {},
   "outputs": [],
   "source": [
    "number = int(input(\"Enter a positive integer: \"))"
   ]
  },
  {
   "cell_type": "markdown",
   "id": "07112bc8-e374-4ea4-8057-0ba3d6984861",
   "metadata": {},
   "source": [
    "Display the number's factorial using a for loop.\n",
    "\n",
    "__Note:__ the factorial of a number is that number multiplied by all the preceding numbers.\n",
    "\n",
    "The factorial of 5 is = 5 x 4 x 3 x 2 x 1 = 120\n",
    "<br>\n",
    "Or, if you like = 1 x 2 x 3 x 4 x 5"
   ]
  },
  {
   "cell_type": "code",
   "execution_count": null,
   "id": "e4b97242-4a44-45e7-a79b-21ac644ef8cb",
   "metadata": {},
   "outputs": [],
   "source": [
    "factorial = 1\n",
    "for counter in range(1,(number+1)):\n",
    "    factorial *= counter\n",
    "print(factorial)"
   ]
  },
  {
   "cell_type": "markdown",
   "id": "443eca8d-95fa-4572-8d5d-267e4afbd846",
   "metadata": {},
   "source": [
    "#### Combinations\n",
    "\n",
    "You are given a list of sizes and a list of garments. Display all combinations of a size and a garment (you will need more than one for loop for this!).\n",
    "\n",
    "sizes = ['Large', 'Medium', 'Small']\n",
    "garments = ['Shirt', 'Jacket', 'Trousers']"
   ]
  },
  {
   "cell_type": "code",
   "execution_count": null,
   "id": "8d8bc7b0-9d2d-42c9-8131-e17e17436765",
   "metadata": {},
   "outputs": [],
   "source": [
    "sizes = ['Large', 'Medium', 'Small']\n",
    "garments = ['Shirt', 'Jacket', 'Trousers']\n",
    "\n",
    "for i in sizes:\n",
    "    for j in garments:\n",
    "        print(i,j)"
   ]
  },
  {
   "cell_type": "markdown",
   "id": "b39635f4-eaab-471d-9e56-0f7d1b22389c",
   "metadata": {},
   "source": [
    "### Part 9: Functions\n",
    "\n",
    "Write a function that takes a string as an argument and returns the number of capital letters in the string.\n",
    "\n",
    "Hint: `'foo'.upper()` returns `'FOO'`.\n",
    "\n",
    "\n",
    "<a id='pyess-ex4'></a>"
   ]
  },
  {
   "cell_type": "code",
   "execution_count": 70,
   "id": "84eb2d7f-3103-4cd6-9d62-aef867150b07",
   "metadata": {},
   "outputs": [],
   "source": [
    "def make_upper(text: str) -> None:\n",
    "    return text.upper()"
   ]
  },
  {
   "cell_type": "markdown",
   "id": "88688ad6-fcf9-414b-a068-a6a49aa73006",
   "metadata": {},
   "source": [
    "Write a function that takes two sequences `seq_a` and `seq_b` as arguments and\n",
    "returns `True` if every element in `seq_a` is also an element of `seq_b`, else\n",
    "`False`.\n",
    "\n",
    "- By “sequence” we mean a list, a tuple or a string.  \n",
    "- Do the exercise without using [sets](https://docs.python.org/3/tutorial/datastructures.html#sets) and set methods.  \n",
    "\n",
    "\n",
    "\n",
    "<a id='pyess-ex5'></a>"
   ]
  },
  {
   "cell_type": "code",
   "execution_count": 82,
   "id": "060c62e8-2e2e-4064-b84a-161cbeccb91c",
   "metadata": {},
   "outputs": [],
   "source": [
    "def seq_check(seq_a, seq_b):\n",
    "    return all([seq_a_element in seq_b for seq_a_element in seq_a])"
   ]
  },
  {
   "cell_type": "markdown",
   "id": "052aa73d-3f93-424f-8649-c8b507ea9c99",
   "metadata": {},
   "source": [
    "### Part 10: File Handling\n"
   ]
  },
  {
   "cell_type": "markdown",
   "id": "d0212384-153e-4b38-b1f9-4495896bc350",
   "metadata": {},
   "source": [
    "Read file data.txt"
   ]
  },
  {
   "cell_type": "code",
   "execution_count": null,
   "id": "71e8e7a0-f083-4890-b152-4babb762366f",
   "metadata": {},
   "outputs": [],
   "source": [
    "data = open('data.txt', 'r').read().split('\\n')\n",
    "print(data)"
   ]
  },
  {
   "cell_type": "markdown",
   "id": "23f73927-3a91-4650-945e-daf9daf5f3d7",
   "metadata": {},
   "source": [
    "Calculate the sum, minimum, maximum and the average of the values in the file"
   ]
  },
  {
   "cell_type": "code",
   "execution_count": null,
   "id": "f3e62c35-c6f6-4c90-bff6-aa96274b4657",
   "metadata": {},
   "outputs": [],
   "source": [
    "# the list contains strings and we need the corresponding numbers\n",
    "for i in range(0,len(data)):\n",
    "    data[i] = int(data[i])"
   ]
  },
  {
   "cell_type": "code",
   "execution_count": null,
   "id": "2725a935-172d-4b47-9e60-c6dfe4b86d4d",
   "metadata": {},
   "outputs": [],
   "source": [
    "# initialise the variables\n",
    "var_sum = 0\n",
    "var_min = data[0]\n",
    "var_max = data[0]\n",
    "var_avg = 0"
   ]
  },
  {
   "cell_type": "code",
   "execution_count": null,
   "id": "1fcad6dc-1927-4cfc-88c3-b9edf1e67223",
   "metadata": {},
   "outputs": [],
   "source": [
    "  # loop through the values\n",
    "for x in data:\n",
    "    var_sum += x\n",
    "    if x < var_min:\n",
    "        var_min = x\n",
    "    if x > var_max:\n",
    "        var_max = x\n",
    "var_avg = var_sum / len(data)"
   ]
  },
  {
   "cell_type": "markdown",
   "id": "f194b6b7-5ed1-4d22-8231-578d216451bd",
   "metadata": {},
   "source": [
    "Output the results to a newly created file"
   ]
  },
  {
   "cell_type": "code",
   "execution_count": null,
   "id": "99e898b7-bd9b-4d80-8e48-40c4a2371db7",
   "metadata": {},
   "outputs": [],
   "source": [
    "f = open('output.txt', 'w')\n",
    "\n",
    "print('Total sum:', var_sum)\n",
    "print('Min:', var_min)\n",
    "print('Max', var_max)\n",
    "print('Average', var_avg)\n",
    "\n",
    "f.write('Total sum: ' + str(var_sum) + '\\n')\n",
    "f.write('Min: ' + str(var_min) + '\\n')\n",
    "f.write('Max: ' + str(var_max) + '\\n')\n",
    "f.write('Average: ' + str(var_avg) + '\\n')"
   ]
  },
  {
   "cell_type": "markdown",
   "id": "64ef959c-ad97-438b-946d-21ea4be2fd9d",
   "metadata": {},
   "source": [
    "Close the file"
   ]
  },
  {
   "cell_type": "code",
   "execution_count": null,
   "id": "2fa8cd8d-f6b4-4875-af14-67e8a3d74492",
   "metadata": {},
   "outputs": [],
   "source": [
    "f.close()"
   ]
  },
  {
   "cell_type": "markdown",
   "id": "861bab5e-145e-4283-802a-08815b035a57",
   "metadata": {},
   "source": [
    "#### Append output file"
   ]
  },
  {
   "cell_type": "markdown",
   "id": "e17763b2-6b24-4dc4-99df-ef19c437706a",
   "metadata": {},
   "source": [
    "Adults only !\n",
    "Ask a customer their age. If they are at least 18 years old, print \"Welcome\", otherwise print \"Please come back in X years\", where X is the remaining time until they turn 18.\n",
    "\n",
    "In addition to the screen output, send the output to a text file, adding every response to the file."
   ]
  },
  {
   "cell_type": "code",
   "execution_count": null,
   "id": "e0c4e428-4df8-42fa-a834-45a9e1c0212b",
   "metadata": {},
   "outputs": [],
   "source": [
    "# open the file for writing (appending)\n",
    "a = open('age_output.txt', 'a')"
   ]
  },
  {
   "cell_type": "code",
   "execution_count": null,
   "id": "6a1564b6-2eaf-4135-9ab8-88c4b3f8cfdf",
   "metadata": {},
   "outputs": [],
   "source": [
    "age_limit = 18\n",
    "age = int(input('Please enter your age: '))\n",
    "\n",
    "if (age >= 18):\n",
    "    # print to the screen\n",
    "    print('Welcome')\n",
    "    # output into the file\n",
    "    a.write('Age: ' + str(age) + ' :: ')\n",
    "    a.write('Welcome\\n')\n",
    "else:\n",
    "    # print to the screen\n",
    "    print('Please come back in '+ str(age_limit-age) + ' years')\n",
    "    # output into the file\n",
    "    a.write('Age: ' + str(age) + ' :: ')\n",
    "    a.write('Please come back in '+ str(age_limit-age) + ' years\\n')"
   ]
  },
  {
   "cell_type": "code",
   "execution_count": null,
   "id": "b5959fbf-1d3d-44f1-aa4b-1adc9fc62d88",
   "metadata": {},
   "outputs": [],
   "source": [
    "# close the file\n",
    "a.close()"
   ]
  },
  {
   "cell_type": "markdown",
   "id": "40418343-2274-475c-a289-be831f168701",
   "metadata": {},
   "source": [
    "### Extension Activities"
   ]
  },
  {
   "cell_type": "markdown",
   "id": "87120d80-5a0b-4938-9b75-4a73213182e7",
   "metadata": {},
   "source": [
    "### Exercise 1\n",
    "\n",
    "Using [list comprehension syntax](https://docs.python.org/3/tutorial/datastructures.html#list-comprehensions), we can simplify the loop in the following code."
   ]
  },
  {
   "cell_type": "code",
   "execution_count": 87,
   "id": "202a7354-3725-4278-a417-97744c177d99",
   "metadata": {
    "hide-output": false
   },
   "outputs": [
    {
     "data": {
      "text/plain": [
       "[0.27828888332504204,\n",
       " -0.7933657391899116,\n",
       " 0.1539684557325097,\n",
       " 0.8586083920047639,\n",
       " -0.6444324471418087,\n",
       " 1.1300815460143672,\n",
       " 1.2211910159360624,\n",
       " -1.0529217258568713,\n",
       " -0.8149690971057039,\n",
       " 0.16383147452139743,\n",
       " 0.7314753629757635,\n",
       " 1.295937341948572,\n",
       " 1.4156416449687805,\n",
       " 0.15098831871282611,\n",
       " -0.38763434603580466,\n",
       " -0.33104443134556544,\n",
       " 0.982233707528809,\n",
       " 0.053758442736410096,\n",
       " 0.1531094920725476,\n",
       " -1.0822211748588801,\n",
       " 1.4354370282876914,\n",
       " 0.10989894295029312,\n",
       " 0.568259792296115,\n",
       " 0.9573678163931965,\n",
       " -1.4108373209509446,\n",
       " -0.18692634846362116,\n",
       " 0.11791437798697155,\n",
       " 0.6985463454118369,\n",
       " 0.7334898385733705,\n",
       " 2.2192108106512833,\n",
       " 0.5527130490803654,\n",
       " -0.6027734676314518,\n",
       " -0.7022084951901887,\n",
       " -0.8278848265545402,\n",
       " -1.1714675486914896,\n",
       " 0.36692008440489826,\n",
       " -0.0468380875570374,\n",
       " 1.491404733561571,\n",
       " 1.3203986250606843,\n",
       " 2.124859664317803,\n",
       " 0.07010300676991198,\n",
       " -1.6661812536982636,\n",
       " -0.9834823255738383,\n",
       " -0.703958654975876,\n",
       " 0.23726947639728133,\n",
       " -0.3007487906789465,\n",
       " 0.3405365422769056,\n",
       " 0.8392930716022217,\n",
       " -0.5768706272975759,\n",
       " 2.861588123191872,\n",
       " 1.725953519416856,\n",
       " 0.9415382627776019,\n",
       " 0.12766540046800695,\n",
       " 0.5167221908200818,\n",
       " -0.38043397796044864,\n",
       " -0.3305050690944282,\n",
       " -1.1011204029949473,\n",
       " 0.7869806900182744,\n",
       " 0.39870374774679485,\n",
       " -1.0892939040502843,\n",
       " 0.3242776174490737,\n",
       " 0.626472942543285,\n",
       " -0.645594798635625,\n",
       " -1.779776479289268,\n",
       " -0.2397005725778521,\n",
       " 0.7291074234978167,\n",
       " 2.757299665477874,\n",
       " 0.25167168201925233,\n",
       " -1.051537065511633,\n",
       " -0.3706609930367983,\n",
       " -0.31460240939126405,\n",
       " -0.6027003959637575,\n",
       " -0.8704605746843773,\n",
       " -1.4565997023938917,\n",
       " 0.5405032087631032,\n",
       " -0.16522837560461212,\n",
       " -1.0151558625310755,\n",
       " -1.4585857963992435,\n",
       " -3.0153150114004053,\n",
       " 2.787563231815646,\n",
       " -0.0851377969443333,\n",
       " -0.4243396444453333,\n",
       " -0.38738938733451567,\n",
       " -0.16572570490151092,\n",
       " -0.5747845366365085,\n",
       " 0.2364275226439044,\n",
       " 0.45917706242680856,\n",
       " 0.9701150351670307,\n",
       " -2.72945702155452,\n",
       " -0.613372628761018,\n",
       " -1.3179148315872842,\n",
       " -0.6999813993414528,\n",
       " 0.8168269149382085,\n",
       " 0.031496493852921685,\n",
       " 1.006542415148166,\n",
       " 1.9618196009265303,\n",
       " 1.4979697087865622,\n",
       " -1.1385976606968744,\n",
       " 0.9273796007992665,\n",
       " 1.1063826322767547]"
      ]
     },
     "execution_count": 87,
     "metadata": {},
     "output_type": "execute_result"
    }
   ],
   "source": [
    "import numpy as np\n",
    "\n",
    "n = 100\n",
    "ϵ_values = []\n",
    "for i in range(n):\n",
    "    e = np.random.randn()\n",
    "    ϵ_values.append(e)\n",
    "ϵ_values"
   ]
  },
  {
   "cell_type": "code",
   "execution_count": 88,
   "id": "d5d6560d-03ec-41c1-b8b2-07c4047974dc",
   "metadata": {},
   "outputs": [
    {
     "data": {
      "text/plain": [
       "[1.2529333181653766,\n",
       " -0.8391962462571693,\n",
       " 0.23096716742932186,\n",
       " -0.7045865164388952,\n",
       " -1.7968083553685248,\n",
       " 0.19961808616758148,\n",
       " -0.8665654448522339,\n",
       " 0.6656667076509961,\n",
       " 1.0924431861627795,\n",
       " -0.6719693002176186,\n",
       " 0.9462510619693171,\n",
       " -1.0160473062530293,\n",
       " 0.9756590520121982,\n",
       " 0.11791809352671466,\n",
       " 1.2448751263783298,\n",
       " -2.058426828696154,\n",
       " 0.22253364044993065,\n",
       " -0.8102950343459606,\n",
       " -0.3915116291414467,\n",
       " -0.45990642895445727,\n",
       " -0.7250026875638161,\n",
       " 0.4078892341988933,\n",
       " 1.3898854019444729,\n",
       " 0.3070584982116251,\n",
       " -0.503729122336708,\n",
       " -0.861133150174847,\n",
       " 0.06972470667809595,\n",
       " -3.063454274498932,\n",
       " 0.6982158663916754,\n",
       " -1.3197606553153902,\n",
       " -0.5165691233447458,\n",
       " 0.21191576990971345,\n",
       " 0.6404872713040421,\n",
       " 0.8060090528967341,\n",
       " -0.6001363367365176,\n",
       " -0.19987113739990556,\n",
       " 0.2752737573201331,\n",
       " 0.3715424594051442,\n",
       " 2.0785838274056356,\n",
       " 0.05750109015903417,\n",
       " -0.947031374787342,\n",
       " -0.10664420654981577,\n",
       " 1.1496611813089643,\n",
       " 0.4347038470796761,\n",
       " 0.9664197297240223,\n",
       " -0.2192521510016756,\n",
       " -1.027510706161303,\n",
       " 1.766422606225024,\n",
       " -1.3140894313921276,\n",
       " 0.8549091513081837,\n",
       " -1.1330918387497857,\n",
       " 0.9888607578397076,\n",
       " 0.924482188582472,\n",
       " 1.8594183873043761,\n",
       " -0.24345614892007766,\n",
       " 0.14915185802097242,\n",
       " -0.15428532665065198,\n",
       " -1.3275686617018019,\n",
       " -0.259817054336628,\n",
       " 0.29999377228917967,\n",
       " 0.8483104427791643,\n",
       " -0.3579312364924496,\n",
       " 0.3274919378629705,\n",
       " 0.7946851249942888,\n",
       " 1.70008881470949,\n",
       " -1.3585744494549596,\n",
       " 0.7081302916614876,\n",
       " -0.19816172921517106,\n",
       " -0.32142215883376796,\n",
       " -1.1475215536482875,\n",
       " 2.1936278626008026,\n",
       " 0.003348752771460812,\n",
       " -1.450430076424399,\n",
       " 0.2793006276438488,\n",
       " -0.4627216667829972,\n",
       " -1.1847848069625113,\n",
       " 0.017536694569258347,\n",
       " 0.6113592216224284,\n",
       " -0.7717312681832421,\n",
       " 1.7143556026262854,\n",
       " 0.19899814850822983,\n",
       " 0.002956714506882295,\n",
       " -0.7122127883119882,\n",
       " 0.6469208233033819,\n",
       " 0.7364545743256825,\n",
       " -1.8168777812340506,\n",
       " 0.6017772745865395,\n",
       " -0.8805011355885402,\n",
       " 0.45894275561196224,\n",
       " -2.1093770686444486,\n",
       " 0.09779093422068379,\n",
       " 0.12602704920310953,\n",
       " -0.0980678983017996,\n",
       " 0.7767662494347334,\n",
       " -0.9902212584779881,\n",
       " 0.013846324697220826,\n",
       " 1.1897805125972305,\n",
       " -1.1771139732918283,\n",
       " -1.0564818158543612,\n",
       " 1.0054082585594026]"
      ]
     },
     "execution_count": 88,
     "metadata": {},
     "output_type": "execute_result"
    }
   ],
   "source": [
    "[np.random.randn() for _ in range(100)]"
   ]
  },
  {
   "cell_type": "markdown",
   "id": "241a3db2-cad6-4bb6-88ba-9465ade51428",
   "metadata": {},
   "source": [
    "### Exercise 2\n",
    "\n",
    "Using the dictionary `christmas_sequence` print out each verse of the [The Twelve Days of Christmas](https://en.wikipedia.org/wiki/The_Twelve_Days_of_Christmas_(song)).\n",
    "\n",
    "For example, the third verse will be:\n",
    "_On the third day of Christmas my true love sent to me three french hens, two turtle doves and a partridge in a pear tree._\n",
    "\n",
    "Hint: You will probably need nested loops."
   ]
  },
  {
   "cell_type": "code",
   "execution_count": 89,
   "id": "0bbcbd0d-4ac6-4832-acba-2f33eb1c8a32",
   "metadata": {},
   "outputs": [],
   "source": [
    "christmas_sequence = {\"first\": \"a partridge in a pear tree\",\n",
    "                      \"second\": \"two turtle doves\",\n",
    "                      \"third\": \"three french hens\",\n",
    "                      \"fourth\": \"four calling birds\",\n",
    "                      \"fith\": \"five gold rings\",\n",
    "                      \"sixth\": \"six geese a-laying\",\n",
    "                      \"seventh\": \"seven swans a-swimming\",\n",
    "                      \"eigth\": \"eight maids a-milking\",\n",
    "                      \"nineth\": \"nine ladies dancing\",\n",
    "                      \"thenth\": \"ten lords a-leaping\",\n",
    "                      \"eleventh\": \"eleven pipers piping\",\n",
    "                      \"twelth\": \"twelve drummers drumming\"}\n",
    "\n"
   ]
  },
  {
   "cell_type": "markdown",
   "id": "4a8a8332-a14e-4fef-afa9-89cf77d2721b",
   "metadata": {},
   "source": [
    "### Exercise 3\n",
    "\n",
    "The function ``dir`` allows you to look at the methods and attributes associated with a python object. Pick one or more of the objects we have looked at:\n",
    "\n",
    "- There are two main types of methods and attributes returned. What are they? What is the value in this approach?"
   ]
  },
  {
   "cell_type": "code",
   "execution_count": null,
   "id": "83ceb5f7-b60a-4361-a4b8-eddfbc62c34e",
   "metadata": {
    "scrolled": true
   },
   "outputs": [],
   "source": [
    "dir(1)"
   ]
  },
  {
   "cell_type": "markdown",
   "id": "6fbd19ea-7c95-4eee-a47d-67ea98c64c7c",
   "metadata": {},
   "source": [
    "### Exercise 4"
   ]
  },
  {
   "cell_type": "markdown",
   "id": "618eda2d-ad53-44dd-a645-9abc313b1f05",
   "metadata": {},
   "source": [
    "As you might have realised, variables are accesible between code cells. They are in the same _namespace_. We can look at what is in that namespace using the ``globals`` and ``locals`` functions.\n",
    "\n",
    "- What are the datatypes of the ``globals`` and ``locals`` function outputs?\n",
    "- There are lots of variables listed besides the ones you have created. Many of these are specific to this interface. Can you identify their purpose?"
   ]
  }
 ],
 "metadata": {
  "kernelspec": {
   "display_name": "Python 3 (ipykernel)",
   "language": "python",
   "name": "python3"
  },
  "language_info": {
   "codemirror_mode": {
    "name": "ipython",
    "version": 3
   },
   "file_extension": ".py",
   "mimetype": "text/x-python",
   "name": "python",
   "nbconvert_exporter": "python",
   "pygments_lexer": "ipython3",
   "version": "3.11.5"
  }
 },
 "nbformat": 4,
 "nbformat_minor": 5
}
