{
 "cells": [
  {
   "cell_type": "markdown",
   "id": "a33eeb2b-1cf1-41f6-ae6b-57be64490801",
   "metadata": {},
   "source": [
    "# Exercise 2 - Introduction to Python and IDEs"
   ]
  },
  {
   "cell_type": "markdown",
   "id": "1497ec3f-a29a-4ac3-a06b-5dfc35be9083",
   "metadata": {},
   "source": [
    "## Objective\n",
    "\n",
    "In this guided task, you'll use Jupyter to:\n",
    "- Create a Python application\n",
    "- Perform arithmetic operations\n",
    "- Input values using keyboard and display information\n",
    "- Use casting to convert strings to integers and floats\n"
   ]
  },
  {
   "cell_type": "markdown",
   "id": "1267bba4-6a82-4aff-8124-436fb0d018c6",
   "metadata": {},
   "source": [
    "### Part 1 - Create a New Notebook"
   ]
  },
  {
   "cell_type": "markdown",
   "id": "20a171e2-06f4-4310-958c-52c27126ae66",
   "metadata": {},
   "source": [
    "Create a new notebook.\n",
    "\n",
    "Experiment with the keyboard shortcuts in Command mode, e.g.\n",
    "- adding cells above and below\n",
    "- deleting cells\n",
    "- changing from markdown to code and verifying, i.e entering some text or code and running to check"
   ]
  },
  {
   "cell_type": "code",
   "execution_count": null,
   "id": "a943ea28-a2a9-4a8f-84ff-585edfe33153",
   "metadata": {},
   "outputs": [],
   "source": []
  },
  {
   "cell_type": "markdown",
   "id": "d8d7b609-a3aa-4b54-9419-616dbbd0dc4e",
   "metadata": {},
   "source": [
    "### Part 2 - Display Hello World!\n",
    "\n",
    "Type the following text in the code page that is open:\n",
    "\n",
    "\n",
    "print('Hello World!')"
   ]
  },
  {
   "cell_type": "code",
   "execution_count": 1,
   "id": "5c2e4417-9bb3-49b8-be60-d715c5b1253d",
   "metadata": {},
   "outputs": [
    {
     "name": "stdout",
     "output_type": "stream",
     "text": [
      "Hello World!\n"
     ]
    }
   ],
   "source": [
    "print('Hello World!')"
   ]
  },
  {
   "cell_type": "markdown",
   "id": "823ebd78-efa1-4cfe-b323-7c4dffa0cb6c",
   "metadata": {},
   "source": [
    "### Part 3.1 - Display a message using variables\n",
    "\n",
    "Create two variables to hold someone's name and age. Type:\n",
    "\n",
    "\n",
    "username='Bob'\n",
    "<br>\n",
    "age=32\n",
    "<br>\n",
    "print(username,'is',age,'years old')"
   ]
  },
  {
   "cell_type": "code",
   "execution_count": 2,
   "id": "fad93870-428b-4b0a-9c4f-4e64e55dc3b1",
   "metadata": {},
   "outputs": [
    {
     "name": "stdout",
     "output_type": "stream",
     "text": [
      "Bob is 32 years old\n"
     ]
    }
   ],
   "source": [
    "username='Bob'\n",
    "age=32\n",
    "print(username,'is',age,'years old')"
   ]
  },
  {
   "cell_type": "markdown",
   "id": "ae9764ed-274f-4a88-87dc-374f7927906a",
   "metadata": {},
   "source": [
    "Modify your code to use the '+' character to add strings:\n",
    "\n",
    "username='Bob'\n",
    "<br>\n",
    "age=32\n",
    "<br>\n",
    "print(username+'is'+age+'years old')"
   ]
  },
  {
   "cell_type": "code",
   "execution_count": 3,
   "id": "c446ccf2-9115-4f57-b078-6d95d455f2e0",
   "metadata": {},
   "outputs": [
    {
     "ename": "TypeError",
     "evalue": "can only concatenate str (not \"int\") to str",
     "output_type": "error",
     "traceback": [
      "\u001b[1;31m---------------------------------------------------------------------------\u001b[0m",
      "\u001b[1;31mTypeError\u001b[0m                                 Traceback (most recent call last)",
      "Cell \u001b[1;32mIn[3], line 3\u001b[0m\n\u001b[0;32m      1\u001b[0m username\u001b[38;5;241m=\u001b[39m\u001b[38;5;124m'\u001b[39m\u001b[38;5;124mBob\u001b[39m\u001b[38;5;124m'\u001b[39m\n\u001b[0;32m      2\u001b[0m age\u001b[38;5;241m=\u001b[39m\u001b[38;5;241m32\u001b[39m\n\u001b[1;32m----> 3\u001b[0m \u001b[38;5;28mprint\u001b[39m(\u001b[43musername\u001b[49m\u001b[38;5;241;43m+\u001b[39;49m\u001b[38;5;124;43m'\u001b[39;49m\u001b[38;5;124;43mis\u001b[39;49m\u001b[38;5;124;43m'\u001b[39;49m\u001b[38;5;241;43m+\u001b[39;49m\u001b[43mage\u001b[49m\u001b[38;5;241m+\u001b[39m\u001b[38;5;124m'\u001b[39m\u001b[38;5;124myears old\u001b[39m\u001b[38;5;124m'\u001b[39m)\n",
      "\u001b[1;31mTypeError\u001b[0m: can only concatenate str (not \"int\") to str"
     ]
    }
   ],
   "source": [
    "username='Bob'\n",
    "age=32\n",
    "print(username+'is'+age+'years old')"
   ]
  },
  {
   "cell_type": "markdown",
   "id": "6699c35d-2004-4767-8d7f-016a8f9e2c42",
   "metadata": {},
   "source": [
    "What is wrong? Look at the error. Can you correct it?"
   ]
  },
  {
   "cell_type": "code",
   "execution_count": 4,
   "id": "42468717-1eea-4941-aa76-27afbbb44512",
   "metadata": {},
   "outputs": [
    {
     "name": "stdout",
     "output_type": "stream",
     "text": [
      "Bobis32years old\n"
     ]
    }
   ],
   "source": [
    "username='Bob'\n",
    "age=32\n",
    "print(username+'is'+str(age)+'years old')"
   ]
  },
  {
   "cell_type": "markdown",
   "id": "4c9747e7-2498-4b46-ac43-4c2560d67d47",
   "metadata": {},
   "source": [
    "Does the output look right or are the strings stuck together? That's what + and strings does!\n",
    "<br>\n",
    "<br>\n",
    "Modify the print statement by inserting 3 spaces in the strings as follows:\n",
    "<br>\n",
    "print(username,' is '+age+' years old')"
   ]
  },
  {
   "cell_type": "code",
   "execution_count": 5,
   "id": "78219cb8-c7fa-4460-8aea-e78a66f566f9",
   "metadata": {},
   "outputs": [
    {
     "name": "stdout",
     "output_type": "stream",
     "text": [
      "Bob is 32 years old\n"
     ]
    }
   ],
   "source": [
    "age=32\n",
    "print(username+' is '+str(age)+' years old')"
   ]
  },
  {
   "cell_type": "markdown",
   "id": "0c3e3c3f-b76e-44bd-bb8e-8713b50cc4d4",
   "metadata": {},
   "source": [
    "### Part 3.2 - Get user input\n",
    "\n",
    "Write the following code to get the username and age by using the keyboard.\n",
    "\n",
    "\n",
    "username=input('Please enter your name')\n",
    "<br>\n",
    "age = input('Please enter your age')\n",
    "<br>\n",
    "print(username,'is',age,'years old')"
   ]
  },
  {
   "cell_type": "code",
   "execution_count": 6,
   "id": "8af4a991-ff76-4c4e-bc3b-508999861d6a",
   "metadata": {},
   "outputs": [
    {
     "name": "stdin",
     "output_type": "stream",
     "text": [
      "Please enter your name Thomas\n",
      "Please enter your age 30\n"
     ]
    },
    {
     "name": "stdout",
     "output_type": "stream",
     "text": [
      "Thomas is 30 years old\n"
     ]
    }
   ],
   "source": [
    "username=input('Please enter your name')\n",
    "age = input('Please enter your age')\n",
    "print(username,'is',age,'years old')"
   ]
  },
  {
   "cell_type": "markdown",
   "id": "3549be1d-3947-4f34-ab52-b099544d25f8",
   "metadata": {},
   "source": [
    "### Part 4 - Arithmetic operations\n",
    "A box contains 50 crayons which have to be distributed to 6 children. Each child has to get the same number of whole crayons (no breaking). Calculate the number of crayons each child will get."
   ]
  },
  {
   "cell_type": "code",
   "execution_count": 7,
   "id": "981d9c76-82bc-40ee-94fb-7379508c7cc1",
   "metadata": {},
   "outputs": [
    {
     "data": {
      "text/plain": [
       "8"
      ]
     },
     "execution_count": 7,
     "metadata": {},
     "output_type": "execute_result"
    }
   ],
   "source": [
    "crayons = 50\n",
    "children = 6\n",
    "\n",
    "crayons // children"
   ]
  },
  {
   "cell_type": "markdown",
   "id": "55ac319f-1053-4410-8d9a-15dda97ce832",
   "metadata": {},
   "source": [
    "### Part 5 - Casting variables\n",
    "\n",
    "Capture user input to get the length of the first side of a rectangle.\n",
    "\n",
    "Use a suitable variable name such as length.\n",
    "\n",
    "You must cast (convert) the text you input to an integer type (int)."
   ]
  },
  {
   "cell_type": "code",
   "execution_count": 8,
   "id": "c037c2e6-ea12-499e-a201-5815231e63cf",
   "metadata": {},
   "outputs": [
    {
     "name": "stdin",
     "output_type": "stream",
     "text": [
      "What is the length of the first side?  10\n"
     ]
    }
   ],
   "source": [
    "length = int(input(\"What is the length of the first side? \"))"
   ]
  },
  {
   "cell_type": "markdown",
   "id": "75abe9d9-7337-42a2-98c6-26d65c69d4b3",
   "metadata": {},
   "source": [
    "Input the length of the second side of the rectangle.\n",
    "\n",
    "Use a suitable variable name such as width.\n",
    "\n",
    "Again, cast the input text to an integer type (int).\n"
   ]
  },
  {
   "cell_type": "code",
   "execution_count": 9,
   "id": "9f6ae73f-4125-4860-ab82-769a4cecc16c",
   "metadata": {},
   "outputs": [
    {
     "name": "stdin",
     "output_type": "stream",
     "text": [
      "What is the length of the second side?  20\n"
     ]
    }
   ],
   "source": [
    "width = int(input(\"What is the length of the second side? \"))"
   ]
  },
  {
   "cell_type": "markdown",
   "id": "f8ed85bc-ad36-4644-a1e0-6c63ea71156e",
   "metadata": {},
   "source": [
    "Calculate and display the perimeter of the rectangle. "
   ]
  },
  {
   "cell_type": "code",
   "execution_count": 10,
   "id": "3dafa6a0-2c22-4353-99e1-7ccb5cf69a39",
   "metadata": {},
   "outputs": [
    {
     "name": "stdout",
     "output_type": "stream",
     "text": [
      "The rectangle with lenght 10 and width 20 has perimeter 60\n"
     ]
    }
   ],
   "source": [
    "print(f'The rectangle with lenght {length} and width {width} has perimeter {2 * (length + width)}')"
   ]
  },
  {
   "cell_type": "markdown",
   "id": "bd9ec091-02ec-4232-bba1-4cddbd9061e7",
   "metadata": {},
   "source": [
    "### Extension Activities"
   ]
  },
  {
   "cell_type": "markdown",
   "id": "b0cc4c2a-e3ee-4d33-8a1a-856bc8a25648",
   "metadata": {},
   "source": [
    "Given two numeric lists or tuples `x_vals` and `y_vals` of equal length, compute\n",
    "their inner product using `zip()`."
   ]
  },
  {
   "cell_type": "code",
   "execution_count": 11,
   "id": "499a7bdf-186d-4098-8a4c-540bfa689828",
   "metadata": {},
   "outputs": [
    {
     "name": "stdout",
     "output_type": "stream",
     "text": [
      "32\n"
     ]
    }
   ],
   "source": [
    "x_vals = [1, 2, 3]\n",
    "y_vals = [4, 5, 6]\n",
    "\n",
    "prod = 0\n",
    "for x, y in zip(x_vals, y_vals):\n",
    "    prod += x * y\n",
    "\n",
    "print(prod)"
   ]
  },
  {
   "cell_type": "markdown",
   "id": "68f541f8-96b5-4504-aa19-a4f7d4d4ee6c",
   "metadata": {},
   "source": [
    "In one line, count the number of even numbers in 0,…,99.\n",
    "\n",
    "- Hint: `x % 2` returns 0 if `x` is even, 1 otherwise.  "
   ]
  },
  {
   "cell_type": "code",
   "execution_count": 12,
   "id": "93dabefe-0afd-4ae6-84ed-28c029f5b26f",
   "metadata": {},
   "outputs": [
    {
     "data": {
      "text/plain": [
       "50"
      ]
     },
     "execution_count": 12,
     "metadata": {},
     "output_type": "execute_result"
    }
   ],
   "source": [
    "sum([x % 2 for x in range(100)])"
   ]
  },
  {
   "cell_type": "markdown",
   "id": "868040c5-74ef-4809-ad9e-40bca5c8ba06",
   "metadata": {},
   "source": [
    "Given `pairs = ((2, 5), (4, 2), (9, 8), (12, 10))`, count the number of pairs `(a, b)`\n",
    "such that both `a` and `b` are even."
   ]
  },
  {
   "cell_type": "code",
   "execution_count": 13,
   "id": "23860fed-c7f9-40e2-a2fe-1ebdc5704df6",
   "metadata": {},
   "outputs": [
    {
     "data": {
      "text/plain": [
       "2"
      ]
     },
     "execution_count": 13,
     "metadata": {},
     "output_type": "execute_result"
    }
   ],
   "source": [
    "pairs = ((2, 5), (4, 2), (9, 8), (12, 10))\n",
    "\n",
    "sum([(left % 2 == 0) and (right % 2 == 0) for left, right in pairs])"
   ]
  },
  {
   "cell_type": "markdown",
   "id": "d6939c20-8c64-4852-96f6-aed4d39b9040",
   "metadata": {},
   "source": [
    "Write a piece of code which calculates change to be given from an input amount in £. To start you off, we've given you a list of denominations of UK currency."
   ]
  },
  {
   "cell_type": "code",
   "execution_count": 14,
   "id": "3cdbd8e9-49ca-42f0-893d-04eabad64614",
   "metadata": {},
   "outputs": [
    {
     "name": "stdin",
     "output_type": "stream",
     "text": [
      "What do you need change from? £ 23.45\n"
     ]
    },
    {
     "name": "stdout",
     "output_type": "stream",
     "text": [
      "0 x £50\n",
      "1 x £20\n",
      "0 x £10\n",
      "0 x £5\n",
      "1 x £2\n",
      "1 x £1\n",
      "0 x £0.5\n",
      "2 x £0.2\n",
      "0 x £0.1\n",
      "1 x £0.05\n"
     ]
    }
   ],
   "source": [
    "denoms = [50, 20, 10, 5, 2, 1, 0.5, 0.2, 0.1, 0.05, 0.02, 0.01]\n",
    "amount = float(input(\"What do you need change from? £\"))\n",
    "\n",
    "numbers = []\n",
    "for denom in denoms:\n",
    "    numbers.append(int(amount // denom))\n",
    "    if amount % denom == 0:\n",
    "        break\n",
    "    else:\n",
    "        amount = round(amount % denom, 2) # There are better types for this\n",
    "        \n",
    "for num, denom in zip(numbers, denoms):\n",
    "    print(f\"{num} x £{denom}\")"
   ]
  }
 ],
 "metadata": {
  "kernelspec": {
   "display_name": "Python 3 (ipykernel)",
   "language": "python",
   "name": "python3"
  },
  "language_info": {
   "codemirror_mode": {
    "name": "ipython",
    "version": 3
   },
   "file_extension": ".py",
   "mimetype": "text/x-python",
   "name": "python",
   "nbconvert_exporter": "python",
   "pygments_lexer": "ipython3",
   "version": "3.11.5"
  }
 },
 "nbformat": 4,
 "nbformat_minor": 5
}
