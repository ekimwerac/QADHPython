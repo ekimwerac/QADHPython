{
 "cells": [
  {
   "cell_type": "markdown",
   "id": "e79da35f-eb9a-460d-aac9-bbdeeb569dd3",
   "metadata": {},
   "source": [
    "# Exercise 4 - Mathematical and Statistical Programming with Numpy"
   ]
  },
  {
   "cell_type": "code",
   "execution_count": 1,
   "id": "7616496d-0e41-4f07-9112-263b54b3af8f",
   "metadata": {},
   "outputs": [],
   "source": [
    "# import necessary libraries\n",
    "import numpy as np"
   ]
  },
  {
   "cell_type": "code",
   "execution_count": 2,
   "id": "ad05386f-b2d2-4c78-a68f-08a4ecb685d7",
   "metadata": {},
   "outputs": [
    {
     "data": {
      "text/plain": [
       "array([0, 1, 2, 3, 4, 5, 6, 7, 8, 9])"
      ]
     },
     "execution_count": 2,
     "metadata": {},
     "output_type": "execute_result"
    }
   ],
   "source": [
    "# create data to work with \n",
    "x = np.arange(10)\n",
    "x"
   ]
  },
  {
   "cell_type": "markdown",
   "id": "b6c560c5-84d0-44e1-9ceb-07e5dca38b06",
   "metadata": {},
   "source": [
    "Display the first 5 elements."
   ]
  },
  {
   "cell_type": "code",
   "execution_count": 3,
   "id": "ac9b7b94-0e87-424a-bb30-4cf7bcf7283f",
   "metadata": {},
   "outputs": [
    {
     "data": {
      "text/plain": [
       "array([0, 1, 2, 3, 4])"
      ]
     },
     "execution_count": 3,
     "metadata": {},
     "output_type": "execute_result"
    }
   ],
   "source": [
    "x[:5]"
   ]
  },
  {
   "cell_type": "markdown",
   "id": "badab38d-a70e-481f-907f-e7905f89075e",
   "metadata": {},
   "source": [
    "Display every other element."
   ]
  },
  {
   "cell_type": "code",
   "execution_count": 4,
   "id": "1cc1f5c4-6f95-4e66-a0ad-2c9bfb8dcdae",
   "metadata": {},
   "outputs": [
    {
     "data": {
      "text/plain": [
       "array([0, 2, 4, 6, 8])"
      ]
     },
     "execution_count": 4,
     "metadata": {},
     "output_type": "execute_result"
    }
   ],
   "source": [
    "x[::2]"
   ]
  },
  {
   "cell_type": "markdown",
   "id": "76926a32-e911-436f-a577-3dee87d7fda9",
   "metadata": {},
   "source": [
    "Display the elements from index 5 in reverse order."
   ]
  },
  {
   "cell_type": "code",
   "execution_count": 5,
   "id": "a58a515c-67cc-477d-907c-5cd7e8933284",
   "metadata": {},
   "outputs": [
    {
     "data": {
      "text/plain": [
       "array([5, 4, 3, 2, 1, 0])"
      ]
     },
     "execution_count": 5,
     "metadata": {},
     "output_type": "execute_result"
    }
   ],
   "source": [
    "x[5::-1]"
   ]
  },
  {
   "cell_type": "code",
   "execution_count": 6,
   "id": "68524504-5f8d-4f02-8a46-f3c277bc1ec2",
   "metadata": {},
   "outputs": [],
   "source": [
    "# two dimensional array\n",
    "y = np.array([[12,  5,  2,  4],\n",
    "       [ 7,  6,  8,  8],\n",
    "       [ 1,  6,  7,  7]])"
   ]
  },
  {
   "cell_type": "markdown",
   "id": "415e37d1-59a1-4c61-9066-696a28191e02",
   "metadata": {},
   "source": [
    "Display the first 2 rows and the first 3 columns."
   ]
  },
  {
   "cell_type": "code",
   "execution_count": 7,
   "id": "ada54d64-1387-4eae-b3eb-5f3071ab41c5",
   "metadata": {},
   "outputs": [
    {
     "data": {
      "text/plain": [
       "array([[12,  5,  2],\n",
       "       [ 7,  6,  8]])"
      ]
     },
     "execution_count": 7,
     "metadata": {},
     "output_type": "execute_result"
    }
   ],
   "source": [
    "y[:2, :3] "
   ]
  },
  {
   "cell_type": "markdown",
   "id": "4821e069-a371-4814-b40c-9859ea10b47d",
   "metadata": {},
   "source": [
    "Display the first column of y."
   ]
  },
  {
   "cell_type": "code",
   "execution_count": 8,
   "id": "f2728ee2-6f1a-4f55-9e52-e9529de3cad8",
   "metadata": {},
   "outputs": [
    {
     "data": {
      "text/plain": [
       "array([12,  7,  1])"
      ]
     },
     "execution_count": 8,
     "metadata": {},
     "output_type": "execute_result"
    }
   ],
   "source": [
    "y[:,0]"
   ]
  },
  {
   "cell_type": "markdown",
   "id": "205ea705-fe12-4b4c-8d56-8800fc25ad4a",
   "metadata": {},
   "source": [
    "Display the first row of y."
   ]
  },
  {
   "cell_type": "code",
   "execution_count": 9,
   "id": "b7db8b7e-fa30-4fec-8a97-dbb9e1bf9c33",
   "metadata": {},
   "outputs": [
    {
     "data": {
      "text/plain": [
       "array([12,  5,  2,  4])"
      ]
     },
     "execution_count": 9,
     "metadata": {},
     "output_type": "execute_result"
    }
   ],
   "source": [
    "y[0,:]"
   ]
  },
  {
   "cell_type": "markdown",
   "id": "008415ff-dc47-4643-b0f7-80df6bbaac11",
   "metadata": {},
   "source": [
    "Read the contents of file cdc_1.csv, containing heights, weights and ages, into array data."
   ]
  },
  {
   "cell_type": "code",
   "execution_count": 10,
   "id": "bfc73263-5e7e-49b7-ac7c-be93e941ee18",
   "metadata": {},
   "outputs": [],
   "source": [
    "data = np.genfromtxt('data/cdc_1.csv', delimiter=',', skip_header=1)"
   ]
  },
  {
   "cell_type": "code",
   "execution_count": 11,
   "id": "07a46b15-12bc-4d85-a28d-9d86301ac497",
   "metadata": {},
   "outputs": [
    {
     "data": {
      "text/plain": [
       "array([[ 70., 175.,  77.],\n",
       "       [ 71., 194.,  31.],\n",
       "       [ 67., 170.,  45.],\n",
       "       ...,\n",
       "       [ 69., 224.,  73.],\n",
       "       [ 73., 200.,  35.],\n",
       "       [ 69., 170.,  83.]])"
      ]
     },
     "execution_count": 11,
     "metadata": {},
     "output_type": "execute_result"
    }
   ],
   "source": [
    "data"
   ]
  },
  {
   "cell_type": "markdown",
   "id": "2e82db9a-b729-43a6-a581-6f6a67549437",
   "metadata": {},
   "source": [
    "Calculate the minimum, maximum and mean height, weight and age."
   ]
  },
  {
   "cell_type": "code",
   "execution_count": 12,
   "id": "d014b599-3f5a-4cc2-bad3-0145829698b2",
   "metadata": {},
   "outputs": [
    {
     "data": {
      "text/plain": [
       "array([49., 78., 18.])"
      ]
     },
     "execution_count": 12,
     "metadata": {},
     "output_type": "execute_result"
    }
   ],
   "source": [
    "data.min(axis=0)"
   ]
  },
  {
   "cell_type": "code",
   "execution_count": 13,
   "id": "917062dd-5706-40f7-84a0-d0f25880ce1b",
   "metadata": {},
   "outputs": [
    {
     "data": {
      "text/plain": [
       "array([ 93., 500.,  94.])"
      ]
     },
     "execution_count": 13,
     "metadata": {},
     "output_type": "execute_result"
    }
   ],
   "source": [
    "data.max(axis=0)"
   ]
  },
  {
   "cell_type": "code",
   "execution_count": 14,
   "id": "b616d931-a43a-4f0d-a1b3-86412e960982",
   "metadata": {},
   "outputs": [
    {
     "data": {
      "text/plain": [
       "array([ 70.25164594, 189.32270875,  44.27306929])"
      ]
     },
     "execution_count": 14,
     "metadata": {},
     "output_type": "execute_result"
    }
   ],
   "source": [
    "data.mean(axis=0)"
   ]
  },
  {
   "cell_type": "markdown",
   "id": "24d47563-14d0-4dcf-ba3d-69e64167b145",
   "metadata": {},
   "source": [
    "### Descriptive statistics with numpy"
   ]
  },
  {
   "cell_type": "code",
   "execution_count": 15,
   "id": "d2da7c70-090f-4924-8604-b7cb56224036",
   "metadata": {},
   "outputs": [],
   "source": [
    "# import necessary libraries\n",
    "import numpy as np\n",
    "import scipy.stats"
   ]
  },
  {
   "cell_type": "markdown",
   "id": "e94222e5-6c21-4cb0-85d1-44965d17b02f",
   "metadata": {},
   "source": [
    "Read the contents of file cdc_nan.csv, containing heights, weights and ages, into array data."
   ]
  },
  {
   "cell_type": "code",
   "execution_count": 16,
   "id": "9f2f5660-b214-40e7-a0a6-f7e9ee940848",
   "metadata": {},
   "outputs": [],
   "source": [
    "data = np.genfromtxt('data/cdc.csv', delimiter=',', skip_header=1)"
   ]
  },
  {
   "cell_type": "markdown",
   "id": "05f8b594-4438-4545-9f98-d7577b483c39",
   "metadata": {},
   "source": [
    "Separate the heights (column 0) and the weights (column 1)"
   ]
  },
  {
   "cell_type": "code",
   "execution_count": 17,
   "id": "eb19e400-edac-4071-b833-e9829f30d1c8",
   "metadata": {},
   "outputs": [],
   "source": [
    "heights = data[:,0]"
   ]
  },
  {
   "cell_type": "code",
   "execution_count": 18,
   "id": "0745b731-4b3b-43ce-ba40-eb82b92263a0",
   "metadata": {},
   "outputs": [],
   "source": [
    "weights = data[:,1]"
   ]
  },
  {
   "cell_type": "markdown",
   "id": "a40dd1eb-e018-4158-8ac3-7de2df158251",
   "metadata": {},
   "source": [
    "### Univariate"
   ]
  },
  {
   "cell_type": "markdown",
   "id": "4d2c5075-d6e1-4a19-b3cd-e6732b6b9251",
   "metadata": {},
   "source": [
    "#### Measures of central tendency"
   ]
  },
  {
   "cell_type": "markdown",
   "id": "969b76c2-cff9-40a2-95be-aa41dce18b9c",
   "metadata": {},
   "source": [
    "##### Median"
   ]
  },
  {
   "cell_type": "markdown",
   "id": "cd159563-0c9a-418a-8d62-9f870eb31ad4",
   "metadata": {},
   "source": [
    "Calculate the median for the heights and the weights and assign the values to variables."
   ]
  },
  {
   "cell_type": "code",
   "execution_count": 19,
   "id": "82db60ca-2451-489e-9b48-092a856bf486",
   "metadata": {},
   "outputs": [
    {
     "data": {
      "text/plain": [
       "70.0"
      ]
     },
     "execution_count": 19,
     "metadata": {},
     "output_type": "execute_result"
    }
   ],
   "source": [
    "median_heights = np.median(heights)\n",
    "median_heights"
   ]
  },
  {
   "cell_type": "code",
   "execution_count": 20,
   "id": "d0ad4188-c816-470f-88ae-7851480f0ad5",
   "metadata": {},
   "outputs": [
    {
     "data": {
      "text/plain": [
       "nan"
      ]
     },
     "execution_count": 20,
     "metadata": {},
     "output_type": "execute_result"
    }
   ],
   "source": [
    "median_weights = np.median(weights)\n",
    "median_weights"
   ]
  },
  {
   "cell_type": "markdown",
   "id": "1fd27ec4-8735-4fb3-a94f-b83985029e03",
   "metadata": {},
   "source": [
    "What has happened? Check if the arrays contain missing values."
   ]
  },
  {
   "cell_type": "code",
   "execution_count": 21,
   "id": "013b3f00-55be-45df-8d12-f96b14b7b098",
   "metadata": {},
   "outputs": [
    {
     "data": {
      "text/plain": [
       "array([False, False, False, ..., False, False, False])"
      ]
     },
     "execution_count": 21,
     "metadata": {},
     "output_type": "execute_result"
    }
   ],
   "source": [
    "np.isnan(heights)"
   ]
  },
  {
   "cell_type": "code",
   "execution_count": 22,
   "id": "097ed243-3dd9-4876-b681-6c01f755850f",
   "metadata": {},
   "outputs": [
    {
     "data": {
      "text/plain": [
       "0"
      ]
     },
     "execution_count": 22,
     "metadata": {},
     "output_type": "execute_result"
    }
   ],
   "source": [
    "np.sum(np.isnan(heights))"
   ]
  },
  {
   "cell_type": "code",
   "execution_count": 23,
   "id": "05c9d04b-bdd2-43a8-b3b1-9c144191e85d",
   "metadata": {},
   "outputs": [
    {
     "data": {
      "text/plain": [
       "array([False, False, False, ..., False, False, False])"
      ]
     },
     "execution_count": 23,
     "metadata": {},
     "output_type": "execute_result"
    }
   ],
   "source": [
    "np.isnan(weights)"
   ]
  },
  {
   "cell_type": "code",
   "execution_count": 24,
   "id": "83b9cba9-d1a8-416a-b5e4-96b440d27223",
   "metadata": {},
   "outputs": [
    {
     "data": {
      "text/plain": [
       "3"
      ]
     },
     "execution_count": 24,
     "metadata": {},
     "output_type": "execute_result"
    }
   ],
   "source": [
    "np.sum(np.isnan(weights))"
   ]
  },
  {
   "cell_type": "markdown",
   "id": "71b9221c-4f47-4fa7-b32f-3e71ecd73fb1",
   "metadata": {},
   "source": [
    "Array weights contain 3 nan values. Find their positions."
   ]
  },
  {
   "cell_type": "code",
   "execution_count": 25,
   "id": "fe100b9f-10c6-4440-9e92-65d65fbade84",
   "metadata": {},
   "outputs": [
    {
     "data": {
      "text/plain": [
       "array([[ 3],\n",
       "       [11],\n",
       "       [17]], dtype=int64)"
      ]
     },
     "execution_count": 25,
     "metadata": {},
     "output_type": "execute_result"
    }
   ],
   "source": [
    "np.argwhere(np.isnan(weights))"
   ]
  },
  {
   "cell_type": "markdown",
   "id": "234da548-b436-4523-b77f-7f75a71dd3ae",
   "metadata": {},
   "source": [
    "Now calculate the median for the weights ignoring the nan values."
   ]
  },
  {
   "cell_type": "code",
   "execution_count": 26,
   "id": "45de9f28-44a2-4324-9729-b53ca86241a2",
   "metadata": {},
   "outputs": [
    {
     "data": {
      "text/plain": [
       "185.0"
      ]
     },
     "execution_count": 26,
     "metadata": {},
     "output_type": "execute_result"
    }
   ],
   "source": [
    "median_weights = np.nanmedian(weights)\n",
    "median_weights"
   ]
  },
  {
   "cell_type": "markdown",
   "id": "7119bc6f-7447-4fa3-bdef-b1a00b4e3ef0",
   "metadata": {},
   "source": [
    "##### Mode"
   ]
  },
  {
   "cell_type": "code",
   "execution_count": 27,
   "id": "de0cd286-bfdd-4c1e-96b9-7eff7dbdb20b",
   "metadata": {},
   "outputs": [],
   "source": [
    "xx = [1, 4, 4, 5, 5, 8, 2, 7, 7, 7]\n",
    "xxx = [1, 4, 4, 5, 5, 8, 2, 7, 7]\n",
    "\n",
    "yy = np.array(xx)\n",
    "yyy = np.array(xxx)"
   ]
  },
  {
   "cell_type": "code",
   "execution_count": 28,
   "id": "22d69ea2-824c-4ae4-b0c2-516f6e01dcf7",
   "metadata": {
    "scrolled": true
   },
   "outputs": [
    {
     "data": {
      "text/plain": [
       "ModeResult(mode=7, count=3)"
      ]
     },
     "execution_count": 28,
     "metadata": {},
     "output_type": "execute_result"
    }
   ],
   "source": [
    "# unimodal data set\n",
    "mode_yy = scipy.stats.mode(yy)\n",
    "mode_yy"
   ]
  },
  {
   "cell_type": "code",
   "execution_count": 29,
   "id": "037f3a01-58b9-49f7-81a1-b5c2e5eace6a",
   "metadata": {},
   "outputs": [
    {
     "data": {
      "text/plain": [
       "(7, 3)"
      ]
     },
     "execution_count": 29,
     "metadata": {},
     "output_type": "execute_result"
    }
   ],
   "source": [
    "mode_yy.mode, mode_yy.count"
   ]
  },
  {
   "cell_type": "code",
   "execution_count": 30,
   "id": "2d6c6be5-048d-4f4f-bfe5-e70ed91ed847",
   "metadata": {},
   "outputs": [
    {
     "data": {
      "text/plain": [
       "ModeResult(mode=4, count=2)"
      ]
     },
     "execution_count": 30,
     "metadata": {},
     "output_type": "execute_result"
    }
   ],
   "source": [
    "# multimodal data set - only the smallest mode value is returned.\n",
    "mode_yyy = scipy.stats.mode(yyy)\n",
    "mode_yyy"
   ]
  },
  {
   "cell_type": "code",
   "execution_count": 31,
   "id": "f570fb56-9750-4838-a080-37fc9fb96092",
   "metadata": {},
   "outputs": [
    {
     "data": {
      "text/plain": [
       "ModeResult(mode=4.0, count=2)"
      ]
     },
     "execution_count": 31,
     "metadata": {},
     "output_type": "execute_result"
    }
   ],
   "source": [
    "# When there are nan\n",
    "xyz = np.array([1, 4, 4, 5, 5, 8, 2, 7, 7, np.nan, np.nan])\n",
    "mode_xyz = scipy.stats.mode(xyz)\n",
    "mode_xyz"
   ]
  },
  {
   "cell_type": "code",
   "execution_count": 32,
   "id": "10a6bc98-d636-42a6-9251-27878733c919",
   "metadata": {},
   "outputs": [
    {
     "data": {
      "text/plain": [
       "ModeResult(mode=nan, count=3)"
      ]
     },
     "execution_count": 32,
     "metadata": {},
     "output_type": "execute_result"
    }
   ],
   "source": [
    "# When there are nan\n",
    "xyz = np.array([1, 4, 4, 5, 5, 8, 2, 7, 7, np.nan, np.nan, np.nan])\n",
    "mode_xyz = scipy.stats.mode(xyz)\n",
    "mode_xyz"
   ]
  },
  {
   "cell_type": "markdown",
   "id": "526cb2bc-fdb3-4b21-875f-89610810d330",
   "metadata": {},
   "source": [
    "##### Mean"
   ]
  },
  {
   "cell_type": "markdown",
   "id": "96a36e16-d998-44dd-8db6-e7dac5f133fd",
   "metadata": {},
   "source": [
    "Calculate the mean values for heights and weights."
   ]
  },
  {
   "cell_type": "code",
   "execution_count": 33,
   "id": "a7a53c32-7937-4389-a798-b2542d0f65d5",
   "metadata": {},
   "outputs": [
    {
     "data": {
      "text/plain": [
       "70.25164594001463"
      ]
     },
     "execution_count": 33,
     "metadata": {},
     "output_type": "execute_result"
    }
   ],
   "source": [
    "mean_heights = np.mean(heights)\n",
    "mean_heights"
   ]
  },
  {
   "cell_type": "code",
   "execution_count": 34,
   "id": "be3f3e16-3b23-42f6-9006-a853abeb4cf1",
   "metadata": {},
   "outputs": [
    {
     "data": {
      "text/plain": [
       "189.3251097637466"
      ]
     },
     "execution_count": 34,
     "metadata": {},
     "output_type": "execute_result"
    }
   ],
   "source": [
    "mean_weights = np.nanmean(weights)\n",
    "mean_weights"
   ]
  },
  {
   "cell_type": "markdown",
   "id": "a32ec3b5-b366-48d4-94dd-9efa8c73dbb6",
   "metadata": {},
   "source": [
    "#### Measures of spread (variability)"
   ]
  },
  {
   "cell_type": "markdown",
   "id": "2a56a26b-6574-4253-9400-2b62e1a10d9b",
   "metadata": {},
   "source": [
    "##### Range"
   ]
  },
  {
   "cell_type": "markdown",
   "id": "3981741b-87a1-4bbd-9fb6-7c1a3e74a855",
   "metadata": {},
   "source": [
    "Calculate the range of the heights and the weights. Range is the difference between the maximum and the minimum value."
   ]
  },
  {
   "cell_type": "code",
   "execution_count": 35,
   "id": "7266eab6-9fc4-46b9-a1c2-10daa55690f6",
   "metadata": {},
   "outputs": [
    {
     "data": {
      "text/plain": [
       "44.0"
      ]
     },
     "execution_count": 35,
     "metadata": {},
     "output_type": "execute_result"
    }
   ],
   "source": [
    "range_heights = np.max(heights) - np.min(heights)\n",
    "range_heights"
   ]
  },
  {
   "cell_type": "code",
   "execution_count": 36,
   "id": "ef95d5e5-8b61-4fce-957a-732a656769b8",
   "metadata": {},
   "outputs": [
    {
     "data": {
      "text/plain": [
       "nan"
      ]
     },
     "execution_count": 36,
     "metadata": {},
     "output_type": "execute_result"
    }
   ],
   "source": [
    "range_weights = np.max(weights) - np.min(weights)\n",
    "range_weights"
   ]
  },
  {
   "cell_type": "code",
   "execution_count": 37,
   "id": "7818e0c5-f6d7-473d-8ad2-fa93d0bc227e",
   "metadata": {},
   "outputs": [
    {
     "data": {
      "text/plain": [
       "422.0"
      ]
     },
     "execution_count": 37,
     "metadata": {},
     "output_type": "execute_result"
    }
   ],
   "source": [
    "range_weights = np.nanmax(weights) - np.nanmin(weights)\n",
    "range_weights"
   ]
  },
  {
   "cell_type": "markdown",
   "id": "38e78504-4961-4320-b8c5-4dd08b9615d0",
   "metadata": {},
   "source": [
    "##### Interquartile Range (IQR)"
   ]
  },
  {
   "cell_type": "markdown",
   "id": "e73d91ef-0f71-424f-a8e4-3a10a101ee87",
   "metadata": {},
   "source": [
    "Find the quartiles for the heights and the weights, and the Interquartile Range (IQR)."
   ]
  },
  {
   "cell_type": "code",
   "execution_count": 38,
   "id": "1e5656cc-0cd3-486f-9b51-87fdd0b0d852",
   "metadata": {},
   "outputs": [
    {
     "data": {
      "text/plain": [
       "array([68., 70., 72.])"
      ]
     },
     "execution_count": 38,
     "metadata": {},
     "output_type": "execute_result"
    }
   ],
   "source": [
    "quant_heights = np.quantile(heights, [0.25, 0.5, 0.75])\n",
    "quant_heights"
   ]
  },
  {
   "cell_type": "code",
   "execution_count": 39,
   "id": "e3aa492b-05c8-46ab-a91c-aed5e5666adc",
   "metadata": {},
   "outputs": [
    {
     "data": {
      "text/plain": [
       "4.0"
      ]
     },
     "execution_count": 39,
     "metadata": {},
     "output_type": "execute_result"
    }
   ],
   "source": [
    "IQR_heights = quant_heights[2] - quant_heights[0]\n",
    "IQR_heights"
   ]
  },
  {
   "cell_type": "code",
   "execution_count": 40,
   "id": "8cfa91e4-d18f-44ae-8f3b-4a89eeb4c9e4",
   "metadata": {},
   "outputs": [
    {
     "data": {
      "text/plain": [
       "array([nan, nan, nan])"
      ]
     },
     "execution_count": 40,
     "metadata": {},
     "output_type": "execute_result"
    }
   ],
   "source": [
    "quant_weights = np.quantile(weights, [0.25, 0.5, 0.75])\n",
    "quant_weights"
   ]
  },
  {
   "cell_type": "code",
   "execution_count": 41,
   "id": "9621360b-1f4c-4064-92c4-6b57e308ece4",
   "metadata": {},
   "outputs": [
    {
     "data": {
      "text/plain": [
       "array([165., 185., 210.])"
      ]
     },
     "execution_count": 41,
     "metadata": {},
     "output_type": "execute_result"
    }
   ],
   "source": [
    "quant_weights = np.nanquantile(weights, [0.25, 0.5, 0.75])\n",
    "quant_weights"
   ]
  },
  {
   "cell_type": "code",
   "execution_count": 42,
   "id": "1edb787c-540c-4939-8962-6909abc839b7",
   "metadata": {},
   "outputs": [
    {
     "data": {
      "text/plain": [
       "45.0"
      ]
     },
     "execution_count": 42,
     "metadata": {},
     "output_type": "execute_result"
    }
   ],
   "source": [
    "IQR_weights = quant_weights[2] - quant_weights[0]\n",
    "IQR_weights"
   ]
  },
  {
   "cell_type": "markdown",
   "id": "7d83f626-7a51-4a9c-9b6f-f8b4bf8c4180",
   "metadata": {},
   "source": [
    "##### Variance"
   ]
  },
  {
   "cell_type": "markdown",
   "id": "12464100-25e2-4b33-b6ef-dece8c2e2dfe",
   "metadata": {},
   "source": [
    "Calculate population and sample variance for heights and weights."
   ]
  },
  {
   "cell_type": "code",
   "execution_count": 43,
   "id": "4b4c9183-0360-4a15-9204-0fb0cf792685",
   "metadata": {},
   "outputs": [
    {
     "data": {
      "text/plain": [
       "9.054450473032162"
      ]
     },
     "execution_count": 43,
     "metadata": {},
     "output_type": "execute_result"
    }
   ],
   "source": [
    "# population variance - heights\n",
    "var_pop_heights = np.var(heights,ddof=0)\n",
    "var_pop_heights"
   ]
  },
  {
   "cell_type": "code",
   "execution_count": 44,
   "id": "886def26-5e27-4fff-b089-2308acb75b8b",
   "metadata": {},
   "outputs": [
    {
     "data": {
      "text/plain": [
       "9.055396799377588"
      ]
     },
     "execution_count": 44,
     "metadata": {},
     "output_type": "execute_result"
    }
   ],
   "source": [
    "# sample variance - heights\n",
    "var_sample_heights = np.var(heights,ddof=1)\n",
    "var_sample_heights"
   ]
  },
  {
   "cell_type": "code",
   "execution_count": 45,
   "id": "7bcd23cc-76cb-45b6-9297-57137d936db8",
   "metadata": {},
   "outputs": [
    {
     "data": {
      "text/plain": [
       "nan"
      ]
     },
     "execution_count": 45,
     "metadata": {},
     "output_type": "execute_result"
    }
   ],
   "source": [
    "# population variance - weights\n",
    "var_pop_weights = np.var(weights,ddof=0)\n",
    "var_pop_weights"
   ]
  },
  {
   "cell_type": "code",
   "execution_count": 46,
   "id": "9f54e0c4-6955-471e-aaf1-f6c75c504770",
   "metadata": {},
   "outputs": [
    {
     "data": {
      "text/plain": [
       "1336.1876341871994"
      ]
     },
     "execution_count": 46,
     "metadata": {},
     "output_type": "execute_result"
    }
   ],
   "source": [
    "# population variance - weights\n",
    "var_pop_weights = np.nanvar(weights,ddof=0)\n",
    "var_pop_weights"
   ]
  },
  {
   "cell_type": "code",
   "execution_count": 47,
   "id": "24b6981c-bf20-4bc2-badb-6d60d7bbc095",
   "metadata": {},
   "outputs": [
    {
     "data": {
      "text/plain": [
       "1336.3273297056714"
      ]
     },
     "execution_count": 47,
     "metadata": {},
     "output_type": "execute_result"
    }
   ],
   "source": [
    "# sample variance - weights\n",
    "var_sample_weights = np.nanvar(weights,ddof=1)\n",
    "var_sample_weights"
   ]
  },
  {
   "cell_type": "markdown",
   "id": "f242a789-6a51-4762-9a59-dc83cf720c6d",
   "metadata": {},
   "source": [
    "##### Standard deviation"
   ]
  },
  {
   "cell_type": "markdown",
   "id": "0278c48f-e4b9-42df-aba8-08d3041444fc",
   "metadata": {},
   "source": [
    "Calculate population and sample standard deviation for heights and weights."
   ]
  },
  {
   "cell_type": "code",
   "execution_count": 48,
   "id": "804ad7b6-f37e-43ef-b66d-6fa883efd10b",
   "metadata": {},
   "outputs": [
    {
     "data": {
      "text/plain": [
       "3.009061394028404"
      ]
     },
     "execution_count": 48,
     "metadata": {},
     "output_type": "execute_result"
    }
   ],
   "source": [
    "# population standard variation - heights\n",
    "std_pop_heights = np.std(heights,ddof=0)\n",
    "std_pop_heights"
   ]
  },
  {
   "cell_type": "code",
   "execution_count": 49,
   "id": "f2560353-f8fc-4cb5-9d19-bd4864ff3193",
   "metadata": {},
   "outputs": [
    {
     "data": {
      "text/plain": [
       "3.009218636021249"
      ]
     },
     "execution_count": 49,
     "metadata": {},
     "output_type": "execute_result"
    }
   ],
   "source": [
    "# sample standard deviation - heights\n",
    "std_sample_heights = np.std(heights,ddof=1)\n",
    "std_sample_heights"
   ]
  },
  {
   "cell_type": "code",
   "execution_count": 50,
   "id": "111bf6a6-7549-40f5-9d8c-163bdd336d31",
   "metadata": {},
   "outputs": [
    {
     "data": {
      "text/plain": [
       "nan"
      ]
     },
     "execution_count": 50,
     "metadata": {},
     "output_type": "execute_result"
    }
   ],
   "source": [
    "# population standard deviation - weights\n",
    "std_pop_weights = np.std(weights,ddof=0)\n",
    "std_pop_weights"
   ]
  },
  {
   "cell_type": "code",
   "execution_count": 51,
   "id": "f82e0e18-39b2-4166-9cfd-64401e9166f2",
   "metadata": {},
   "outputs": [
    {
     "data": {
      "text/plain": [
       "36.55390039636262"
      ]
     },
     "execution_count": 51,
     "metadata": {},
     "output_type": "execute_result"
    }
   ],
   "source": [
    "# population standard deviation - weights\n",
    "std_pop_weights = np.nanstd(weights,ddof=0)\n",
    "std_pop_weights"
   ]
  },
  {
   "cell_type": "code",
   "execution_count": 52,
   "id": "67ef04ea-5887-4f60-9626-a198dfe3348d",
   "metadata": {},
   "outputs": [
    {
     "data": {
      "text/plain": [
       "36.555811161916125"
      ]
     },
     "execution_count": 52,
     "metadata": {},
     "output_type": "execute_result"
    }
   ],
   "source": [
    "# sample standard deviation - weights\n",
    "std_sample_weights = np.nanstd(weights,ddof=1)\n",
    "std_sample_weights"
   ]
  },
  {
   "cell_type": "markdown",
   "id": "649a62d3-f233-40a2-b0a9-7b59a78f9a53",
   "metadata": {},
   "source": [
    "### Bivariate"
   ]
  },
  {
   "cell_type": "markdown",
   "id": "c0feedee-17d4-46e1-b172-abacac0efabd",
   "metadata": {},
   "source": [
    "#### Covariance"
   ]
  },
  {
   "cell_type": "markdown",
   "id": "af53868a-574c-444e-929d-193e3c0e3232",
   "metadata": {},
   "source": [
    "Find the covariance between heights and weights and comment on its direction and strength. "
   ]
  },
  {
   "cell_type": "code",
   "execution_count": 53,
   "id": "7c8eed7c-5be4-4a57-8b1c-7dc2c655ae17",
   "metadata": {},
   "outputs": [
    {
     "data": {
      "text/plain": [
       "array([[9.0553968,       nan],\n",
       "       [      nan,       nan]])"
      ]
     },
     "execution_count": 53,
     "metadata": {},
     "output_type": "execute_result"
    }
   ],
   "source": [
    "cov_matrix = np.cov(heights,weights)\n",
    "cov_matrix"
   ]
  },
  {
   "cell_type": "code",
   "execution_count": 54,
   "id": "7c0131af-4132-4424-8112-2f81bead8a8c",
   "metadata": {},
   "outputs": [],
   "source": [
    "weights_1 = weights[~np.isnan(weights)]\n",
    "heights_1 = heights[~np.isnan(weights)]"
   ]
  },
  {
   "cell_type": "code",
   "execution_count": 55,
   "id": "1a554780-5bc5-47cb-9658-e8806b0b300e",
   "metadata": {},
   "outputs": [
    {
     "data": {
      "text/plain": [
       "array([[   9.05811323,   47.78471363],\n",
       "       [  47.78471363, 1336.32732971]])"
      ]
     },
     "execution_count": 55,
     "metadata": {},
     "output_type": "execute_result"
    }
   ],
   "source": [
    "cov_matrix = np.cov(heights_1,weights_1)\n",
    "cov_matrix"
   ]
  },
  {
   "cell_type": "markdown",
   "id": "6054e1f7-f59a-4db8-96ce-bceb4c2a0be9",
   "metadata": {},
   "source": [
    "Positive covariance - height and weight both increase. We cannot judge the strength of the relationship. For that we have to calculate the correlation."
   ]
  },
  {
   "cell_type": "markdown",
   "id": "fae3ef29-1aec-440a-b455-0ea28bb9f3b9",
   "metadata": {},
   "source": [
    "#### Correlation"
   ]
  },
  {
   "cell_type": "markdown",
   "id": "d3181445-68c0-4bf2-8fce-fa31f22b7355",
   "metadata": {},
   "source": [
    "Find the correlation between heights and weights and comment on its direction and strength. "
   ]
  },
  {
   "cell_type": "code",
   "execution_count": 56,
   "id": "8a1d3981-cd85-4af7-b492-2dab4f140553",
   "metadata": {},
   "outputs": [
    {
     "data": {
      "text/plain": [
       "array([[ 1., nan],\n",
       "       [nan, nan]])"
      ]
     },
     "execution_count": 56,
     "metadata": {},
     "output_type": "execute_result"
    }
   ],
   "source": [
    "corr_matrix = np.corrcoef(heights,weights)\n",
    "corr_matrix"
   ]
  },
  {
   "cell_type": "code",
   "execution_count": 57,
   "id": "7bef62df-039c-4839-9826-1cdfcc27e360",
   "metadata": {},
   "outputs": [
    {
     "data": {
      "text/plain": [
       "array([[1.        , 0.43432386],\n",
       "       [0.43432386, 1.        ]])"
      ]
     },
     "execution_count": 57,
     "metadata": {},
     "output_type": "execute_result"
    }
   ],
   "source": [
    "corr_matrix = np.corrcoef(heights_1,weights_1)\n",
    "corr_matrix"
   ]
  },
  {
   "cell_type": "markdown",
   "id": "3ee3df8e-2c73-446c-9c21-aae767d9d3bc",
   "metadata": {},
   "source": [
    "Positive correlation - height and weight both increase. Weak correlation (<0.5)."
   ]
  }
 ],
 "metadata": {
  "kernelspec": {
   "display_name": "Python 3 (ipykernel)",
   "language": "python",
   "name": "python3"
  },
  "language_info": {
   "codemirror_mode": {
    "name": "ipython",
    "version": 3
   },
   "file_extension": ".py",
   "mimetype": "text/x-python",
   "name": "python",
   "nbconvert_exporter": "python",
   "pygments_lexer": "ipython3",
   "version": "3.11.5"
  }
 },
 "nbformat": 4,
 "nbformat_minor": 5
}
